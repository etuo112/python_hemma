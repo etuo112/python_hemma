{
 "cells": [
  {
   "cell_type": "code",
   "execution_count": 1,
   "metadata": {
    "collapsed": false
   },
   "outputs": [
    {
     "data": {
      "text/html": [
       "<style>\n",
       "\n",
       "body {\n",
       " counter-reset: h2counter;\n",
       "}\n",
       "h1 {\n",
       " counter-reset: h2counter;\n",
       "}\n",
       "h2:before {\n",
       " content: counter(h2counter) \".\\0000a0\\0000a0\";\n",
       " counter-increment: h2counter;\n",
       " counter-reset: h3counter;\n",
       "}\n",
       "\n",
       "\n",
       "</style>\n"
      ],
      "text/plain": [
       "<IPython.core.display.HTML object>"
      ]
     },
     "execution_count": 1,
     "metadata": {},
     "output_type": "execute_result"
    }
   ],
   "source": [
    "from IPython.core.display import HTML\n",
    "def css_styling():\n",
    "    styles = open(\"./styles/custom.css\", \"r\").read()\n",
    "    return HTML(styles)\n",
    "css_styling()"
   ]
  },
  {
   "cell_type": "markdown",
   "metadata": {},
   "source": [
    "__PULL__ the changes you made at home to your local copy on the M drive.\n",
    "\n",
    "If you need a reminder of how to do this:\n",
    "\n",
    "Open Jupyter notebook:\n",
    "<br> Start >> Programs >> Programming >> Anaconda3 >> JupyterNotebook\n",
    "<br>(Start >> すべてのプログラム >> Programming >> Anaconda3 >> JupyterNotebook)\n",
    "\n",
    "Navigate to where your interactive textbook is stored.\n",
    "\n",
    "Open __S1_Introduction_to_Version_Control__.  "
   ]
  },
  {
   "cell_type": "markdown",
   "metadata": {
    "collapsed": true
   },
   "source": [
    "We will start by learning to __PULL__ the solutions to the Review Excercises an online repository. \n",
    "\n",
    "This will allow you to check your answers. \n",
    "\n",
    "Open Jupyter notebook:\n",
    "<br> Start >> Programs >> Programming >> Anaconda3 >> JupyterNotebook\n",
    "<br>(Start >> すべてのプログラム >> Programming >> Anaconda3 >> JupyterNotebook)\n",
    "\n",
    "Navigate to where your interactive textbook is stored.\n",
    "\n",
    "Open __S1_Introduction_to_Version_Control__.  "
   ]
  },
  {
   "cell_type": "markdown",
   "metadata": {},
   "source": [
    "Open Jupyter notebook:\n",
    "<br> Start >> Programs >> Programming >> Anaconda3 >> JupyterNotebook\n",
    "<br>(Start >> すべてのプログラム >> Programming >> Anaconda3 >> JupyterNotebook)\n",
    "\n",
    "We will start by learning how to add the __solutions to the Review Exercises__ to your interative textbook. \n",
    "\n",
    "Navigate to where your interactive textbook is stored.\n",
    "\n",
    "Open __S1_Introduction_to_Version_Control__.  \n"
   ]
  },
  {
   "cell_type": "markdown",
   "metadata": {},
   "source": [
    "In Jupyter notebook, select the tab with the contents list of the interactive textbook:\n",
    "    \n",
    "Open __Seminar 3__  by clicking on __3_Data_Structures__."
   ]
  },
  {
   "cell_type": "markdown",
   "metadata": {
    "collapsed": true,
    "slideshow": {
     "slide_type": "slide"
    }
   },
   "source": [
    "# Data Structures\n",
    "\n",
    "# Lesson Goal\n",
    "\n",
    " - Compose simple programs to control the flow with which the operators we have studied so far are executed on:\n",
    "  - single value variables.\n",
    "  - data structures (holding mutiple variables)\n",
    "\n",
    "\n"
   ]
  },
  {
   "cell_type": "markdown",
   "metadata": {
    "slideshow": {
     "slide_type": "slide"
    }
   },
   "source": [
    "# Objectives\n",
    "\n",
    "\n",
    " - Express collections of mulitple variables as `list`, `tuple` and dictionary (`dict`).\n",
    " \n",
    "- Use iteratation to visit entries in a data structure \n",
    "\n",
    "\n",
    "- Learn to select the right data structure for an application"
   ]
  },
  {
   "cell_type": "markdown",
   "metadata": {
    "slideshow": {
     "slide_type": "slide"
    }
   },
   "source": [
    "Why we are studying this:\n",
    "\n",
    "To use Python to solve more complex engineering problems you are likely to encounter involving:\n",
    " - multi-variable values (e.g. vectors)\n",
    " - large data sets (e.g. experiment results)\n",
    " - manipulating your data using logic \n",
    " <br>\n",
    " (e.g. sorting and categorising answers to an operation performed on multiple data points)\n",
    "\n"
   ]
  },
  {
   "cell_type": "markdown",
   "metadata": {},
   "source": [
    " Lesson structure:\n",
    " - Learn new skills together:\n",
    "  - __Demonstration__ on slides.\n",
    "  - __Completing examples__ in textbooks.\n",
    "  - __Feedback answers__ (verbally / whiteboards)\n",
    " - Practise alone: __Completing review excercises__.\n",
    " - Skills Review: Updating your local repository using an __upstream repository.__\n",
    " - __Summary__and __quiz__."
   ]
  },
  {
   "cell_type": "markdown",
   "metadata": {},
   "source": [
    "In the last seminar we learnt to generate a rnage of numbers for use in control flow of  a program, using the function `range()`:"
   ]
  },
  {
   "cell_type": "code",
   "execution_count": 2,
   "metadata": {
    "collapsed": false
   },
   "outputs": [
    {
     "name": "stdout",
     "output_type": "stream",
     "text": [
      "1 is not a multiple of 4\n",
      "2 is not a multiple of 4\n",
      "3 is not a multiple of 4\n",
      "5 is not a multiple of 4\n",
      "6 is not a multiple of 4\n",
      "7 is not a multiple of 4\n",
      "9 is not a multiple of 4\n",
      "10 is not a multiple of 4\n",
      "11 is not a multiple of 4\n",
      "13 is not a multiple of 4\n",
      "14 is not a multiple of 4\n",
      "15 is not a multiple of 4\n",
      "17 is not a multiple of 4\n",
      "18 is not a multiple of 4\n",
      "19 is not a multiple of 4\n"
     ]
    }
   ],
   "source": [
    "for j in range(20):\n",
    "    \n",
    "    if j % 4 == 0:  # Check remainer of j/4\n",
    "        continue    # continue to next value of j\n",
    "        \n",
    "    print(j, \"is not a multiple of 4\")"
   ]
  },
  {
   "cell_type": "markdown",
   "metadata": {
    "slideshow": {
     "slide_type": "slide"
    }
   },
   "source": [
    "## Data Structures\n",
    "\n",
    "Often we want to manipulate data that is more meaningful than ranges of numbers.\n",
    "\n",
    "These collections of variables might include:\n",
    " - the results of an experiment\n",
    " - a list of names\n",
    " - the components of a vector\n",
    " - a telephone directory with names and associated numbers.\n",
    " \n",
    "\n",
    "\n",
    " \n",
    " "
   ]
  },
  {
   "cell_type": "markdown",
   "metadata": {
    "slideshow": {
     "slide_type": "slide"
    }
   },
   "source": [
    "Python has different __data structures__ that can be used to store and manipulate these values.\n",
    "\n",
    "Like variable types (`string`, `int`,`float`...) different data structures behave in different ways.\n",
    "\n",
    "Today we will learn to use `list`, `tuple` and dictionary (`dict`) data structures."
   ]
  },
  {
   "cell_type": "markdown",
   "metadata": {
    "slideshow": {
     "slide_type": "slide"
    }
   },
   "source": [
    "\n",
    "We will study the differences in how they behave so that you can learn to select the most suitable data structure for an application. "
   ]
  },
  {
   "cell_type": "markdown",
   "metadata": {
    "slideshow": {
     "slide_type": "slide"
    }
   },
   "source": [
    "Programs use data structure to collect data into useful packages. \n",
    "\n",
    ">$ r = [u, v, w] $\n",
    "\n",
    "For example, rather than representing a vector `r` of length 3 using three seperate floats `ru`, `rv` and `rw`, we could represent \n",
    "it as a __list__ of floats:\n",
    "\n",
    "```Python\n",
    "r = [u, v, w]\n",
    "```\n",
    "\n",
    "<img src=\"img/3d_position_vector.png\" alt=\"Drawing\" style=\"width: 175px;\"/>\n",
    "\n",
    "(We will learn what a __list__ is in a moment.)"
   ]
  },
  {
   "cell_type": "markdown",
   "metadata": {
    "slideshow": {
     "slide_type": "slide"
    }
   },
   "source": [
    "If we want to store the names of students in a laboratory group, rather than representing each students using an individual string variable, we could use a list of names, e.g.:\n",
    "\n"
   ]
  },
  {
   "cell_type": "code",
   "execution_count": null,
   "metadata": {
    "collapsed": true
   },
   "outputs": [],
   "source": [
    "lab_group0 = [\"Sarah\", \"John\", \"Joe\", \"Emily\"]\n",
    "lab_group1 = [\"Roger\", \"Rachel\", \"Amer\", \"Caroline\", \"Colin\"]"
   ]
  },
  {
   "cell_type": "markdown",
   "metadata": {
    "slideshow": {
     "slide_type": "slide"
    }
   },
   "source": [
    "This is useful because we can perform operations on lists such as:\n",
    " - checking its length (number of students in a lab group)\n",
    " - sorting the names in the list into alphabetical order\n",
    " - making a list of lists (we call this a *nested list*):\n"
   ]
  },
  {
   "cell_type": "code",
   "execution_count": null,
   "metadata": {
    "collapsed": true
   },
   "outputs": [],
   "source": [
    "lab_groups = [lab_group0, lab_group1]"
   ]
  },
  {
   "cell_type": "markdown",
   "metadata": {
    "slideshow": {
     "slide_type": "slide"
    }
   },
   "source": [
    "## Lists"
   ]
  },
  {
   "cell_type": "markdown",
   "metadata": {
    "slideshow": {
     "slide_type": "slide"
    }
   },
   "source": [
    "A list is a sequence of data. \n",
    "\n",
    "We call each item in the sequence an *element*. \n",
    "\n",
    "A list is constructed using square brackets:\n",
    "\n"
   ]
  },
  {
   "cell_type": "code",
   "execution_count": null,
   "metadata": {
    "collapsed": true
   },
   "outputs": [],
   "source": [
    "a = [1, 2, 3]"
   ]
  },
  {
   "cell_type": "markdown",
   "metadata": {
    "slideshow": {
     "slide_type": "slide"
    }
   },
   "source": [
    "A `range` can be converted to a list with the `list` function."
   ]
  },
  {
   "cell_type": "code",
   "execution_count": 3,
   "metadata": {
    "collapsed": false
   },
   "outputs": [
    {
     "name": "stdout",
     "output_type": "stream",
     "text": [
      "[0, 1, 2, 3, 4, 5, 6, 7, 8, 9]\n"
     ]
    }
   ],
   "source": [
    "print(list(range(10)))"
   ]
  },
  {
   "cell_type": "markdown",
   "metadata": {
    "slideshow": {
     "slide_type": "slide"
    }
   },
   "source": [
    "When `range` has just one *argument* (the entry in the parentheses), it will generate a range from 0 up to but not including the specified number. \n"
   ]
  },
  {
   "cell_type": "code",
   "execution_count": 4,
   "metadata": {
    "collapsed": false,
    "slideshow": {
     "slide_type": "slide"
    }
   },
   "outputs": [
    {
     "name": "stdout",
     "output_type": "stream",
     "text": [
      "[10, 11, 12, 13, 14, 15, 16, 17, 18, 19]\n"
     ]
    }
   ],
   "source": [
    "print(list(range(10,20)))"
   ]
  },
  {
   "cell_type": "markdown",
   "metadata": {
    "slideshow": {
     "slide_type": "-"
    }
   },
   "source": [
    "When a range has two arguments:\n",
    " - the first value is the starting value.\n",
    " - the second value is the stoping value.\n",
    " - the stopping value is not included in the range"
   ]
  },
  {
   "cell_type": "markdown",
   "metadata": {
    "slideshow": {
     "slide_type": "slide"
    }
   },
   "source": [
    "You can optionally include a step:"
   ]
  },
  {
   "cell_type": "code",
   "execution_count": 5,
   "metadata": {
    "collapsed": false
   },
   "outputs": [
    {
     "name": "stdout",
     "output_type": "stream",
     "text": [
      "[10, 12, 14, 16, 18]\n"
     ]
    }
   ],
   "source": [
    "print(list(range(10, 20, 2)))"
   ]
  },
  {
   "cell_type": "markdown",
   "metadata": {
    "slideshow": {
     "slide_type": "slide"
    }
   },
   "source": [
    "A list can hold a mixture of types (`int`, `string`....)."
   ]
  },
  {
   "cell_type": "code",
   "execution_count": null,
   "metadata": {
    "collapsed": true
   },
   "outputs": [],
   "source": [
    "a = [1, 2.0, \"three\"]"
   ]
  },
  {
   "cell_type": "markdown",
   "metadata": {
    "slideshow": {
     "slide_type": "slide"
    }
   },
   "source": [
    "An empty list is created by"
   ]
  },
  {
   "cell_type": "code",
   "execution_count": null,
   "metadata": {
    "collapsed": true
   },
   "outputs": [],
   "source": [
    "my_list = []"
   ]
  },
  {
   "cell_type": "markdown",
   "metadata": {
    "slideshow": {
     "slide_type": "slide"
    }
   },
   "source": [
    "A list of length 5 with repeated values can be created by"
   ]
  },
  {
   "cell_type": "code",
   "execution_count": 6,
   "metadata": {
    "collapsed": false
   },
   "outputs": [
    {
     "name": "stdout",
     "output_type": "stream",
     "text": [
      "['Hello', 'Hello', 'Hello', 'Hello', 'Hello']\n"
     ]
    }
   ],
   "source": [
    "my_list = [\"Hello\"]*5\n",
    "print(my_list)"
   ]
  },
  {
   "cell_type": "markdown",
   "metadata": {
    "slideshow": {
     "slide_type": "slide"
    }
   },
   "source": [
    "We can check if an item is in a list using the function `in`:\n"
   ]
  },
  {
   "cell_type": "code",
   "execution_count": 10,
   "metadata": {
    "collapsed": false
   },
   "outputs": [
    {
     "name": "stdout",
     "output_type": "stream",
     "text": [
      "True\n",
      "False\n"
     ]
    }
   ],
   "source": [
    "print(\"Hello\" in my_list)\n",
    "print(\"Goodbye\" in my_list)"
   ]
  },
  {
   "cell_type": "markdown",
   "metadata": {
    "slideshow": {
     "slide_type": "slide"
    }
   },
   "source": [
    "<a id='IteratingLists'></a>\n",
    "### Iterating Over Lists\n",
    "\n",
    "Looping over each item in a list is called *iterating*. \n",
    "\n",
    "To iterate over a list of the lab group we use a `for` loop.\n",
    "\n",
    "Each iteration, variable `d` takes the value of the next item in the list:"
   ]
  },
  {
   "cell_type": "code",
   "execution_count": 8,
   "metadata": {
    "collapsed": false
   },
   "outputs": [
    {
     "name": "stdout",
     "output_type": "stream",
     "text": [
      "the value of d is: 1\n",
      "the value of d is: 2.0\n",
      "the value of d is: three\n"
     ]
    }
   ],
   "source": [
    "for d in [1, 2.0, \"three\"]:    \n",
    "    print('the value of d is:', d)"
   ]
  },
  {
   "cell_type": "markdown",
   "metadata": {
    "slideshow": {
     "slide_type": "slide"
    }
   },
   "source": [
    "__Try it yourself__\n",
    "\n",
    "\n",
    "In the cell provided in your textbook *iterate* over the list `[1, 2.0, \"three\"]`.\n",
    "\n",
    "Each time the code loops:\n",
    "1. print the value of data __cast as a string__ (Seminar 1 Data Types and Operators)\n",
    "1. print the variable type to demonstrate that the variable has been cast (note that otherwise the variable appeares to remain unchanged)."
   ]
  },
  {
   "cell_type": "code",
   "execution_count": 14,
   "metadata": {
    "collapsed": false
   },
   "outputs": [
    {
     "name": "stdout",
     "output_type": "stream",
     "text": [
      "The value of d is: 1\n",
      "<class 'str'>\n",
      "The value of d is: 2.0\n",
      "<class 'str'>\n",
      "The value of d is: three\n",
      "<class 'str'>\n"
     ]
    }
   ],
   "source": [
    "# Iterate over a list and cast each item as a string\n",
    "for d in [1, 2.0, \"three\"]:\n",
    "    d = str(d)\n",
    "    print('The value of d is:', d)\n",
    "    print(type(d))\n",
    "    "
   ]
  },
  {
   "cell_type": "markdown",
   "metadata": {
    "slideshow": {
     "slide_type": "slide"
    }
   },
   "source": [
    "### Manipulating Lists \n",
    "\n",
    "There are many functions for manipulating lists.\n",
    "\n",
    "<a id='Length'></a>\n",
    "\n",
    "### Finding the Length of a List\n",
    "\n",
    "We can find the length (number of items) of a list using the function `len()`, by including the name of the list in the brackets. \n",
    "\n",
    "\n",
    "\n",
    "\n"
   ]
  },
  {
   "cell_type": "markdown",
   "metadata": {
    "slideshow": {
     "slide_type": "slide"
    }
   },
   "source": [
    "In the example below, we find the length of the list `lab_group0`. "
   ]
  },
  {
   "cell_type": "code",
   "execution_count": 19,
   "metadata": {
    "collapsed": false
   },
   "outputs": [
    {
     "name": "stdout",
     "output_type": "stream",
     "text": [
      "Lab group members: ['Sara', 'Mari', 'Quang']\n",
      "Size of lab group: 3\n",
      "Check the Python object type: <class 'list'>\n"
     ]
    }
   ],
   "source": [
    "lab_group0 = [\"Sara\", \"Mari\", \"Quang\"]\n",
    "\n",
    "size = len(lab_group0)\n",
    "\n",
    "print(\"Lab group members:\", lab_group0)\n",
    "\n",
    "print(\"Size of lab group:\", size)\n",
    "\n",
    "print(\"Check the Python object type:\", type(lab_group0))"
   ]
  },
  {
   "cell_type": "markdown",
   "metadata": {
    "slideshow": {
     "slide_type": "slide"
    }
   },
   "source": [
    "<a id='SortLists'></a>\n",
    "### Sorting Lists\n",
    "\n",
    "To sort the list we use `sorted()`.\n",
    "\n",
    "#### Sorting Numerically\n",
    "\n",
    "If the list contains numerical variables, the numbers is sorted in ascending order."
   ]
  },
  {
   "cell_type": "code",
   "execution_count": 20,
   "metadata": {
    "collapsed": false,
    "scrolled": true
   },
   "outputs": [
    {
     "name": "stdout",
     "output_type": "stream",
     "text": [
      "[7, 1, 3.0]\n",
      "[1, 3.0, 7]\n"
     ]
    }
   ],
   "source": [
    "numbers = [7, 1, 3.0]\n",
    "\n",
    "print(numbers)\n",
    "\n",
    "numbers = sorted(numbers)\n",
    "\n",
    "print(numbers)"
   ]
  },
  {
   "cell_type": "markdown",
   "metadata": {
    "slideshow": {
     "slide_type": "slide"
    }
   },
   "source": [
    "__Note:__ We can sort a list with mixed numeric types (e.g. `float` and `int`). \n",
    "\n",
    "However, we cannot sort a list with types that cannot be sorted by the same ordering rule \n",
    "\n",
    "(e.g. `numbers = sorted([seven, 1, 3.0])` causes an error.)"
   ]
  },
  {
   "cell_type": "code",
   "execution_count": 22,
   "metadata": {
    "collapsed": false
   },
   "outputs": [
    {
     "ename": "TypeError",
     "evalue": "'<' not supported between instances of 'int' and 'str'",
     "output_type": "error",
     "traceback": [
      "\u001b[0;31m---------------------------------------------------------------------------\u001b[0m",
      "\u001b[0;31mTypeError\u001b[0m                                 Traceback (most recent call last)",
      "\u001b[0;32m<ipython-input-22-7f0bb4888689>\u001b[0m in \u001b[0;36m<module>\u001b[0;34m()\u001b[0m\n\u001b[0;32m----> 1\u001b[0;31m \u001b[0mnumbers\u001b[0m \u001b[1;33m=\u001b[0m \u001b[0msorted\u001b[0m\u001b[1;33m(\u001b[0m\u001b[1;33m[\u001b[0m\u001b[1;34m'seven'\u001b[0m\u001b[1;33m,\u001b[0m \u001b[1;36m1\u001b[0m\u001b[1;33m,\u001b[0m \u001b[1;36m3.0\u001b[0m\u001b[1;33m]\u001b[0m\u001b[1;33m)\u001b[0m\u001b[1;33m\u001b[0m\u001b[0m\n\u001b[0m",
      "\u001b[0;31mTypeError\u001b[0m: '<' not supported between instances of 'int' and 'str'"
     ]
    }
   ],
   "source": [
    "numbers = sorted(['seven', 1, 3.0])"
   ]
  },
  {
   "cell_type": "markdown",
   "metadata": {
    "slideshow": {
     "slide_type": "slide"
    }
   },
   "source": [
    "#### Sorting Alphabetically\n",
    "\n",
    "If the list contains strings, the list is sorted by alphabetical order. "
   ]
  },
  {
   "cell_type": "code",
   "execution_count": null,
   "metadata": {
    "collapsed": true
   },
   "outputs": [],
   "source": [
    "lab_group0 = [\"Sara\", \"Mari\", \"Quang\"]\n",
    "\n",
    "print(lab_group0)\n",
    "\n",
    "lab_group0 = sorted(lab_group0)\n",
    "\n",
    "print(lab_group0)"
   ]
  },
  {
   "cell_type": "markdown",
   "metadata": {
    "slideshow": {
     "slide_type": "slide"
    }
   },
   "source": [
    "As with `len()` we include the name of the list we want to sort in the brackets. "
   ]
  },
  {
   "cell_type": "markdown",
   "metadata": {},
   "source": [
    "There is a shortcut for sorting a list\n",
    "\n",
    "`sort` is known as a 'method' of a `list`. \n",
    "\n",
    "If we suffix a list with `.sort()`, it performs an *in-place* sort."
   ]
  },
  {
   "cell_type": "code",
   "execution_count": 23,
   "metadata": {
    "collapsed": false,
    "slideshow": {
     "slide_type": "slide"
    }
   },
   "outputs": [
    {
     "name": "stdout",
     "output_type": "stream",
     "text": [
      "['Sara', 'Mari', 'Quang']\n",
      "['Mari', 'Quang', 'Sara']\n"
     ]
    }
   ],
   "source": [
    "lab_group0 = [\"Sara\", \"Mari\", \"Quang\"]\n",
    "\n",
    "print(lab_group0)\n",
    "\n",
    "#lab_group0 = sorted(lab_group0)\n",
    "lab_group0.sort()\n",
    "\n",
    "print(lab_group0)"
   ]
  },
  {
   "cell_type": "markdown",
   "metadata": {
    "slideshow": {
     "slide_type": "slide"
    }
   },
   "source": [
    "__Try it yourself__\n",
    "\n",
    "In the cell provided in your textbook create a list of __numeric__ or __string__ values.\n",
    "\n",
    "Sort the list using `sorted()` __or__ `.sort()`.\n",
    "\n",
    "Print the sorted list.\n",
    "\n",
    "Print the length of the list using `len()`."
   ]
  },
  {
   "cell_type": "code",
   "execution_count": 25,
   "metadata": {
    "collapsed": false
   },
   "outputs": [
    {
     "name": "stdout",
     "output_type": "stream",
     "text": [
      "[1, 3, 5, 6, 7, 9]\n",
      "6\n"
     ]
    }
   ],
   "source": [
    "# Sorting a list\n",
    "list_a = [1, 6, 7, 9, 3, 5]\n",
    "list_a.sort()\n",
    "print(list_a)\n",
    "print(len(list_a))"
   ]
  },
  {
   "cell_type": "code",
   "execution_count": 45,
   "metadata": {
    "collapsed": false
   },
   "outputs": [
    {
     "name": "stdout",
     "output_type": "stream",
     "text": [
      "['rainbow', 'oil', 'fish', 'cat', 'arms']\n"
     ]
    }
   ],
   "source": [
    "list_strings = [\"cat\", \"fish\", \"rainbow\", \"oil\", \"arms\"]\n",
    "print(sorted(list_strings, reverse=True))"
   ]
  },
  {
   "cell_type": "code",
   "execution_count": 46,
   "metadata": {
    "collapsed": false
   },
   "outputs": [
    {
     "data": {
      "text/plain": [
       "['arms', 'oil', 'rainbow', 'fish', 'cat']"
      ]
     },
     "execution_count": 46,
     "metadata": {},
     "output_type": "execute_result"
    }
   ],
   "source": [
    "list_strings[::-1]"
   ]
  },
  {
   "cell_type": "code",
   "execution_count": 49,
   "metadata": {
    "collapsed": false
   },
   "outputs": [
    {
     "data": {
      "text/plain": [
       "['cat', 'oil', 'fish', 'arms', 'rainbow']"
      ]
     },
     "execution_count": 49,
     "metadata": {},
     "output_type": "execute_result"
    }
   ],
   "source": [
    "sorted(list_strings, key=len)"
   ]
  },
  {
   "cell_type": "code",
   "execution_count": 50,
   "metadata": {
    "collapsed": false
   },
   "outputs": [
    {
     "data": {
      "text/plain": [
       "['oil', 'cat', 'arms', 'fish', 'rainbow']"
      ]
     },
     "execution_count": 50,
     "metadata": {},
     "output_type": "execute_result"
    }
   ],
   "source": [
    "sorted(list_strings[::-1], key=len)"
   ]
  },
  {
   "cell_type": "code",
   "execution_count": 52,
   "metadata": {
    "collapsed": false
   },
   "outputs": [
    {
     "data": {
      "text/plain": [
       "['cat', 'oil', 'arms', 'fish', 'rainbow']"
      ]
     },
     "execution_count": 52,
     "metadata": {},
     "output_type": "execute_result"
    }
   ],
   "source": [
    "sorted(sorted(list_strings), key=len)"
   ]
  },
  {
   "cell_type": "code",
   "execution_count": 53,
   "metadata": {
    "collapsed": false
   },
   "outputs": [
    {
     "data": {
      "text/plain": [
       "<list_reverseiterator at 0x1724cf0748>"
      ]
     },
     "execution_count": 53,
     "metadata": {},
     "output_type": "execute_result"
    }
   ],
   "source": [
    "list(reversed(list_strings)"
   ]
  },
  {
   "cell_type": "markdown",
   "metadata": {
    "slideshow": {
     "slide_type": "slide"
    }
   },
   "source": [
    "### Removing an Item from a List\n",
    "\n",
    "We can remove items from a list using the method `pop`.\n",
    "\n",
    "We place the index of the element we wich to remove in brackets. "
   ]
  },
  {
   "cell_type": "code",
   "execution_count": 68,
   "metadata": {
    "collapsed": false
   },
   "outputs": [
    {
     "name": "stdout",
     "output_type": "stream",
     "text": [
      "['Sara', 'Mari', 'Quang']\n",
      "['Sara', 'Mari']\n",
      "['Sara', 'Mari'] Quang\n"
     ]
    }
   ],
   "source": [
    "lab_group0 = [\"Sara\", \"Mari\", \"Quang\"]\n",
    "\n",
    "# Remove the second student from the list: lab_group0\n",
    "# remember indexing starts from 0\n",
    "# 1 is the second element\n",
    "\n",
    "print(lab_group0)\n",
    "print(lab_group0[:-1])  # Does not need pop if you do not want the last item\n",
    "last_item = lab_group0.pop()\n",
    "\n",
    "print(lab_group0, last_item)"
   ]
  },
  {
   "cell_type": "markdown",
   "metadata": {
    "slideshow": {
     "slide_type": "slide"
    }
   },
   "source": [
    "We can add items at the end of a list using the method `append`.\n",
    "\n",
    "We place the element we want to add to the end of the list in brackets. "
   ]
  },
  {
   "cell_type": "code",
   "execution_count": 69,
   "metadata": {
    "collapsed": false
   },
   "outputs": [
    {
     "name": "stdout",
     "output_type": "stream",
     "text": [
      "['Sara', 'Mari', 'Lia']\n"
     ]
    }
   ],
   "source": [
    "# Add new student \"Lia\" at the end of the list\n",
    "lab_group0.append(\"Lia\")\n",
    "print(lab_group0)"
   ]
  },
  {
   "cell_type": "markdown",
   "metadata": {
    "slideshow": {
     "slide_type": "slide"
    }
   },
   "source": [
    "__Try it yourself__\n",
    "\n",
    "In the cell provided in your textbook.\n",
    "\n",
    "Remove Sara from the list.\n",
    "\n",
    "Print the new list.\n",
    "\n",
    "Add a new lab group member, Tom, to the list.\n",
    "\n",
    "Print the new list."
   ]
  },
  {
   "cell_type": "code",
   "execution_count": 71,
   "metadata": {
    "collapsed": false
   },
   "outputs": [
    {
     "name": "stdout",
     "output_type": "stream",
     "text": [
      "['Mari', 'Quang']\n",
      "['Mari', 'Quang', 'Tom']\n"
     ]
    }
   ],
   "source": [
    "lab_group0 = [\"Sara\", \"Mari\", \"Quang\"]\n",
    "\n",
    "# Adding and removing items from a list.\n",
    "lab_group0.pop(0)\n",
    "print(lab_group0)\n",
    "lab_group0.append('Tom')\n",
    "print(lab_group0)"
   ]
  },
  {
   "cell_type": "markdown",
   "metadata": {
    "slideshow": {
     "slide_type": "slide"
    }
   },
   "source": [
    "### Indexing\n",
    "\n",
    "Lists store data in order.\n",
    "\n",
    "We can select a single element of a list using its __index__.\n",
    "\n",
    "You are familiar with this process; it is the same as selecting individual characters of a `string`:"
   ]
  },
  {
   "cell_type": "code",
   "execution_count": 72,
   "metadata": {
    "collapsed": false
   },
   "outputs": [
    {
     "name": "stdout",
     "output_type": "stream",
     "text": [
      "t\n"
     ]
    }
   ],
   "source": [
    "a = \"string\"\n",
    "b = a[1]\n",
    "print(b)"
   ]
  },
  {
   "cell_type": "code",
   "execution_count": 73,
   "metadata": {
    "collapsed": false
   },
   "outputs": [
    {
     "name": "stdout",
     "output_type": "stream",
     "text": [
      "Mari\n"
     ]
    }
   ],
   "source": [
    "first_member = lab_group0[0]\n",
    "print(first_member)"
   ]
  },
  {
   "cell_type": "markdown",
   "metadata": {
    "slideshow": {
     "slide_type": "slide"
    }
   },
   "source": [
    "Indices can be useful when looping through the items in a list.`"
   ]
  },
  {
   "cell_type": "code",
   "execution_count": 74,
   "metadata": {
    "collapsed": false
   },
   "outputs": [
    {
     "name": "stdout",
     "output_type": "stream",
     "text": [
      "Mari\n",
      "Quang\n",
      "Tom\n",
      "Mari\n",
      "Quang\n",
      "Tom\n"
     ]
    }
   ],
   "source": [
    "# We can express the following for loop:\n",
    "# ITERATING\n",
    "for i in lab_group0:\n",
    "    print(i)\n",
    "    \n",
    "# as:\n",
    "# INDEXING\n",
    "for i in range(len(lab_group0)):\n",
    "    print(lab_group0[i])"
   ]
  },
  {
   "cell_type": "markdown",
   "metadata": {},
   "source": [
    "An example of where __indexing__ is more appropraite than __iterating__: \n",
    "\n",
    "Sometimes we want to perform an operation on all items of a list.\n",
    "\n",
    "Consider the example we looked at earlier, where we looped through a list, expressing each element as a string. \n",
    "\n",
    "You may have written something like this..."
   ]
  },
  {
   "cell_type": "code",
   "execution_count": 77,
   "metadata": {
    "collapsed": false
   },
   "outputs": [
    {
     "name": "stdout",
     "output_type": "stream",
     "text": [
      "1 <class 'str'>\n",
      "2.0 <class 'str'>\n",
      "three <class 'str'>\n"
     ]
    }
   ],
   "source": [
    "for d in [1, 2.0, \"three\"]:\n",
    "    \n",
    "    d = str(d)\n",
    "    \n",
    "    print(d, type(d))\n"
   ]
  },
  {
   "cell_type": "markdown",
   "metadata": {
    "collapsed": true
   },
   "source": [
    "We can re-write this: "
   ]
  },
  {
   "cell_type": "code",
   "execution_count": 78,
   "metadata": {
    "collapsed": false
   },
   "outputs": [
    {
     "name": "stdout",
     "output_type": "stream",
     "text": [
      "1 <class 'str'>\n",
      "2.0 <class 'str'>\n",
      "three <class 'str'>\n"
     ]
    }
   ],
   "source": [
    "data = [1, 2.0, \"three\"]\n",
    "\n",
    "for d in data:\n",
    "    \n",
    "    d = str(d)\n",
    "    \n",
    "    print(d, type(d))"
   ]
  },
  {
   "cell_type": "markdown",
   "metadata": {
    "collapsed": true
   },
   "source": [
    "__Iterating:__ The type of each element in the list `data` remains unchanged."
   ]
  },
  {
   "cell_type": "code",
   "execution_count": 79,
   "metadata": {
    "collapsed": false
   },
   "outputs": [
    {
     "name": "stdout",
     "output_type": "stream",
     "text": [
      "<class 'int'>\n",
      "<class 'float'>\n",
      "<class 'str'>\n"
     ]
    }
   ],
   "source": [
    "print(type(data[0]))\n",
    "print(type(data[1]))\n",
    "print(type(data[2]))"
   ]
  },
  {
   "cell_type": "markdown",
   "metadata": {
    "collapsed": true
   },
   "source": [
    "__Indexing__: We can modify each element of the list (e.g. to change its type) "
   ]
  },
  {
   "cell_type": "code",
   "execution_count": 82,
   "metadata": {
    "collapsed": false
   },
   "outputs": [
    {
     "name": "stdout",
     "output_type": "stream",
     "text": [
      "1 <class 'str'>\n",
      "2.0 <class 'str'>\n",
      "three <class 'str'>\n",
      "<class 'str'>\n",
      "<class 'str'>\n",
      "<class 'str'>\n"
     ]
    }
   ],
   "source": [
    "for d in range(len(data)):\n",
    "    \n",
    "    data[d] = str(data[d])\n",
    "    \n",
    "    print(data[d], type(data[d]))\n",
    "    \n",
    "print(type(data[0]))\n",
    "print(type(data[1]))\n",
    "print(type(data[2]))  "
   ]
  },
  {
   "cell_type": "code",
   "execution_count": 83,
   "metadata": {
    "collapsed": false
   },
   "outputs": [
    {
     "name": "stdout",
     "output_type": "stream",
     "text": [
      "<class 'str'>\n",
      "<class 'str'>\n",
      "<class 'str'>\n"
     ]
    }
   ],
   "source": [
    "data = [1, 2.0, \"three\"]\n",
    "data = [str(d) for d in data]\n",
    "\n",
    "print(type(data[0]))\n",
    "print(type(data[1]))\n",
    "print(type(data[2]))  "
   ]
  },
  {
   "cell_type": "markdown",
   "metadata": {
    "slideshow": {
     "slide_type": "slide"
    }
   },
   "source": [
    "__Note:__<br>\n",
    "- Some data structures that support *iterating* but do not support *indexing* (e.g. dictionaries, which we eill learn about later). <br> When possible, it is better to iterate over a list rather than use indexing.\n",
    "- When indexing:\n",
    "   - the first value in the range is 0.\n",
    "   - the last value in the range is (list length - 1). "
   ]
  },
  {
   "cell_type": "markdown",
   "metadata": {
    "slideshow": {
     "slide_type": "slide"
    }
   },
   "source": [
    "Lists and indexing can be useful for numerical computations. \n",
    "\n",
    "### Indexing Example: Vectors\n",
    "\n",
    "__Vector:__ A quantity with magnitude and direction.\n",
    "\n",
    "\n"
   ]
  },
  {
   "cell_type": "markdown",
   "metadata": {
    "slideshow": {
     "slide_type": "slide"
    }
   },
   "source": [
    "Position vectors (or displacement vectors) in 3D space can always be expressed in terms of x,y, and z-directions.  \n",
    "\n",
    "<img src=\"img/3d_position_vector.png\" alt=\"Drawing\" style=\"width: 175px;\"/>\n",
    "\n",
    "The position vector 𝒓 indicates the position of a point in 3D space.\n",
    "\n",
    "$$\n",
    "\\mathbf{r} = x\\mathbf{i} + y\\mathbf{j} + z\\mathbf{k}\n",
    "$$\n",
    "\n"
   ]
  },
  {
   "cell_type": "markdown",
   "metadata": {
    "slideshow": {
     "slide_type": "slide"
    }
   },
   "source": [
    "$$\n",
    "\\mathbf{r} = x\\mathbf{i} + y\\mathbf{j} + z\\mathbf{k}\n",
    "$$\n",
    "\n",
    "𝒊 is the displacement one unit in the x-direction<br>\n",
    "𝒋 is the displacement one unit in the y-direction<br>\n",
    "𝒌 is the displacement one unit in the z-direction\n",
    "\n",
    "We can conveniently express $\\mathbf{r}$ as a matrix: \n",
    "$$\n",
    "\\mathbf{r} = [x, y, z]\n",
    "$$\n",
    "\n",
    "__...which looks a lot like a Python list!__\n"
   ]
  },
  {
   "cell_type": "markdown",
   "metadata": {
    "slideshow": {
     "slide_type": "slide"
    }
   },
   "source": [
    "You will encounter 3D vectors a lot in your engineering studies as they are used to describe many physical quantities, e.g. force."
   ]
  },
  {
   "cell_type": "markdown",
   "metadata": {
    "slideshow": {
     "slide_type": "slide"
    }
   },
   "source": [
    "<a id='DotProductLists'></a>\n",
    "\n",
    "### Indexing Example: The dot product of two vectors:\n",
    "\n",
    "The __dot product__ is a really useful algebraic operation that takes two equal-length sequences of numbers (usually coordinate vectors) and returns a single number.\n",
    "\n",
    "It can be expressed mathematically as..."
   ]
  },
  {
   "cell_type": "markdown",
   "metadata": {
    "slideshow": {
     "slide_type": "slide"
    }
   },
   "source": [
    "__GEOMETRIC REPRESENTATION__\n",
    "\n",
    "\\begin{align}\n",
    "\\mathbf{A} \\cdot \\mathbf{B} = |\\mathbf{A}| |\\mathbf{B}| cos(\\theta)\n",
    "\\end{align}\n",
    "\n",
    "<img src=\"img/dot_product.gif\" alt=\"Drawing\" style=\"width: 250px;\"/>\n",
    "&nbsp;&nbsp;&nbsp;&nbsp; $\\mathbf{B} cos(\\theta)$ is the component of $B$ acting in the direction of $A$."
   ]
  },
  {
   "cell_type": "markdown",
   "metadata": {
    "slideshow": {
     "slide_type": "slide"
    }
   },
   "source": [
    "&nbsp;&nbsp;&nbsp;&nbsp; $\\mathbf{B} cos(\\theta)$ is the component of $B$ acting in the direction of $A$.\n",
    "\n",
    "For example, the component of a force, $\\mathbf{F_{app}}$, acting in the direction of the velocity of an object (x direction):\n",
    "\n",
    "<img src=\"img/resolving_force.png\" alt=\"Drawing\" style=\"width: 250px;\"/>\n",
    "\n",
    "$$\n",
    "\\mathbf{F_{app,x}} = \\mathbf{F_{app}}cos(\\theta)\n",
    "$$"
   ]
  },
  {
   "cell_type": "markdown",
   "metadata": {
    "slideshow": {
     "slide_type": "slide"
    }
   },
   "source": [
    "__ALGEBRAIC REPRESENTATION__\n",
    "\n",
    ">The dot product of two $n$-length-vectors:\n",
    "> <br> $ \\mathbf{A} = [A_1, A_2, ... A_n]$\n",
    "> <br> $ \\mathbf{B} = [B_1, B_2, ... B_n]$\n",
    "> <br> is: \n",
    "\n",
    "\\begin{align}\n",
    "\\mathbf{A} \\cdot \\mathbf{B} = \\sum_{i=1}^n A_i B_i.\n",
    "\\end{align}\n",
    "\n"
   ]
  },
  {
   "cell_type": "markdown",
   "metadata": {},
   "source": [
    ">So the dot product of two 3D vectors:\n",
    "> <br> $ \\mathbf{A} = [A_x, A_y, A_z]$\n",
    "> <br> $ \\mathbf{B} = [B_x, B_y, B_z]$\n",
    "> <br> is:\n",
    "\n",
    "\\begin{align}\n",
    "\\mathbf{A} \\cdot \\mathbf{B} &= \\sum_{i=1}^n A_i B_i \\\\\n",
    "&= A_x B_x + A_y B_y + A_z B_z.\n",
    "\\end{align}\n",
    "\n",
    "__Example:__ \n",
    "<br> The dot product $\\mathbf{A} \\cdot \\mathbf{B}$:\n",
    "> <br> $ \\mathbf{A} = [1, 3, −5]$\n",
    "> <br> $ \\mathbf{B} = [4, −2, −1]$\n",
    "\n",
    "\n",
    "\n",
    "\\begin{align}\n",
    "      {\\displaystyle {\\begin{aligned}\\ [1,3,-5]\\cdot [4,-2,-1]&=(1)(4)+(3)(-2)+(-5)(-1)\\\\&=4-6+5\\\\&=3\\end{aligned}}} \n",
    "\\end{align}"
   ]
  },
  {
   "cell_type": "markdown",
   "metadata": {
    "slideshow": {
     "slide_type": "slide"
    }
   },
   "source": [
    "\n",
    "\n",
    "We can solve this very easily using a Python `for` loop.\n",
    "\n"
   ]
  },
  {
   "cell_type": "code",
   "execution_count": 84,
   "metadata": {
    "collapsed": false,
    "slideshow": {
     "slide_type": "slide"
    }
   },
   "outputs": [
    {
     "name": "stdout",
     "output_type": "stream",
     "text": [
      "3.0\n"
     ]
    }
   ],
   "source": [
    "A = [1.0, 3.0, -5.0]\n",
    "B = [4.0, -2.0, -1.0]\n",
    "\n",
    "# Create a variable called dot_product with value, 0.\n",
    "dot_product = 0.0\n",
    "\n",
    "for i in range(len(A)):\n",
    "    dot_product += A[i]*B[i]\n",
    "\n",
    "print(dot_product)"
   ]
  },
  {
   "cell_type": "code",
   "execution_count": 86,
   "metadata": {
    "collapsed": false
   },
   "outputs": [
    {
     "data": {
      "text/plain": [
       "3.0"
      ]
     },
     "execution_count": 86,
     "metadata": {},
     "output_type": "execute_result"
    }
   ],
   "source": [
    "sum(a * b for a, b in zip(A, B))"
   ]
  },
  {
   "cell_type": "markdown",
   "metadata": {
    "slideshow": {
     "slide_type": "slide"
    }
   },
   "source": [
    "From is __GEOMETRIC__ representation, we can see that the dot product allows us to quickly solve many engineering-related problems..."
   ]
  },
  {
   "cell_type": "markdown",
   "metadata": {
    "collapsed": true,
    "slideshow": {
     "slide_type": "slide"
    }
   },
   "source": [
    "\\begin{align}\n",
    "\\mathbf{A} \\cdot \\mathbf{B} = |\\mathbf{A}| |\\mathbf{B}| cos(\\theta)\n",
    "\\end{align}\n",
    "\n",
    "Examples:\n",
    " - Test if two vectors are:\n",
    "   - perpendicular ($\\mathbf{A} \\cdot \\mathbf{B}==0$)\n",
    "   - acute ($\\mathbf{A} \\cdot \\mathbf{B}>0$)\n",
    "   - obtuse ($\\mathbf{A} \\cdot \\mathbf{B}<0$)\n",
    " - Find the angle between two vectors (from its cosine).\n",
    " - Find the magnitude of one vector in the direction of another.\n",
    " - Find physical quantities e.g. the work, W, when pushing an object a certain distance, d, with force, F:\n",
    " \n",
    " <img src=\"img/work_equation.jpg\" alt=\"Drawing\" style=\"width: 300px;\"/>\n"
   ]
  },
  {
   "cell_type": "markdown",
   "metadata": {
    "slideshow": {
     "slide_type": "slide"
    }
   },
   "source": [
    "__Try it yourself:__ \n",
    "\n",
    "$\\mathbf{C} = [2, 4, 3.5]$\n",
    "\n",
    "$\\mathbf{D} = [1, 2, -6]$\n",
    "\n",
    "In the cell below find the dot product:\n",
    "$\\mathbf{C} \\cdot \\mathbf{D}$\n",
    "\n",
    "Is the angle between the vectors obtuse or acute or are the vectors perpendicular? <br> \n",
    "(Perpendicular if $\\mathbf{A} \\cdot \\mathbf{B}==0$, acute if $\\mathbf{A} \\cdot \\mathbf{B}>0$, or obtuse if $\\mathbf{A} \\cdot \\mathbf{B}<0$).\n",
    " "
   ]
  },
  {
   "cell_type": "code",
   "execution_count": 94,
   "metadata": {
    "collapsed": false
   },
   "outputs": [
    {
     "data": {
      "text/plain": [
       "-11.0"
      ]
     },
     "execution_count": 94,
     "metadata": {},
     "output_type": "execute_result"
    }
   ],
   "source": [
    "# The dot product of C and D\n",
    "C=[2,4,3.5]\n",
    "D=[1,2,-6]\n",
    "sum(c * d for c, d in zip(C, D))"
   ]
  },
  {
   "cell_type": "code",
   "execution_count": 103,
   "metadata": {
    "collapsed": false
   },
   "outputs": [
    {
     "data": {
      "text/plain": [
       "-0.30250732643803185"
      ]
     },
     "execution_count": 103,
     "metadata": {},
     "output_type": "execute_result"
    }
   ],
   "source": [
    "-11 / sum(i**2 for i in C)**0.5 / sum(i**2 for i in D)**0.5"
   ]
  },
  {
   "cell_type": "code",
   "execution_count": 104,
   "metadata": {
    "collapsed": false
   },
   "outputs": [
    {
     "data": {
      "text/plain": [
       "107.60826137438917"
      ]
     },
     "execution_count": 104,
     "metadata": {},
     "output_type": "execute_result"
    }
   ],
   "source": [
    "np.rad2deg(np.arccos(_))"
   ]
  },
  {
   "cell_type": "code",
   "execution_count": 105,
   "metadata": {
    "collapsed": true
   },
   "outputs": [],
   "source": [
    "import numpy as np"
   ]
  },
  {
   "cell_type": "code",
   "execution_count": 106,
   "metadata": {
    "collapsed": false
   },
   "outputs": [
    {
     "data": {
      "text/plain": [
       "107.60826137438917"
      ]
     },
     "execution_count": 106,
     "metadata": {},
     "output_type": "execute_result"
    }
   ],
   "source": [
    "np.rad2deg(np.arccos(-11 / np.linalg.norm(C) / np.linalg.norm(D)))"
   ]
  },
  {
   "cell_type": "markdown",
   "metadata": {
    "collapsed": true,
    "slideshow": {
     "slide_type": "slide"
    }
   },
   "source": [
    "<a id='NestedList'></a>\n",
    "### Nested Data Structures: Lists of Lists\n",
    "\n",
    "A *nested list* is a list within a list. (Recall *nested loops* from Seminar 1: Control Flow). \n",
    "\n",
    "To access a __single element__ we need as many indices as there are levels of nested list. \n",
    "\n",
    "This is more easily explained with an example:"
   ]
  },
  {
   "cell_type": "code",
   "execution_count": 107,
   "metadata": {
    "collapsed": true,
    "slideshow": {
     "slide_type": "slide"
    }
   },
   "outputs": [],
   "source": [
    "lab_group0 = [\"Sara\", \"Mika\", \"Ryo\", \"Am\"]\n",
    "lab_group1 = [\"Hemma\", \"Miri\", \"Qui\", \"Sajid\"]\n",
    "lab_group2 = [\"Adam\", \"Yukari\", \"Farad\", \"Fumitoshi\"]\n",
    "\n",
    "lab_groups = [lab_group0, lab_group1, lab_group2]"
   ]
  },
  {
   "cell_type": "markdown",
   "metadata": {},
   "source": [
    "`lab_group0`, `lab_group1` and `lab_group2` are nested within `lab_groups`.\n",
    "\n"
   ]
  },
  {
   "cell_type": "markdown",
   "metadata": {
    "slideshow": {
     "slide_type": "slide"
    }
   },
   "source": [
    "There are __two__ levels of nested lists.\n",
    "\n",
    "We need __two__ indices to select a single elememt from `lab_group0`, `lab_group1` or `lab_group2`. \n",
    "    \n",
    "The first index: a list (`lab_group0`, `lab_group1` or `lab_group2`). \n",
    "    \n",
    "The second index: an element in that list. "
   ]
  },
  {
   "cell_type": "code",
   "execution_count": 108,
   "metadata": {
    "collapsed": false,
    "slideshow": {
     "slide_type": "slide"
    }
   },
   "outputs": [
    {
     "name": "stdout",
     "output_type": "stream",
     "text": [
      "['Sara', 'Mika', 'Ryo', 'Am']\n",
      "Qui\n"
     ]
    }
   ],
   "source": [
    "group = lab_groups[0]\n",
    "print(group)\n",
    "\n",
    "name = lab_groups[1][2]\n",
    "print(name)"
   ]
  },
  {
   "cell_type": "markdown",
   "metadata": {
    "slideshow": {
     "slide_type": "slide"
    }
   },
   "source": [
    "## Tuples\n",
    "\n",
    "Tuples are similar to lists. \n",
    "\n",
    "However, after creatig a tuple:\n",
    " - you cannot add or remove elements from it without creating a new tuple. \n",
    " - you cannot change the value of a single tuple element e.g. by indexing. \n",
    "\n",
    "\n"
   ]
  },
  {
   "cell_type": "markdown",
   "metadata": {
    "slideshow": {
     "slide_type": "slide"
    }
   },
   "source": [
    "Tuples are therefore used for values that should not change after being created.\n",
    "<br> e.g. a vector of length three with fixed entries\n",
    "<br>It is 'safer' in this case since it cannot be modified accidentally in a program. \n",
    "\n",
    "To create a tuple, use () parentheses.\n"
   ]
  },
  {
   "cell_type": "markdown",
   "metadata": {
    "slideshow": {
     "slide_type": "slide"
    }
   },
   "source": [
    "__Example__\n",
    "In Kyoto University, each professor is assigned an office.\n",
    "\n",
    "Philamore-sensei is given room 32:"
   ]
  },
  {
   "cell_type": "code",
   "execution_count": 109,
   "metadata": {
    "collapsed": false
   },
   "outputs": [
    {
     "name": "stdout",
     "output_type": "stream",
     "text": [
      "Room allocation: ('Philamore', 32)\n",
      "Length of entry: 2\n",
      "<class 'tuple'>\n"
     ]
    }
   ],
   "source": [
    "room = (\"Philamore\", 32)\n",
    "\n",
    "print(\"Room allocation:\", room)\n",
    "\n",
    "print(\"Length of entry:\", len(room))\n",
    "\n",
    "print(type(room))"
   ]
  },
  {
   "cell_type": "markdown",
   "metadata": {
    "slideshow": {
     "slide_type": "slide"
    }
   },
   "source": [
    "<a id='IteratingTuples'></a>\n",
    "### Iterating over Tuples \n",
    "\n",
    "We can *iterate* over tuples in the same way as with lists,"
   ]
  },
  {
   "cell_type": "code",
   "execution_count": 110,
   "metadata": {
    "collapsed": false
   },
   "outputs": [
    {
     "name": "stdout",
     "output_type": "stream",
     "text": [
      "Philamore\n",
      "32\n"
     ]
    }
   ],
   "source": [
    "# Iterate over tuple values\n",
    "for d in room:\n",
    "    print(d)"
   ]
  },
  {
   "cell_type": "markdown",
   "metadata": {
    "slideshow": {
     "slide_type": "slide"
    }
   },
   "source": [
    "###  Indexing\n",
    "\n",
    "We can index into a tuple:"
   ]
  },
  {
   "cell_type": "code",
   "execution_count": 111,
   "metadata": {
    "collapsed": false
   },
   "outputs": [
    {
     "name": "stdout",
     "output_type": "stream",
     "text": [
      "32\n",
      "Philamore\n"
     ]
    }
   ],
   "source": [
    "# Index into tuple values\n",
    "print(room[1])\n",
    "print(room[0])"
   ]
  },
  {
   "cell_type": "markdown",
   "metadata": {
    "slideshow": {
     "slide_type": "slide"
    }
   },
   "source": [
    "__Note__ Take care when creating a tuple of length 1:"
   ]
  },
  {
   "cell_type": "code",
   "execution_count": 112,
   "metadata": {
    "collapsed": false
   },
   "outputs": [
    {
     "name": "stdout",
     "output_type": "stream",
     "text": [
      "[1]\n",
      "<class 'list'>\n",
      "1\n"
     ]
    }
   ],
   "source": [
    "# Creating a list of length 1 \n",
    "a = [1]\n",
    "print(a)\n",
    "print(type(a))\n",
    "print(len(a))"
   ]
  },
  {
   "cell_type": "markdown",
   "metadata": {
    "slideshow": {
     "slide_type": "slide"
    }
   },
   "source": [
    "However, if we use the same process for a tuple:"
   ]
  },
  {
   "cell_type": "code",
   "execution_count": 114,
   "metadata": {
    "collapsed": false
   },
   "outputs": [
    {
     "name": "stdout",
     "output_type": "stream",
     "text": [
      "1\n",
      "<class 'int'>\n"
     ]
    }
   ],
   "source": [
    "a = (1)\n",
    "print(a)\n",
    "print(type(a))\n",
    "#print(len(a))"
   ]
  },
  {
   "cell_type": "markdown",
   "metadata": {
    "slideshow": {
     "slide_type": "slide"
    }
   },
   "source": [
    "To create a tuple of length 1, we use a comma:"
   ]
  },
  {
   "cell_type": "code",
   "execution_count": 115,
   "metadata": {
    "collapsed": false
   },
   "outputs": [
    {
     "name": "stdout",
     "output_type": "stream",
     "text": [
      "(1,)\n",
      "<class 'tuple'>\n",
      "1\n"
     ]
    }
   ],
   "source": [
    "a = (1,)\n",
    "print(a)\n",
    "print(type(a))\n",
    "print(len(a))"
   ]
  },
  {
   "cell_type": "code",
   "execution_count": 117,
   "metadata": {
    "collapsed": false
   },
   "outputs": [
    {
     "name": "stdout",
     "output_type": "stream",
     "text": [
      "Room allocation: ('Endo',)\n",
      "Length of entry: 1\n",
      "<class 'tuple'>\n"
     ]
    }
   ],
   "source": [
    "room = (\"Endo\",)\n",
    "print(\"Room allocation:\", room)\n",
    "print(\"Length of entry:\", len(room))\n",
    "print(type(room))"
   ]
  },
  {
   "cell_type": "markdown",
   "metadata": {
    "slideshow": {
     "slide_type": "slide"
    }
   },
   "source": [
    "### Nested Data Structures: Lists of Tuples\n",
    "As part of a rooms database, we can create a list of tuples:"
   ]
  },
  {
   "cell_type": "code",
   "execution_count": 118,
   "metadata": {
    "collapsed": false
   },
   "outputs": [
    {
     "name": "stdout",
     "output_type": "stream",
     "text": [
      "[('Endo',), ('Philamore', 32), ('Matsuno', 31), ('Sawaragi', 28), ('Okino', 28), ('Kumegawa', 19)]\n"
     ]
    }
   ],
   "source": [
    "room_allocation = [(\"Endo\",), \n",
    "                   (\"Philamore\", 32), \n",
    "                   (\"Matsuno\", 31), \n",
    "                   (\"Sawaragi\", 28), \n",
    "                   (\"Okino\", 28), \n",
    "                   (\"Kumegawa\", 19)]\n",
    "\n",
    "print(room_allocation)"
   ]
  },
  {
   "cell_type": "markdown",
   "metadata": {
    "slideshow": {
     "slide_type": "slide"
    }
   },
   "source": [
    "Index into the list room allocation \n",
    "\n",
    "Refer to <a href='#NestedList'>Link to the destination'</a> for how to index into *nested* data structures.\n",
    "\n",
    "In the cell below use indexing to print:\n",
    " - Matsuno-sensei's room number\n",
    " - Kumegawa-sensei's room number\n",
    " - The variable type of Kumegawa-sensei's room number"
   ]
  },
  {
   "cell_type": "code",
   "execution_count": 120,
   "metadata": {
    "collapsed": false,
    "slideshow": {
     "slide_type": "-"
    }
   },
   "outputs": [
    {
     "name": "stdout",
     "output_type": "stream",
     "text": [
      "31\n",
      "19\n",
      "<class 'int'>\n"
     ]
    }
   ],
   "source": [
    "# Matsuno-sensei's room number\n",
    "print(room_allocation[2][1])\n",
    "\n",
    "# Kumegawa-sensei's room number\n",
    "print(room_allocation[-1][1])\n",
    "# The Python variable type of Kumegawa-sensei's room number\n",
    "print(type(room_allocation[-1][1]))"
   ]
  },
  {
   "cell_type": "markdown",
   "metadata": {
    "slideshow": {
     "slide_type": "slide"
    }
   },
   "source": [
    "### Sorting Tuples\n",
    "To make it easier to look up the office number each professor, we can __sort__ the list of tuples into an office directory."
   ]
  },
  {
   "cell_type": "markdown",
   "metadata": {
    "slideshow": {
     "slide_type": "slide"
    }
   },
   "source": [
    "The ordering rule is determined by the __first element__ of each tuple.\n",
    "\n",
    "If the first element of each tuple is a numeric type (`int`, `float`...) the tulpes are sorted by ascending numerical order of the first element:\n",
    "\n",
    "If the first element of each tuple is a `string` (as in this case), the tuples are sorted by alphabetical order of the first element."
   ]
  },
  {
   "cell_type": "markdown",
   "metadata": {
    "slideshow": {
     "slide_type": "slide"
    }
   },
   "source": [
    "A tuple is sorted using the same method to sort a list. \n",
    "\n",
    "Refer to <a href='#SortLists'>Sorting Lists</a> remind yourself of this method.\n",
    "\n",
    "In the cell provided below, sort the list, `room_allocation` by alphabetical order. "
   ]
  },
  {
   "cell_type": "code",
   "execution_count": 122,
   "metadata": {
    "collapsed": false
   },
   "outputs": [
    {
     "name": "stdout",
     "output_type": "stream",
     "text": [
      "[('Endo',), ('Kumegawa', 19), ('Matsuno', 31), ('Okino', 28), ('Philamore', 32), ('Sawaragi', 28)]\n"
     ]
    }
   ],
   "source": [
    "# room_allocation sorted by alphabetical order\n",
    "print(sorted(room_allocation))"
   ]
  },
  {
   "cell_type": "markdown",
   "metadata": {
    "slideshow": {
     "slide_type": "slide"
    }
   },
   "source": [
    "The office directory can be improved by excluding professors who do not have an office at Yoshida campus:"
   ]
  },
  {
   "cell_type": "code",
   "execution_count": 139,
   "metadata": {
    "collapsed": false
   },
   "outputs": [
    {
     "name": "stdout",
     "output_type": "stream",
     "text": [
      "Name: Philamore, Room: 32\n",
      "Name: Matsuno, Room: 31\n",
      "Name: Sawaragi, Room: 28\n",
      "Name: Okino, Room: 28\n",
      "Name: Kumegawa, Room: 19\n"
     ]
    }
   ],
   "source": [
    "for entry in room_allocation:\n",
    "    \n",
    "    # only professors with an office have an entry length > 1\n",
    "    if len(entry) > 1:\n",
    "        print(\"Name: \", entry[0], \", Room: \", entry[1], sep=\"\")"
   ]
  },
  {
   "cell_type": "markdown",
   "metadata": {
    "slideshow": {
     "slide_type": "slide"
    }
   },
   "source": [
    "In summary, use tuples over lists when the length will not change."
   ]
  },
  {
   "cell_type": "code",
   "execution_count": 124,
   "metadata": {
    "collapsed": true
   },
   "outputs": [],
   "source": [
    "from collections import namedtuple"
   ]
  },
  {
   "cell_type": "code",
   "execution_count": 126,
   "metadata": {
    "collapsed": true
   },
   "outputs": [],
   "source": [
    "Room = namedtuple(\"Room\", [\"name\", \"room\"])\n",
    "\n",
    "room_allocations = [Room(\"Philamore\", 32), \n",
    "                    Room(\"Matsuno\", 31), \n",
    "                    Room(\"Sawaragi\", 28), \n",
    "                    Room(\"Okino\", 28), \n",
    "                    Room(\"Kumegawa\", 19),\n",
    "                   ]"
   ]
  },
  {
   "cell_type": "code",
   "execution_count": 140,
   "metadata": {
    "collapsed": false
   },
   "outputs": [
    {
     "name": "stdout",
     "output_type": "stream",
     "text": [
      "Name: Philamore, Room: 32\n",
      "Name: Philamore, Room: 32\n",
      "Name: Matsuno, Room: 31\n",
      "Name: Matsuno, Room: 31\n",
      "Name: Sawaragi, Room: 28\n",
      "Name: Sawaragi, Room: 28\n",
      "Name: Okino, Room: 28\n",
      "Name: Okino, Room: 28\n",
      "Name: Kumegawa, Room: 19\n",
      "Name: Kumegawa, Room: 19\n"
     ]
    }
   ],
   "source": [
    "for entry in room_allocations:\n",
    "    \n",
    "    # only professors with an office have an entry length > 1\n",
    "    if len(entry) > 1:\n",
    "        print(\"Name: \", entry.name, \", Room: \", entry.room, sep=\"\")\n",
    "        print(f\"Name: {entry.name}, Room: {entry.room}\")"
   ]
  },
  {
   "cell_type": "markdown",
   "metadata": {
    "slideshow": {
     "slide_type": "slide"
    }
   },
   "source": [
    "<a id='Dictionaries'></a>\n",
    "## Dictionaries \n",
    "\n",
    "We used a list of tuples in the previous section to store room allocations. \n",
    "\n",
    "What if we wanted to use a program to find which room a particular professor has been allocated?\n",
    "\n",
    "we would need to either:\n",
    "- iterate through the list and check each name. \n",
    "\n",
    "> For a very large list, this might not be very efficient.\n",
    "\n",
    "- use the index to select a specific entry of a list or tuple. \n",
    "\n",
    "> This works if we know the index to the entry of interest. For a very large list, this is unlikely."
   ]
  },
  {
   "cell_type": "markdown",
   "metadata": {
    "slideshow": {
     "slide_type": "slide"
    }
   },
   "source": [
    "A human looking would identify individuals in an office directory by name (or \"keyword\") rather than a continuous set of integers. \n",
    "\n",
    "Using a Python __dictionary__ we can build a 'map' from names (*keys*) to room numbers (*values*). \n",
    "\n",
    "A Python dictionary (`dict`) is declared using curly braces:"
   ]
  },
  {
   "cell_type": "code",
   "execution_count": 141,
   "metadata": {
    "collapsed": false
   },
   "outputs": [
    {
     "name": "stdout",
     "output_type": "stream",
     "text": [
      "{'Endo': None, 'Philamore': 32, 'Matsuno': 31, 'Sawaragi': 28, 'Okino': 28, 'Kumegawa': 19}\n",
      "<class 'dict'>\n"
     ]
    }
   ],
   "source": [
    "room_allocation = {\"Endo\": None, \n",
    "                   \"Philamore\": 32, \n",
    "                   \"Matsuno\": 31, \n",
    "                   \"Sawaragi\": 28, \n",
    "                   \"Okino\": 28, \n",
    "                   \"Kumegawa\": 19}\n",
    "\n",
    "print(room_allocation)\n",
    "\n",
    "print(type(room_allocation))"
   ]
  },
  {
   "cell_type": "markdown",
   "metadata": {
    "slideshow": {
     "slide_type": "slide"
    }
   },
   "source": [
    "Each entry is separated by a comma. \n",
    "\n",
    "For each entry we have:\n",
    " - a 'key' (followed by a colon)\n",
    " - a 'value'. \n",
    " \n",
    "__Note:__ For empty values (e.g. `Endo` in the example above) we use '`None`' for the value.\n",
    "\n",
    "`None` is a Python keyword for 'nothing' or 'empty'.\n",
    "\n",
    "Now if we want to know which office belongs to Philamore-sensei, we can query the dictionary by key:"
   ]
  },
  {
   "cell_type": "code",
   "execution_count": 142,
   "metadata": {
    "collapsed": false
   },
   "outputs": [
    {
     "name": "stdout",
     "output_type": "stream",
     "text": [
      "32\n"
     ]
    }
   ],
   "source": [
    "philamore_office = room_allocation[\"Philamore\"]\n",
    "print(philamore_office)"
   ]
  },
  {
   "cell_type": "markdown",
   "metadata": {
    "slideshow": {
     "slide_type": "slide"
    }
   },
   "source": [
    "### Iterating over Dictionaries\n",
    "\n",
    "We can __*iterate*__ over the keys in a dictionary as we iterated over the elements of a list or tuple:\n",
    "\n",
    "__Try it yourself:__\n",
    "<br>\n",
    "Refer back to:\n",
    " - <a href='#IteratingLists'>Iterating Over Lists</a>\n",
    " - <a href='#IteratingTuples'>Iterating Over Tuples</a>\n",
    "to remind yourself how to *iterate* over a data structure.\n",
    "\n",
    "<br>\n",
    "Using __exactly the same method__, iterate over the entries in the dictionary `room allocation` using a `for` loop.\n",
    "<br>\n",
    "Each time the code loops, print the next dictionary entry. "
   ]
  },
  {
   "cell_type": "code",
   "execution_count": 144,
   "metadata": {
    "collapsed": false
   },
   "outputs": [
    {
     "name": "stdout",
     "output_type": "stream",
     "text": [
      "Endo\n",
      "Philamore\n",
      "Matsuno\n",
      "Sawaragi\n",
      "Okino\n",
      "Kumegawa\n"
     ]
    }
   ],
   "source": [
    "# iterate over the dictionary, room_allocation.\n",
    "# print each entry\n",
    "for entry in room_allocation:\n",
    "    print(entry)\n"
   ]
  },
  {
   "cell_type": "markdown",
   "metadata": {
    "slideshow": {
     "slide_type": "slide"
    }
   },
   "source": [
    "Notice that this only prints the keys.\n",
    "\n",
    "We can access `keys` and `values` seperately by:\n",
    " - creating two variable names before `in` \n",
    " - putting `items()` after the dictionary name"
   ]
  },
  {
   "cell_type": "code",
   "execution_count": 145,
   "metadata": {
    "collapsed": false
   },
   "outputs": [
    {
     "name": "stdout",
     "output_type": "stream",
     "text": [
      "Endo None\n",
      "Philamore 32\n",
      "Matsuno 31\n",
      "Sawaragi 28\n",
      "Okino 28\n",
      "Kumegawa 19\n"
     ]
    }
   ],
   "source": [
    "for name, room_number in room_allocation.items():\n",
    "    print(name, room_number)    "
   ]
  },
  {
   "cell_type": "markdown",
   "metadata": {
    "slideshow": {
     "slide_type": "slide"
    }
   },
   "source": [
    "__Try it yourself__<br>\n",
    "Copy and paste the code from the previous cell.\n",
    "<br>\n",
    "Edit it so that it prints the room numbers only. \n",
    "\n",
    "Remember you can __\"comment out\"__ the existing code (instead of deleting it) so that you can refer to it later.\n",
    "e.g.\n",
    "```python\n",
    "#print(name, room_number)\n",
    "```\n"
   ]
  },
  {
   "cell_type": "code",
   "execution_count": 152,
   "metadata": {
    "collapsed": false
   },
   "outputs": [
    {
     "name": "stdout",
     "output_type": "stream",
     "text": [
      "None\n",
      "32\n",
      "31\n",
      "28\n",
      "28\n",
      "19\n"
     ]
    }
   ],
   "source": [
    "# iterate over the dictionary, room_allocation.\n",
    "# print each name\n",
    "for name, room_number in room_allocation.items():\n",
    "    print(room_number)  "
   ]
  },
  {
   "cell_type": "markdown",
   "metadata": {
    "slideshow": {
     "slide_type": "slide"
    }
   },
   "source": [
    "Note that the order of the printed entries in the dictionary is different from the input order. \n",
    "\n",
    "A dictionary stores data differently from a list or tuple. \n",
    "\n",
    "\n",
    "\n",
    "\n",
    "\n",
    "\n",
    "\n",
    "\n"
   ]
  },
  {
   "cell_type": "markdown",
   "metadata": {
    "slideshow": {
     "slide_type": "slide"
    }
   },
   "source": [
    "### Look-up Keys\n",
    "\n",
    "Lists and tuples store entries as continuous pieces of memory, which is why we can access entries by index. \n",
    "\n",
    "Indexing cannot be used to access the entries of a dictionary. For example:\n",
    "```python\n",
    "print(room_allocation[0])\n",
    "```\n",
    "raises an error. "
   ]
  },
  {
   "cell_type": "markdown",
   "metadata": {
    "slideshow": {
     "slide_type": "slide"
    }
   },
   "source": [
    "Dictionaries use a different type of storage which allows us to perform look-ups using a 'key'."
   ]
  },
  {
   "cell_type": "markdown",
   "metadata": {
    "slideshow": {
     "slide_type": "slide"
    }
   },
   "source": [
    "print(room_allocation[\"Philamore\"])"
   ]
  },
  {
   "cell_type": "markdown",
   "metadata": {
    "slideshow": {
     "slide_type": "slide"
    }
   },
   "source": [
    "<a id='DictionaryAdd'></a>\n",
    "### Adding Entries to a Dictionary\n",
    "\n",
    "We use this same code to add new entries to an existing dictionary:  "
   ]
  },
  {
   "cell_type": "code",
   "execution_count": 156,
   "metadata": {
    "collapsed": false
   },
   "outputs": [
    {
     "name": "stdout",
     "output_type": "stream",
     "text": [
      "{'Endo': None, 'Philamore': 32, 'Matsuno': 31, 'Sawaragi': 28, 'Okino': 28, 'Kumegawa': 19}\n",
      "\n",
      "{'Endo': None, 'Philamore': 32, 'Matsuno': 31, 'Sawaragi': 28, 'Okino': 28, 'Kumegawa': 19, 'Fujiwara': 34}\n"
     ]
    }
   ],
   "source": [
    "room_allocation = {\"Endo\": None, \n",
    "                   \"Philamore\": 32, \n",
    "                   \"Matsuno\": 31, \n",
    "                   \"Sawaragi\": 28, \n",
    "                   \"Okino\": 28, \n",
    "                   \"Kumegawa\": 19}\n",
    "\n",
    "print(room_allocation)\n",
    "\n",
    "room_allocation[\"Fujiwara\"] = 34\n",
    "\n",
    "print()\n",
    "\n",
    "print(room_allocation)\n"
   ]
  },
  {
   "cell_type": "markdown",
   "metadata": {
    "slideshow": {
     "slide_type": "slide"
    }
   },
   "source": [
    "<a id='DictionaryRemove'></a>\n",
    "### Removing Entries from a Dictionary\n",
    "\n",
    "To remove an item from a disctionary we use the command `del`."
   ]
  },
  {
   "cell_type": "code",
   "execution_count": 157,
   "metadata": {
    "collapsed": false
   },
   "outputs": [
    {
     "name": "stdout",
     "output_type": "stream",
     "text": [
      "{'Endo': None, 'Philamore': 32, 'Matsuno': 31, 'Sawaragi': 28, 'Okino': 28, 'Kumegawa': 19, 'Fujiwara': 34}\n",
      "\n",
      "{'Endo': None, 'Philamore': 32, 'Matsuno': 31, 'Sawaragi': 28, 'Okino': 28, 'Kumegawa': 19}\n"
     ]
    }
   ],
   "source": [
    "print(room_allocation)\n",
    "\n",
    "del room_allocation[\"Fujiwara\"]\n",
    "\n",
    "print(\"\")\n",
    "\n",
    "print(room_allocation)"
   ]
  },
  {
   "cell_type": "markdown",
   "metadata": {
    "slideshow": {
     "slide_type": "slide"
    }
   },
   "source": [
    "__Try it yourself__\n",
    "<br>\n",
    "Okino-sensei is leaving Kyoto University. \n",
    "\n",
    "Her office will be re-allocated to a new member of staff, Ito-sensei.\n",
    "\n",
    "In the cell below, update the dictionary by deleting the entry for Okino-sensei and creating a new entry for Ito-sensei.\n",
    "\n",
    "Print the new list."
   ]
  },
  {
   "cell_type": "code",
   "execution_count": 159,
   "metadata": {
    "collapsed": false
   },
   "outputs": [
    {
     "name": "stdout",
     "output_type": "stream",
     "text": [
      "{'Endo': None, 'Philamore': 32, 'Matsuno': 31, 'Sawaragi': 28, 'Kumegawa': 19, 'Ito': 28}\n"
     ]
    }
   ],
   "source": [
    "# Remove Okino-sensei (room 28) from the dictionary.\n",
    "# Add a new entry for Ito-sensei (room 28)\n",
    "room_allocation = {\"Endo\": None, \n",
    "                   \"Philamore\": 32, \n",
    "                   \"Matsuno\": 31, \n",
    "                   \"Sawaragi\": 28, \n",
    "                   \"Okino\": 28, \n",
    "                   \"Kumegawa\": 19}\n",
    "del room_allocation[\"Okino\"]\n",
    "room_allocation[\"Ito\"] = 28\n",
    "print(room_allocation)"
   ]
  },
  {
   "cell_type": "markdown",
   "metadata": {
    "slideshow": {
     "slide_type": "slide"
    }
   },
   "source": [
    "So far we have used a string variable types for the dictionary keys.\n",
    "\n",
    "However, we can use almost any variable type as a key and we can mix types. \n",
    "\n"
   ]
  },
  {
   "cell_type": "markdown",
   "metadata": {
    "slideshow": {
     "slide_type": "slide"
    }
   },
   "source": [
    "<a id='DictionaryRestructure'></a>\n",
    "### Re-structuring to make a new Dictionary\n",
    "__Example__: We could 'invert' the room allocation dictionary to create a room-to-name map.\n",
    "\n",
    "Let's build a new dictionary (`room_map`) by looping through the old dictionary (`room_allocation`) using a `for` loop:"
   ]
  },
  {
   "cell_type": "code",
   "execution_count": 160,
   "metadata": {
    "collapsed": false,
    "slideshow": {
     "slide_type": "slide"
    }
   },
   "outputs": [
    {
     "name": "stdout",
     "output_type": "stream",
     "text": [
      "{None: 'Endo', 32: 'Philamore', 31: 'Matsuno', 28: 'Ito', 19: 'Kumegawa'}\n"
     ]
    }
   ],
   "source": [
    "# Create empty dictionary\n",
    "room_map = {}\n",
    "\n",
    "# Build dictionary to map 'room number' -> name \n",
    "for name, room_number in room_allocation.items():\n",
    "    \n",
    "    # Insert entry into new dictionary\n",
    "    room_map[room_number] = name\n",
    "\n",
    "print(room_map)"
   ]
  },
  {
   "cell_type": "code",
   "execution_count": 165,
   "metadata": {
    "collapsed": true
   },
   "outputs": [],
   "source": [
    "room_map = {room_number: name for name, room_number in room_allocation.items()}"
   ]
  },
  {
   "cell_type": "code",
   "execution_count": 172,
   "metadata": {
    "collapsed": false
   },
   "outputs": [
    {
     "name": "stdout",
     "output_type": "stream",
     "text": [
      "{None: 'Endo', 32: 'Philamore', 31: 'Matsuno', 28: 'Ito', 19: 'Kumegawa'}\n"
     ]
    }
   ],
   "source": [
    "print(room_map)"
   ]
  },
  {
   "cell_type": "markdown",
   "metadata": {
    "slideshow": {
     "slide_type": "slide"
    }
   },
   "source": [
    "We can now consult the room-to-name map to find out if a particular room is occupied and by whom.\n",
    "\n",
    "Let's assume some rooms are unoccupied and therefore do not exist in this dictionary.\n",
    "\n",
    "\n"
   ]
  },
  {
   "cell_type": "markdown",
   "metadata": {
    "slideshow": {
     "slide_type": "slide"
    }
   },
   "source": [
    "If we try to use a key that does not exist in the dictionary, e.g.\n",
    "\n",
    "   occupant17 = room_map[17]\n",
    "\n",
    "Python will give an error (raise an exception). \n",
    "\n",
    "If we're not sure that a __key__ is present (that a room is occupied or unocupied in this case), we can check using the funstion in '`in`' \n",
    "<br>(we used this function to check wether an entry exists in a __list__)\n"
   ]
  },
  {
   "cell_type": "code",
   "execution_count": 173,
   "metadata": {
    "collapsed": false,
    "slideshow": {
     "slide_type": "slide"
    }
   },
   "outputs": [
    {
     "name": "stdout",
     "output_type": "stream",
     "text": [
      "True\n",
      "False\n"
     ]
    }
   ],
   "source": [
    "print(19 in room_map)\n",
    "print(17 in room_map)"
   ]
  },
  {
   "cell_type": "markdown",
   "metadata": {},
   "source": [
    "So we know that:\n",
    " - room 17 is unoccupied\n",
    " - room 19 is occupied\n"
   ]
  },
  {
   "cell_type": "markdown",
   "metadata": {
    "slideshow": {
     "slide_type": "slide"
    }
   },
   "source": [
    "When using `in`, take care to check for the __key__ (not the value)"
   ]
  },
  {
   "cell_type": "code",
   "execution_count": 174,
   "metadata": {
    "collapsed": false
   },
   "outputs": [
    {
     "name": "stdout",
     "output_type": "stream",
     "text": [
      "False\n"
     ]
    }
   ],
   "source": [
    "print('Kumegawa' in room_map)"
   ]
  },
  {
   "cell_type": "code",
   "execution_count": 175,
   "metadata": {
    "collapsed": false
   },
   "outputs": [
    {
     "data": {
      "text/plain": [
       "True"
      ]
     },
     "execution_count": 175,
     "metadata": {},
     "output_type": "execute_result"
    }
   ],
   "source": [
    "'Kumegawa' in room_map.values()"
   ]
  },
  {
   "cell_type": "markdown",
   "metadata": {
    "slideshow": {
     "slide_type": "slide"
    }
   },
   "source": [
    "#### Potential application: avoid generating errors if unoccupied room numbers are entered.  \n",
    "\n",
    "For example, in a program that checks the occupants of rooms by entering the room number: "
   ]
  },
  {
   "cell_type": "code",
   "execution_count": 184,
   "metadata": {
    "collapsed": false
   },
   "outputs": [
    {
     "name": "stdout",
     "output_type": "stream",
     "text": [
      "Room 17 is unoccupied.\n",
      "Room 19 is occupied by Kumegawa-sensei\n"
     ]
    }
   ],
   "source": [
    "rooms_to_check = [17, 19]\n",
    "\n",
    "# Look Before You Leap\n",
    "for room in rooms_to_check:\n",
    "    if room in room_map:\n",
    "        print(f\"Room {room} is occupied by {room_map[room]}-sensei\")\n",
    "    else:\n",
    "        print(\"Room\", room, \"is unoccupied.\")"
   ]
  },
  {
   "cell_type": "markdown",
   "metadata": {},
   "source": [
    "In Python, the more standard way as to try and do what you want, and then do something if you get an error. However, Looking Before You Leap might still be useful when working with external libraries that don't fail cleanly, for example, or to avoid a time-consuming computation at the beginning of a loop or a function."
   ]
  },
  {
   "cell_type": "code",
   "execution_count": 183,
   "metadata": {
    "collapsed": false
   },
   "outputs": [
    {
     "name": "stdout",
     "output_type": "stream",
     "text": [
      "Room 17 is unoccupied.\n",
      "Room 19 is occupied by Kumegawa-sensei\n"
     ]
    }
   ],
   "source": [
    "# Easier to Ask for Forgiveness than Permission\n",
    "for room in rooms_to_check:\n",
    "    try:\n",
    "        print(f\"Room {room} is occupied by {room_map[room]}-sensei\")\n",
    "    except KeyError:\n",
    "        print(f\"Room {room} is unoccupied.\")"
   ]
  },
  {
   "cell_type": "markdown",
   "metadata": {},
   "source": [
    "## Choosing a data structure\n",
    "\n",
    "An important task when developing a computer program is selecting the *appropriate* data structure for a task.\n",
    "\n",
    "Here are some examples of the suitablity of the data types we have studied for some common computing tasks.\n"
   ]
  },
  {
   "cell_type": "markdown",
   "metadata": {
    "slideshow": {
     "slide_type": "slide"
    }
   },
   "source": [
    "- __Dynamically changing individual elements of a data structure.__ \n",
    "<br> \n",
    "e.g. updating the occupant of a room number or adding a name to a list of group members.<br> \n",
    "__Lists and dictionaries__ allow us to do this.<br> \n",
    "__Tuples__ do not."
   ]
  },
  {
   "cell_type": "markdown",
   "metadata": {},
   "source": [
    "- __Storing items in a perticular sequence (so that they can be addressed by index or in a particular order)__.\n",
    "<br> \n",
    "e.g. representing the x, y, z coordinates of a 3D position vector, storing data collected from an experiment as a time series. \n",
    "<br> \n",
    "__Lists and tuples__ allow us to do this.\n",
    "<br> \n",
    "__Dictionaries__ do not."
   ]
  },
  {
   "cell_type": "markdown",
   "metadata": {},
   "source": [
    "- __Performing an operation on every item in a sequence.__ \n",
    "<br> \n",
    "e.g. checking every item in a data set against a particular condition (e.g. prime number, multiple of 5....etc), performing an algebraic operation on every item in a data set. \n",
    "<br> \n",
    "__Lists and tuples__ make this simple as we can call each entry in turn using its index.\n",
    "<br> \n",
    "__Dictionaries__ this is less efficient as it requires more code."
   ]
  },
  {
   "cell_type": "markdown",
   "metadata": {},
   "source": [
    "- __Selecting a single item from a data structure without knowing its position in a sequence.__  \n",
    "e.g. looking up the profile of a person using their name, avoiding looping through a large data set in order to identify a single entry. \n",
    "<br> \n",
    "__Dictionaries__ allow us to select a single entry by an associated (unique) key variable.\n",
    "<br> \n",
    "__Lists and tuples__ make this difficult as to pick out a single value we must either i) know it's position in an ordered sequence, ii)loop through every item until we find it."
   ]
  },
  {
   "cell_type": "markdown",
   "metadata": {},
   "source": [
    "\n",
    "- __Protecting individual items of a data sequence from being added, removed or changed within the program.__\n",
    "<br>\n",
    "e.g. representing a vector of fixed length with fixed values, representing the coordintes of a fixed point. \n",
    "<br> \n",
    "__Tuples__ allow us to do this.\n",
    "<br> \n",
    "__Lists and dictionaries__ do not."
   ]
  },
  {
   "cell_type": "markdown",
   "metadata": {},
   "source": [
    "- __Speed__\n",
    "For many numerical computations, efficiency is essential. More flexible data structures are generally less efficient computationally. They require more computer memory. We will study the difference in speed there can be between different data structures in a later seminar."
   ]
  },
  {
   "cell_type": "markdown",
   "metadata": {},
   "source": [
    "## Review Exercises\n",
    "Here are a series of engineering problems for you to practise each of the new Python skills that you have learnt today."
   ]
  },
  {
   "cell_type": "markdown",
   "metadata": {},
   "source": [
    "### Review Exercise:  Data structures.\n",
    "\n",
    "__(A)__ In the cell below, what type of data structure is C?\n",
    "\n",
    "__(B)__ Write a line of code that checks whether 3 exists within the data structure.\n",
    "\n",
    "__(C)__ Write a line of code that checks whether 3.0 exists within the data structure.\n",
    "\n",
    "__(D)__ Write a line of code that checks whether \"3\" exists within the data structure.\n"
   ]
  },
  {
   "cell_type": "code",
   "execution_count": 186,
   "metadata": {
    "collapsed": false
   },
   "outputs": [
    {
     "name": "stdout",
     "output_type": "stream",
     "text": [
      "True\n",
      "True\n",
      "False\n"
     ]
    }
   ],
   "source": [
    "C = (2, 3, 5, 6, 1, \"hello\")\n",
    "print(3 in C)\n",
    "print(3.0 in C)\n",
    "print(\"3\" in C)"
   ]
  },
  {
   "cell_type": "markdown",
   "metadata": {},
   "source": [
    "### Review Exercise:  Using Lists with  `for` Loops.\n",
    "\n",
    "In the cell below:\n",
    "\n",
    "- Create a list with the names of the months. \n",
    "<br>\n",
    "- Create a second list with the number of days in each month (for a regular year). \n",
    "<br>\n",
    "- Create a `for` loop that prints:\n",
    "\n",
    "`The number of days in MONTH is XX days`\n",
    "\n",
    "where, `MONTH` is the name of the month and `XX` is the correct number of days in that month.\n",
    "\n",
    "Hint: Refer to <a href='#DotProductLists'>Indexing Example: The dot product of two vectors</a> for how to use two vectors in a loop.\n"
   ]
  },
  {
   "cell_type": "code",
   "execution_count": 193,
   "metadata": {
    "collapsed": false
   },
   "outputs": [
    {
     "name": "stdout",
     "output_type": "stream",
     "text": [
      "The number of days in January is 31 days\n",
      "The number of days in February is 28 days\n",
      "The number of days in March is 31 days\n",
      "The number of days in April is 30 days\n",
      "The number of days in May is 31 days\n",
      "The number of days in June is 30 days\n",
      "The number of days in July is 31 days\n",
      "The number of days in August is 31 days\n",
      "The number of days in September is 30 days\n",
      "The number of days in October is 31 days\n",
      "The number of days in November is 30 days\n",
      "The number of days in December is 31 days\n"
     ]
    }
   ],
   "source": [
    "# A for loop to print the number of days in each month\n",
    "month_names = [\"January\", \"February\", \"March\", \"April\", \"May\", \"June\", \"July\", \"August\", \"September\", \"October\", \"November\", \"December\"]\n",
    "number_days = [31, 28, 31, 30, 31, 30, 31, 31, 30, 31, 30, 31]\n",
    "\n",
    "for name, number in zip(month_names, number_days):\n",
    "    print(f'The number of days in {name} is {number} days')"
   ]
  },
  {
   "cell_type": "markdown",
   "metadata": {},
   "source": [
    "### Review Exercise: Indexing.\n",
    "\n",
    "__(A)__ In the cell below write a program that adds two vectors, $\\mathbf{A}$ and $\\mathbf{B}$, expressed as lists \n",
    "<br> \n",
    "\n",
    "$\\mathbf{A} = [-2, 1, 3]$\n",
    "\n",
    "$\\mathbf{B} = [6, 2, 2]$\n",
    "\n",
    " $ \\mathbf{C} = [C_1, \n",
    "                 C_2, ...\n",
    "                 C_n] = \\mathbf{A} + \\mathbf{B} = [(A_1 + B_1), \n",
    "                                                           (A_2 + B_2), ... \n",
    "                                                           (A_n + B_n)]$\n",
    "\n",
    "__Hints:__ \n",
    "- Refer to <a href='#DotProductLists'>Indexing Example: The dot product of two vectors</a> for how to use two vectors in a loop. \n",
    "- Start by creating an empty list, `C = []`. \n",
    "<br>Add an element to the list each time the code loops using the method `C.append()`\n",
    "<br><a href='#Append'>Jump to Adding an Item to a List</a>\n",
    " \n",
    "<br>\n",
    "__(B)__ To add two vectors, the number of elements in each vectors must be equal. \n",
    "<br>Use the function `len()` to print the length of $\\mathbf{A}$ and the length of $\\mathbf{B}$ before adding the two vectors.\n",
    "<br><a href='#Length'>Jump to Finding the Length of a List</a>\n",
    "\n",
    "<br>\n",
    "__(C)__ Use `if` and `else` statements (Seminar 2) to:\n",
    "- add the two vectors __only__ if the length of $\\mathbf{A}$ and the length of $\\mathbf{B}$ are equal.\n",
    "- otherwise print a message  (e.g. \"`unequal vector length!`\") \n",
    "\n",
    "Hint: Use a logical operator (`==`, `<`, `>`....) to compare the lengths of $\\mathbf{A}$ and $\\mathbf{B}$. <br>Refer to __Logical Operators__ (Seminar 2). \n",
    "\n",
    "<br>\n",
    "__(D)__ Check your code works by using it to try and add two vectors with:\n",
    "<br>i) the same number of elements in each vector\n",
    "<br>ii) a different number of elements in each vector"
   ]
  },
  {
   "cell_type": "code",
   "execution_count": 202,
   "metadata": {
    "collapsed": false
   },
   "outputs": [
    {
     "name": "stdout",
     "output_type": "stream",
     "text": [
      "3 3\n",
      "[4, 3, 5]\n"
     ]
    }
   ],
   "source": [
    "# Vector addition program with length check.\n",
    "A = [-2, 1, 3]\n",
    "B = [6, 2, 2]\n",
    "print(len(A), len(B))\n",
    "if len(A) == len(B):\n",
    "    C = [a + b for a, b in zip(A, B)]\n",
    "    print(C)\n",
    "else:\n",
    "    print(\"Unequal vector lengths!\")"
   ]
  },
  {
   "cell_type": "markdown",
   "metadata": {},
   "source": [
    "### Review Exercise: `if` and `else` statements.\n",
    "\n",
    "Copy and paste the program you wrote earlier to <a href='#DotProductLists'>find the dot product of two vectors</a>  into the cell below.\n",
    "\n",
    "Within the loop use `if`, `elif` and else `else` to make the program print:\n",
    " - \"`The angle between vectors is acute`\" if the dot product is positive.\n",
    " - \"`The angle between vectors is obtuse`\" if the dot product is negative.\n",
    " - \"`The vectors are perpendicular`\" if the dot product is 0."
   ]
  },
  {
   "cell_type": "code",
   "execution_count": 206,
   "metadata": {
    "collapsed": false
   },
   "outputs": [
    {
     "name": "stdout",
     "output_type": "stream",
     "text": [
      "-4\n",
      "The angle between vectors is obtuse\n"
     ]
    }
   ],
   "source": [
    "# Determinig angle types using the dot product.\n",
    "A = [-2, 1, 3]\n",
    "B = [6, 2, 2]\n",
    "dp = sum(a * b for a, b in zip(A, B))\n",
    "print(dp)\n",
    "\n",
    "if dp > 0:\n",
    "    print(\"The angle between vectors is acute\")\n",
    "elif dp < 0:\n",
    "    print(\"The angle between vectors is obtuse\")    \n",
    "else:\n",
    "    print(\"The vectors are perpendicular\")"
   ]
  },
  {
   "cell_type": "markdown",
   "metadata": {},
   "source": [
    "### Review Exercise: Dictionaries.\n",
    "\n",
    "<img src=\"img/periodic_table.gif\" alt=\"Drawing\" style=\"width: 500px;\"/>\n",
    "\n",
    "__(A)__ Choose 5 elements from the periodic table.\n",
    "<br>\n",
    "In the cell below create a dictionary: \n",
    "<a href='#Dictionaries'>Jump to Dictionaries</a>\n",
    " - __keys:__ chemical symbol names \n",
    " - __values:__ atomic numbers \n",
    " \n",
    " e.g. \n",
    " ```python\n",
    " dictionary = {\"C\":6, \"N\":7, \"O\":8....}\n",
    " \n",
    " ```\n",
    "\n",
    "\n",
    "__(B)__ Remove one entry from the dictionary and print the updated version.\n",
    "<br><a href='#DictionaryRemove'>Jump to Removing Entries from a Dictionary</a>\n",
    "\n",
    "__(C)__ Add a new entry (chemical symbol and atomic number) to the dictionary and print the updated version.\n",
    "<br><a href='#DictionaryAdd'>Jump to Adding Entries to a Dictionary</a>\n",
    "\n",
    "__(D)__ Use a `for` loop to create a new dictionary:  \n",
    " - __keys:__ atomic numbers \n",
    " - __values:__ chemical symbols\n",
    "using your original dictionary. \n",
    "<br> Hint: Refer to the earlier example of <a href='#DictionaryRestructure'>re-structuring to make a new dictioary.</a> \n",
    "\n",
    "__*Optional Extension*__\n",
    "\n",
    "__(E)__ Print a __list__ of the chemical symbols in your dictionary, sorted into alphabetical order.\n",
    "Hints:\n",
    " - Create an empty list \n",
    " - Use a for loop to add each chemical symbol to the list \n",
    " - Sort the list in alphabetical order "
   ]
  },
  {
   "cell_type": "code",
   "execution_count": 214,
   "metadata": {
    "collapsed": false
   },
   "outputs": [
    {
     "name": "stdout",
     "output_type": "stream",
     "text": [
      "{'Kr': 36, 'Ca': 20, 'C': 6, 'Au': 79, 'Ti': 22}\n",
      "{'Ca': 20, 'C': 6, 'Au': 79, 'Ti': 22}\n",
      "{'Ca': 20, 'C': 6, 'Au': 79, 'Ti': 22, 'Mg': 12}\n",
      "{20: 'Ca', 6: 'C', 79: 'Au', 22: 'Ti', 12: 'Mg'}\n",
      "['Au', 'C', 'Ca', 'Mg', 'Ti']\n"
     ]
    }
   ],
   "source": [
    "# Dictionary of periodic table items.\n",
    "five_elements = {\"Kr\": 36, \"Ca\": 20, \"C\": 6, \"Au\": 79, \"Ti\": 22}\n",
    "print(five_elements)\n",
    "del five_elements[\"Kr\"]\n",
    "print(five_elements)\n",
    "five_elements[\"Mg\"] = 12\n",
    "print(five_elements)\n",
    "\n",
    "five_zs = {number: element for element, number in five_elements.items()}\n",
    "print(five_zs)\n",
    "print(sorted(five_elements))"
   ]
  },
  {
   "cell_type": "markdown",
   "metadata": {},
   "source": [
    "### Review Exercise: `while` loops (bisection)\n",
    "\n",
    "Bisection is an iterative method for approximating a root of a function $y = F(x)$ \n",
    "<br>i.e. a value of $x$ for which the function $F(x)$ is equal to zero. \n",
    "<br>Therefore the roots are found where the line of the function F(x) __crosses__ the x axis (the red dot indicates the root of the function):\n",
    "\n",
    "\n",
    "<img src=\"img/bisection_method.png\" alt=\"Drawing\" style=\"width: 300px;\"/>\n",
    "\n",
    "\n",
    "If we know such a __crossing point__ lies within the interval x = a and x = b we can repeatedly *bisect* this interval to narrow down the interval in which x = root must lie. \n",
    "\n",
    "Each iteration, x$_{mid} = \\frac{a + b}{2}$ is determined and used to determine whether the crossing point is between x$_{mid}$ and a or x$_{mid}$ and b.\n",
    "<br>This is used to define a new, narrower interval in which we know the crossing point lies.\n",
    "\n",
    "    x_mid = (a + b) / 2\n",
    " \n",
    "\n",
    "      # If F(x) changes sign between F(x_mid) and F(a), \n",
    "      # the root must lie between F(x_mid) and F(a)\n",
    "      \n",
    "      if F(x_mid) * F(a) < 0:\n",
    "          b = x_mid\n",
    "          x_mid = (a + b)/2\n",
    "          \n",
    "          \n",
    "      # If F(x) changes sign between F(x_mid) and F(b), \n",
    "      # the root must lie between F(x_mid) and F(b)\n",
    "      \n",
    "      else:\n",
    "          a = x_mid\n",
    "          x_mid = (a + b)/2  \n",
    "          \n",
    "<img src=\"../../../ILAS_seminars/intro to python/img/bisection_method_simple.png\" alt=\"Drawing\" style=\"width: 300px;\"/>\n",
    "\n",
    "In the example shown, the midpoint (x$_{mid}$) of a$_1$  and b$_1$ is b$_2$ \n",
    "<br>F(a$_1$) $\\times$ F(b$_2$) = negative\n",
    "<br>F(b$_1$) $\\times$ F(b$_2$) = positive\n",
    "\n",
    "So the new increment is between a$_1$ and b$_2$.\n",
    "\n",
    "<br>\n",
    "\n",
    "By repeating this process, the value of F(x$_{mid}$) should become closer to zero with each iteration.\n",
    "\n",
    "The process is repeated until the *absolute* value |F(x$_{mid}$)| is sufficiently small (below a predetermined value (*tolerance*)). \n",
    "\n",
    "We then determine x$_{mid}$ is the root of the function. \n",
    "\n",
    "It is a very simple and robust method.\n",
    "\n",
    "**Task:** \n",
    "\n",
    "$$\n",
    "F(x) = 4x^3 - 3x^2 - 25x - 6\n",
    "$$\n",
    "\n",
    "<img src=\"img/graph_polynomial.png\" alt=\"Drawing\" style=\"width: 300px;\"/>\n",
    "\n",
    "The function has one root between x = 0 and x = -0.6.\n",
    "\n",
    "__(A)__ Use the bisection method to estimate the value of the root between x = 0 and x = -0.6.\n",
    "<br>Instructions:\n",
    "- Use a while loop to repeat the code above __while__ absF(x$_{mid}$) > 1 $\\times10^{-6}$.\n",
    "- Each time the code loops:\n",
    " - __Compute__ F(a), F(b) and F(x_mid) [Hint: Use approprate variable names that don't contain () parentheses) \n",
    " - __Print__ F(x$_{mid}$) to check absF(x$_{mid}$)  $< 1 \\times10^{-6}$. <br>Use  the function `abs()` to compute the absolute value of a number, <br>https://docs.python.org/3/library/functions.html#abs  <br> e.g. `y = abs(x)` assigns the absolute value of `x` to `y`. \n",
    " - __Bisect__ the increment using the code shown above\n",
    "- __After__ the loop print the final value of x$_{mid}$ using `print(\"root = \", x_mid) `. <br>This value is the estimate of the root.\n",
    "\n",
    "<a href='#WhileLoops'>Jump to While Loops'</a>\n",
    "\n",
    "__(B)__ The bisection method is only effective where F(a) and F(b) are of opposite sign.\n",
    "<br> i.e. where F(a) $\\times$ F(b) $ < 0$\n",
    "<br>Add an if statement to your code so that the while loop is only run *if* the inputs a and b are of opposite sign."
   ]
  },
  {
   "cell_type": "code",
   "execution_count": 228,
   "metadata": {
    "collapsed": false
   },
   "outputs": [
    {
     "name": "stdout",
     "output_type": "stream",
     "text": [
      "1.1219999999999999\n",
      "-2.331\n",
      "-0.5724375000000013\n",
      "0.2834296874999991\n",
      "-0.14242089843750083\n",
      "0.07103503417968593\n",
      "-0.035561508178711954\n",
      "0.01776977348327513\n",
      "-0.008887634038925896\n",
      "0.004443130463360312\n",
      "-0.002221736904234106\n",
      "0.0011108255381691023\n",
      "-0.0005554234980964523\n",
      "0.0002777090668590887\n",
      "-0.00013885520398559947\n",
      "6.942743435445209e-05\n",
      "-3.4713759087701135e-05\n",
      "1.7356869064677483e-05\n",
      "-8.678437152909169e-06\n",
      "4.3392179209789106e-06\n",
      "-2.169609125246552e-06\n",
      "1.084804519990712e-06\n",
      "-5.424022715416754e-07\n",
      "root = -0.2500000119209289\n"
     ]
    }
   ],
   "source": [
    "# Bisection while loop\n",
    "x_a = -0.6\n",
    "x_b = 0\n",
    "x_mid = (x_a + x_b)/2\n",
    "\n",
    "F_x_a = 4*x_a**3 - 3*x_a**2 - 25*x_a - 6\n",
    "F_x_b = 4*x_b**3 - 3*x_b**2 - 25*x_b - 6\n",
    "F_x_mid = 4*x_mid**3 - 3*x_mid**2 - 25*x_mid - 6\n",
    "\n",
    "if F_x_a * F_x_b < 0:\n",
    "    while abs(F_x_mid) > 1e-6:\n",
    "        F_x_a = 4*x_a**3 - 3*x_a**2 - 25*x_a - 6\n",
    "        F_x_b = 4*x_b**3 - 3*x_b**2 - 25*x_b - 6\n",
    "        F_x_mid = 4*x_mid**3 - 3*x_mid**2 - 25*x_mid - 6\n",
    "        print(F_x_mid)\n",
    "\n",
    "        if F_x_a*F_x_mid > 0:  # if the product is positive then they have the same sign\n",
    "            x_a = x_mid\n",
    "        elif F_x_b*F_x_mid > 0:\n",
    "            x_b = x_mid\n",
    "        # no need for else if the product is equal to zero because zero is less than 1e-6 so the loop ends.\n",
    "        x_mid = (x_a + x_b)/2\n",
    "    print('root =', x_mid)"
   ]
  },
  {
   "cell_type": "code",
   "execution_count": 227,
   "metadata": {
    "collapsed": false
   },
   "outputs": [
    {
     "data": {
      "text/plain": [
       "-0.2500000119209289"
      ]
     },
     "execution_count": 227,
     "metadata": {},
     "output_type": "execute_result"
    }
   ],
   "source": [
    "def F(x):\n",
    "    return 4*x**3 - 3*x**2 - 25*x - 6\n",
    "\n",
    "def same_sign(a, b):\n",
    "    return a * b > 0\n",
    "\n",
    "def mid(a, b):\n",
    "    return (a + b) / 2\n",
    "\n",
    "def solve(function, x_a, x_b, a_tol=1e-6):\n",
    "    if function(x_a) == 0:\n",
    "        return x_a\n",
    "    elif function(x_b) == 0:\n",
    "        return x_b\n",
    "    elif not same_sign(function(x_a), function(x_b)):\n",
    "        x_mid = mid(x_a, x_b)\n",
    "        y_mid = function(x_mid)\n",
    "        while abs(y_mid) > a_tol:\n",
    "            y_a = function(x_a)\n",
    "            y_b = function(x_b)\n",
    "            y_mid = function(x_mid)\n",
    "            if same_sign(y_a, y_mid):\n",
    "                x_a = x_mid\n",
    "            elif same_sign(y_b, y_mid):\n",
    "                x_b = x_mid\n",
    "            x_mid = mid(x_a, x_b)\n",
    "        return x_mid\n",
    "    \n",
    "solve(F, -0.6, 0)"
   ]
  },
  {
   "cell_type": "markdown",
   "metadata": {},
   "source": [
    " __(C)__ In the previous example you stopped the while loop when the value of the function was sufficiently small (abs(F(x$_{mid}$)) $< 1 \\times10^{-6}$) that we can consider the corresponding value of x to be a root of the function.  \n",
    "\n",
    "This time we are going to edit your code so that the loop is stopped when it reaches a __maximum number of iterations__.  <br>Copy and paste your code from the cell above in the cel below. \n",
    "<br>Replace your __while loop__ with a __for loop__ that runs the code in the loop 25 times then stops.  \n",
    "\n",
    "__(D)__ Within the for loop, add a `break` statement.\n",
    "<br>The `break` statement should exit the for loop __if__ abs(F$_mid$) $< 1 \\times10^{-6}$.\n",
    "<br>i.e. __if__ abs(F$_mid$) $< 1 \\times10^{-6}$ the loop will stop before the maximum number of iterations is reached.\n",
    "<br>Before the command `break`, print the value of x$_{mid}$ using `print(\"root = \", x_mid) `. <br>This value is the estimate of the root.\n",
    "\n",
    "<a href='#Break'>Jump to break'</a> "
   ]
  },
  {
   "cell_type": "code",
   "execution_count": 237,
   "metadata": {
    "collapsed": false
   },
   "outputs": [
    {
     "name": "stdout",
     "output_type": "stream",
     "text": [
      "1.1219999999999999\n",
      "-2.331\n",
      "-0.5724375000000013\n",
      "0.2834296874999991\n",
      "-0.14242089843750083\n",
      "0.07103503417968593\n",
      "-0.035561508178711954\n",
      "0.01776977348327513\n",
      "-0.008887634038925896\n",
      "0.004443130463360312\n",
      "-0.002221736904234106\n",
      "0.0011108255381691023\n",
      "-0.0005554234980964523\n",
      "0.0002777090668590887\n",
      "-0.00013885520398559947\n",
      "6.942743435445209e-05\n",
      "-3.4713759087701135e-05\n",
      "1.7356869064677483e-05\n",
      "-8.678437152909169e-06\n",
      "4.3392179209789106e-06\n",
      "-2.169609125246552e-06\n",
      "1.084804519990712e-06\n",
      "-5.424022715416754e-07\n",
      "root = -0.24999997615814204\n"
     ]
    }
   ],
   "source": [
    "# Copy and paste your code from the cell above, here\n",
    "# Bisection while loop\n",
    "x_a = -0.6\n",
    "x_b = 0\n",
    "x_mid = (x_a + x_b)/2\n",
    "\n",
    "F_x_a = 4*x_a**3 - 3*x_a**2 - 25*x_a - 6\n",
    "F_x_b = 4*x_b**3 - 3*x_b**2 - 25*x_b - 6\n",
    "F_x_mid = 4*x_mid**3 - 3*x_mid**2 - 25*x_mid - 6\n",
    "\n",
    "if F_x_a * F_x_b < 0:\n",
    "    for _ in range(25):  # we used an _ instead of \"i\" because we do not use \"i\" in the loop.\n",
    "        F_x_a = 4*x_a**3 - 3*x_a**2 - 25*x_a - 6\n",
    "        F_x_b = 4*x_b**3 - 3*x_b**2 - 25*x_b - 6\n",
    "        F_x_mid = 4*x_mid**3 - 3*x_mid**2 - 25*x_mid - 6\n",
    "        print(F_x_mid)\n",
    "        if abs(F_x_mid) < 1e-6:\n",
    "            break\n",
    "        if F_x_a*F_x_mid > 0:  # if the product is positive then they have the same sign\n",
    "            x_a = x_mid\n",
    "        elif F_x_b*F_x_mid > 0:\n",
    "            x_b = x_mid\n",
    "        # no need for else if the product is equal to zero because zero is less than 1e-6 so the loop ends.\n",
    "        x_mid = (x_a + x_b)/2\n",
    "    print('root =', x_mid)\n"
   ]
  },
  {
   "cell_type": "markdown",
   "metadata": {},
   "source": [
    "# Updating your git repository\n",
    "\n",
    "You have made several changes to your interactive textbook.\n",
    "\n",
    "The final thing we are going to do is add these changes to your online repository so that:\n",
    " - I can check your progress\n",
    " - You can access the changes from outside of the university server. \n",
    " \n",
    " > Save your work.\n",
    " > <br> `git add -A`\n",
    " > <br>`git commit -m \"A short message describing changes\"`\n",
    " > <br>`git push origin master`\n",
    " \n",
    " <br>Refer to supplementary material: __S1_Introduction_to_Version_Control.ipynb__.  "
   ]
  },
  {
   "cell_type": "markdown",
   "metadata": {
    "collapsed": true
   },
   "source": [
    "## Summary\n",
    " - A data structure is used to assign a collection of values to a single collection name.\n",
    " - A Python list can store multiple items of data in sequentially numbered elements (numbering starts at zero)\n",
    " - Data stored in a list element can be referenced using the list name can be referenced using the list name followed by an index number in [] square brackets.\n",
    " - The `len()` function returns the length of a specified list.\n",
    " - A Python tuple whose values can not be individually changed, removed or added to (except by adding another tuple).\n",
    " - Data stored in a tuple element can be referenced using the tuple name followed by an index number in [] square brackets.\n",
    " - A Python dictionary is a list of key: value pairs of data in which each key must be unique.\n",
    " - Data stored in a dictionary element can be referenced using the dictionary name followed by its key in [] square brackets. "
   ]
  },
  {
   "cell_type": "markdown",
   "metadata": {
    "collapsed": true
   },
   "source": [
    "# Homework \n",
    "\n",
    "1. __PULL__ the changes you made in-class today to your personal computer.\n",
    "1. __COMPLETE__ any unfinished Review Exercises.\n",
    "1. __PUSH__ the changes you make at home to your online repository. \n",
    "\n",
    "<br>Refer to supplementary material: __S1_Introduction_to_Version_Control.ipynb__.  \n",
    "\n",
    "In particular, please complete: __Review Exercise: `while` loops (bisection)__. \n",
    "<br>You will need to refer to your answer in next week's Seminar. "
   ]
  }
 ],
 "metadata": {
  "kernelspec": {
   "display_name": "Python 3",
   "language": "python",
   "name": "python3"
  },
  "language_info": {
   "codemirror_mode": {
    "name": "ipython",
    "version": 3
   },
   "file_extension": ".py",
   "mimetype": "text/x-python",
   "name": "python",
   "nbconvert_exporter": "python",
   "pygments_lexer": "ipython3",
   "version": "3.6.0"
  }
 },
 "nbformat": 4,
 "nbformat_minor": 2
}
