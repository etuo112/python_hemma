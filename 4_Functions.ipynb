{
 "cells": [
  {
   "cell_type": "code",
   "execution_count": 1,
   "metadata": {
    "collapsed": false
   },
   "outputs": [
    {
     "data": {
      "text/html": [
       "<style>\n",
       "\n",
       "body {\n",
       " counter-reset: h2counter;\n",
       "}\n",
       "h1 {\n",
       " counter-reset: h2counter;\n",
       "}\n",
       "h2:before {\n",
       " content: counter(h2counter) \".\\0000a0\\0000a0\";\n",
       " counter-increment: h2counter;\n",
       " counter-reset: h3counter;\n",
       "}\n",
       "\n",
       "\n",
       "</style>\n"
      ],
      "text/plain": [
       "<IPython.core.display.HTML object>"
      ]
     },
     "execution_count": 1,
     "metadata": {},
     "output_type": "execute_result"
    }
   ],
   "source": [
    "from IPython.core.display import HTML\n",
    "def css_styling():\n",
    "    styles = open(\"./styles/custom.css\", \"r\").read()\n",
    "    return HTML(styles)\n",
    "css_styling()"
   ]
  },
  {
   "cell_type": "markdown",
   "metadata": {},
   "source": [
    "__PULL__ the changes you made at home to your local copy on the M drive.\n",
    "\n",
    "__PULL__ the homework solutions to your local copy on the M drive.\n",
    "\n",
    "If you need a reminder of how to do this:\n",
    "\n",
    "Open Jupyter notebook:\n",
    "<br> Start >> Programs >> Programming >> Anaconda3 >> JupyterNotebook\n",
    "<br>(Start >> すべてのプログラム >> Programming >> Anaconda3 >> JupyterNotebook)\n",
    "\n",
    "Navigate to where your interactive textbook is stored.\n",
    "\n",
    "Open __S1_Introduction_to_Version_Control__.  "
   ]
  },
  {
   "cell_type": "markdown",
   "metadata": {
    "slideshow": {
     "slide_type": "slide"
    }
   },
   "source": [
    "Open Jupyter notebook:\n",
    "<br>Start >> Programs >> Programming >> Anaconda3 >> JupyterNotebook\n",
    "<br>(Start >> すべてのプログラム >> Programming >> Anaconda3 >> JupyterNotebook)\n",
    "\n",
    "Navigate to where your interactive textbook is stored.\n",
    "\n",
    "Open __Seminar 4__  by clicking on __4_Functions__."
   ]
  },
  {
   "cell_type": "markdown",
   "metadata": {
    "collapsed": true,
    "slideshow": {
     "slide_type": "slide"
    }
   },
   "source": [
    "# Functions\n",
    "\n",
    "# Lesson Goal\n",
    "\n",
    "To encapsulate the code you have been writing to solve engineering problems as Python functions. \n",
    "\n"
   ]
  },
  {
   "cell_type": "markdown",
   "metadata": {
    "slideshow": {
     "slide_type": "slide"
    }
   },
   "source": [
    "# Objectives\n",
    "\n",
    "- Learn to write a user-defined Python function.  \n",
    "- Pass arguments to a function to give it inputs.\n",
    "- Use global and local variables within functions.  \n",
    "- Generate sequences of values recursively using functions [and generators].\n",
    "- [Generating functions using an alternative method (lamda functions)]."
   ]
  },
  {
   "cell_type": "markdown",
   "metadata": {
    "slideshow": {
     "slide_type": "slide"
    }
   },
   "source": [
    "Why we are studying this:\n",
    "\n",
    "  - To produce code that is shorter and more concise. \n",
    "  - To produce code that we can re-use making the code we write less repetitive. \n",
    "  - To quickly apply our code to multiple (sometimes very large numbes of) variables. \n",
    "  - To have less coded to \"debug\", reducing our risk of errors. \n"
   ]
  },
  {
   "cell_type": "markdown",
   "metadata": {},
   "source": [
    " Lesson structure:\n",
    " - Learn new skills together:\n",
    "  - __Demonstration__ on slides.\n",
    "  - __Completing examples__ in textbooks.\n",
    "  - __Feedback answers__ (verbally / whiteboards)\n",
    " - __Summary__and __quiz__."
   ]
  },
  {
   "cell_type": "markdown",
   "metadata": {
    "slideshow": {
     "slide_type": "slide"
    }
   },
   "source": [
    "Let’s start by finding out what a function is…"
   ]
  },
  {
   "cell_type": "markdown",
   "metadata": {
    "slideshow": {
     "slide_type": "slide"
    }
   },
   "source": [
    "## What is a function?\n",
    "\n",
    "Functions are one of the most important concepts in computing. \n",
    "\n",
    "In mathematics, a function is a relation between __inputs__ and a set of permissible __outputs__.\n",
    "\n",
    "Example: The function relating $x$ to $x^2$ is:\n",
    "$$ \n",
    "f(x) = x \\cdot x\n",
    "$$"
   ]
  },
  {
   "cell_type": "markdown",
   "metadata": {
    "slideshow": {
     "slide_type": "slide"
    }
   },
   "source": [
    "In programming, a function behaves in a similar way. \n",
    "\n",
    "__Function__: A named section of a code that performs a specific task. \n",
    "\n"
   ]
  },
  {
   "cell_type": "markdown",
   "metadata": {
    "slideshow": {
     "slide_type": "slide"
    }
   },
   "source": [
    "Functions can (although do no always) take data as __inputs__ and return __outputs__.\n",
    "\n",
    " \n",
    "A simple function example:\n",
    " - Inputs: the coordinates of the vertices of a triangle.\n",
    " - Output: the area of the triangle. "
   ]
  },
  {
   "cell_type": "markdown",
   "metadata": {
    "slideshow": {
     "slide_type": "slide"
    }
   },
   "source": [
    "You are already familiar with some *built in* Python functions:\n",
    "\n",
    "   - `print()` takes the __input__ in the parentheses and __outputs__ a visible representation.\n",
    "   - `len()` takes a data structure as __input__ in the parentheses and __outputs__ the number of items in the data structure (in one direction).\n",
    "   - `sorted()` takes a data structure as __input__ in the parentheses and __outputs__ the data structure sorted by a rule determined by the data type.\n",
    "   \n",
    "   \n"
   ]
  },
  {
   "cell_type": "markdown",
   "metadata": {
    "collapsed": true,
    "slideshow": {
     "slide_type": "slide"
    }
   },
   "source": [
    "You are already familiar with some *built in* Python functions:\n",
    "\n",
    " `print()` takes the __input__ in the parentheses and __outputs__ a visible representation.\n",
    "  "
   ]
  },
  {
   "cell_type": "markdown",
   "metadata": {
    "collapsed": true,
    "slideshow": {
     "slide_type": "slide"
    }
   },
   "source": [
    "  `len()` takes a data structure as __input__ in the parentheses and __outputs__ the number of items in the data structure (in one direction).\n",
    "  "
   ]
  },
  {
   "cell_type": "markdown",
   "metadata": {},
   "source": [
    "`sorted()` takes a data structure as __input__ in the parentheses and __outputs__ the data structure sorted by a rule determined by the data type.\n",
    "   "
   ]
  },
  {
   "cell_type": "markdown",
   "metadata": {
    "slideshow": {
     "slide_type": "slide"
    }
   },
   "source": [
    "Most Python programs contain a number of *custom functions*. \n",
    "\n",
    "These are functions, created by the programmer (you!) to perform a specific task."
   ]
  },
  {
   "cell_type": "markdown",
   "metadata": {
    "slideshow": {
     "slide_type": "slide"
    }
   },
   "source": [
    "## The Anatomy of a Function\n",
    "\n",
    "Here is a python function in pseudocode:\n",
    "        \n",
    "        def function_name():\n",
    "            code to execute\n",
    "            more code to execute\n",
    "            \n",
    "\n"
   ]
  },
  {
   "cell_type": "markdown",
   "metadata": {
    "slideshow": {
     "slide_type": "slide"
    }
   },
   "source": [
    "A custom function is __declared__ using:\n",
    "1. The definition keyword, `def`.\n",
    "1. A name of your choice.\n",
    "1. () parentheses\n",
    "1. : a colon character\n",
    "1. The code to be executed when the function is *called*. "
   ]
  },
  {
   "cell_type": "markdown",
   "metadata": {
    "slideshow": {
     "slide_type": "slide"
    }
   },
   "source": [
    "Below is an example of a Python function.\n"
   ]
  },
  {
   "cell_type": "code",
   "execution_count": 2,
   "metadata": {
    "collapsed": true
   },
   "outputs": [],
   "source": [
    "def sum_and_increment(a, b):    \n",
    "    c = a + b + 1\n",
    "    return c"
   ]
  },
  {
   "cell_type": "markdown",
   "metadata": {
    "slideshow": {
     "slide_type": "slide"
    }
   },
   "source": [
    "__Function name:__  `sum_and_increment`\n",
    "\n",
    "__Inputs/arguments:__ \n",
    "<br>`a` and `b`\n",
    "<br> Function arguments are placed within () parentheses.\n",
    "\n",
    "  ```python\n",
    "  def sum_and_increment(a, b): \n",
    "  \n",
    "  ```\n",
    "__Body:__ \n",
    "<br>The code to be executed when the function is called. \n",
    "<br> Indented by four spaces. \n",
    "<br>Indentation happens automatically.  \n",
    "\n"
   ]
  },
  {
   "cell_type": "markdown",
   "metadata": {
    "slideshow": {
     "slide_type": "slide"
    }
   },
   "source": [
    "Code indented to the same level (or less) as `def` falls __outside__ of the function body.\n",
    "\n",
    "  ```python\n",
    "    def sum_and_increment(a, b): \n",
    "          c = a + b + 1\n",
    "          return c\n",
    "  ```\n",
    "__`return`__ statement: \n",
    "<br>Defines what result the function should return. \n",
    "<br>Often placed at the end of a function.\n",
    "<br>A function doesn't always include a return statement."
   ]
  },
  {
   "cell_type": "markdown",
   "metadata": {
    "slideshow": {
     "slide_type": "slide"
    }
   },
   "source": [
    "<a id='DocString'></a>\n",
    "### The Documentation String\n",
    "It is best practise to include a *documentation string* (\"doc string\").\n",
    " - Describes __in words__ what the function does.\n",
    " - Begins and end with `\"\"\"`.\n",
    " - *Optional* - however it makes your code much more understandadble. "
   ]
  },
  {
   "cell_type": "code",
   "execution_count": 3,
   "metadata": {
    "collapsed": true
   },
   "outputs": [],
   "source": [
    "def sum_and_increment(a, b):\n",
    "    \"\"\"\"\n",
    "    Return the sum of a and b, plus 1\n",
    "    \"\"\"\n",
    "    c = a + b + 1\n",
    "    return c\n"
   ]
  },
  {
   "cell_type": "markdown",
   "metadata": {
    "slideshow": {
     "slide_type": "slide"
    }
   },
   "source": [
    "To execute (*call*) the function, type:\n",
    " - a variable name to store the output (`n` in the example below)\n",
    " - the function name\n",
    " - any arguments in parentheses"
   ]
  },
  {
   "cell_type": "code",
   "execution_count": 4,
   "metadata": {
    "collapsed": false
   },
   "outputs": [
    {
     "name": "stdout",
     "output_type": "stream",
     "text": [
      "8\n",
      "21\n"
     ]
    }
   ],
   "source": [
    "def sum_and_increment(a, b):\n",
    "    \"\"\"\"\n",
    "    Return the sum of a and b, plus 1\n",
    "    \"\"\"\n",
    "    c = a + b + 1\n",
    "    return c\n",
    "\n",
    "m = sum_and_increment(3, 4)\n",
    "print(m)  # Expect 8\n",
    "\n",
    "m = 10\n",
    "n = sum_and_increment(m, m)\n",
    "print(n)  # Expect 21"
   ]
  },
  {
   "cell_type": "code",
   "execution_count": 5,
   "metadata": {
    "collapsed": false,
    "slideshow": {
     "slide_type": "slide"
    }
   },
   "outputs": [
    {
     "name": "stdout",
     "output_type": "stream",
     "text": [
      "4\n",
      "6\n"
     ]
    }
   ],
   "source": [
    "def sum_and_increment(a, b):\n",
    "    \"\"\"\"\n",
    "    Return the sum of a and b, plus 1\n",
    "    \"\"\"\n",
    "    c = a + b + 1\n",
    "    return c\n",
    "\n",
    "m = sum_and_increment(2, 1)\n",
    "print(m) \n",
    "\n",
    "l = 5\n",
    "m = 6\n",
    "n = sum_and_increment(m, l)\n",
    "print(m) "
   ]
  },
  {
   "cell_type": "code",
   "execution_count": 6,
   "metadata": {
    "collapsed": false,
    "slideshow": {
     "slide_type": "slide"
    }
   },
   "outputs": [
    {
     "name": "stdout",
     "output_type": "stream",
     "text": [
      "5\n"
     ]
    }
   ],
   "source": [
    "def sum_and_increment(a, b):\n",
    "    \"\"\"\"\n",
    "    Return the sum of a and b, plus 1\n",
    "    \"\"\"\n",
    "    c = a + b + 1\n",
    "    return c\n",
    "\n",
    "m = 2\n",
    "m = sum_and_increment(m, m)\n",
    "print(m) "
   ]
  },
  {
   "cell_type": "markdown",
   "metadata": {
    "slideshow": {
     "slide_type": "slide"
    }
   },
   "source": [
    "Example: a function that:\n",
    "- does not take any arguments\n",
    "- does not return any variables."
   ]
  },
  {
   "cell_type": "code",
   "execution_count": 7,
   "metadata": {
    "collapsed": false
   },
   "outputs": [
    {
     "name": "stdout",
     "output_type": "stream",
     "text": [
      "The function 'print_message' has been called.\n"
     ]
    }
   ],
   "source": [
    "def print_message():\n",
    "    print(\"The function 'print_message' has been called.\")\n",
    "\n",
    "print_message()"
   ]
  },
  {
   "cell_type": "markdown",
   "metadata": {
    "slideshow": {
     "slide_type": "slide"
    }
   },
   "source": [
    "Functions are good for repetitive tasks. \n",
    "\n",
    "Computer code can be re-used multiple times with different input data. \n",
    "\n",
    "Re-using code reduces the risk of making mistakes or errors. \n",
    "\n"
   ]
  },
  {
   "cell_type": "markdown",
   "metadata": {
    "slideshow": {
     "slide_type": "slide"
    }
   },
   "source": [
    "Below is a simple example of a function using `if` and `else` control statements.`\n",
    "\n"
   ]
  },
  {
   "cell_type": "code",
   "execution_count": 8,
   "metadata": {
    "collapsed": true
   },
   "outputs": [],
   "source": [
    "def process_value(x):\n",
    "    \"Return a value that depends on the input value x \"\n",
    "    if x > 10:\n",
    "        return 0\n",
    "    elif x > 5:\n",
    "        return x*x\n",
    "    elif x > 0:\n",
    "        return x**3\n",
    "    else:\n",
    "        return x"
   ]
  },
  {
   "cell_type": "markdown",
   "metadata": {
    "slideshow": {
     "slide_type": "slide"
    }
   },
   "source": [
    "By placing these in a function we can avoid duplicating the `if-elif-else` statement every time we want to use it. \n"
   ]
  },
  {
   "cell_type": "code",
   "execution_count": 9,
   "metadata": {
    "collapsed": false
   },
   "outputs": [
    {
     "name": "stdout",
     "output_type": "stream",
     "text": [
      "27\n"
     ]
    }
   ],
   "source": [
    "print(process_value(3))"
   ]
  },
  {
   "cell_type": "markdown",
   "metadata": {
    "slideshow": {
     "slide_type": "slide"
    }
   },
   "source": [
    "Below is a simple example of a function being 'called' numerous times from inside a `for` loop."
   ]
  },
  {
   "cell_type": "code",
   "execution_count": 10,
   "metadata": {
    "collapsed": false
   },
   "outputs": [
    {
     "name": "stdout",
     "output_type": "stream",
     "text": [
      "0\n",
      "1\n",
      "8\n",
      "0\n",
      "1\n",
      "8\n"
     ]
    }
   ],
   "source": [
    "for x in range(3):\n",
    "    print(process_value(x))\n",
    "       \n",
    "# which is much neater than\n",
    "    \n",
    "for x in range(3):\n",
    "    if x > 10:\n",
    "        print(0)\n",
    "    elif x > 5:\n",
    "        print(x*x)\n",
    "    elif x > 0:\n",
    "        print(x**3)\n",
    "    else:\n",
    "        print(x)\n",
    "    \n",
    "# but gives the same result:"
   ]
  },
  {
   "cell_type": "markdown",
   "metadata": {
    "slideshow": {
     "slide_type": "slide"
    }
   },
   "source": [
    "The more times we want to use the function, the more useful this becomes:"
   ]
  },
  {
   "cell_type": "code",
   "execution_count": 11,
   "metadata": {
    "collapsed": false
   },
   "outputs": [
    {
     "name": "stdout",
     "output_type": "stream",
     "text": [
      "0\n",
      "1\n",
      "8\n",
      "0\n",
      "1\n",
      "8\n",
      "27\n",
      "64\n",
      "125\n",
      "36\n",
      "49\n",
      "64\n",
      "81\n",
      "100\n",
      "0\n",
      "0\n",
      "1\n"
     ]
    }
   ],
   "source": [
    "def process_value(x):\n",
    "    \"Return a value that depends on the input value x \"\n",
    "    if x > 10:\n",
    "        return 0\n",
    "    elif x > 5:\n",
    "        return x*x\n",
    "    elif x > 0:\n",
    "        return x**3\n",
    "    else:\n",
    "        return x\n",
    "       \n",
    "for y in range(3):\n",
    "    print(process_value(y))\n",
    "\n",
    " \n",
    "for y in range(12):\n",
    "    print(process_value(y))\n",
    "    \n",
    "\n",
    "for y in range(2):\n",
    "    print(process_value(y))"
   ]
  },
  {
   "cell_type": "markdown",
   "metadata": {
    "slideshow": {
     "slide_type": "slide"
    }
   },
   "source": [
    "Functions can make programs more readable.<br>\n",
    "\n",
    "__Example:__ <br>\n",
    "A function called `sin`, that computes and returns $\\sin(x)$, <br>\n",
    "is far more readable than writing the equation for  $\\sin(x)$ every time we want to use it. "
   ]
  },
  {
   "cell_type": "markdown",
   "metadata": {
    "slideshow": {
     "slide_type": "slide"
    }
   },
   "source": [
    "## Function Arguments\n",
    "\n",
    "It is important to input arguments in the correct order when calling a function.         \n",
    "\n"
   ]
  },
  {
   "cell_type": "code",
   "execution_count": 12,
   "metadata": {
    "collapsed": true
   },
   "outputs": [],
   "source": [
    "def sum_and_increment(a, b):\n",
    "            \"\"\"\"\n",
    "            Return the sum of a and b, plus 1\n",
    "            \"\"\"\n",
    "            c = a + b + 1\n",
    "            return c"
   ]
  },
  {
   "cell_type": "markdown",
   "metadata": {
    "slideshow": {
     "slide_type": "slide"
    }
   },
   "source": [
    "The function `sum_and_increment` adds:\n",
    " - the first argument, `a`\n",
    " - ...to the second argument `b`\n",
    " - ...to 1.\n",
    " \n",
    "If the order of a and b is switched, the result is the same.\n"
   ]
  },
  {
   "cell_type": "code",
   "execution_count": 13,
   "metadata": {
    "collapsed": false
   },
   "outputs": [
    {
     "name": "stdout",
     "output_type": "stream",
     "text": [
      "8\n",
      "8\n"
     ]
    }
   ],
   "source": [
    "print(sum_and_increment(3,4))\n",
    "print(sum_and_increment(4,3))"
   ]
  },
  {
   "cell_type": "markdown",
   "metadata": {
    "slideshow": {
     "slide_type": "slide"
    }
   },
   "source": [
    "However, if we subtract one argument from the other, the result depends on the input order: "
   ]
  },
  {
   "cell_type": "code",
   "execution_count": 14,
   "metadata": {
    "collapsed": false
   },
   "outputs": [
    {
     "name": "stdout",
     "output_type": "stream",
     "text": [
      "0\n",
      "2\n"
     ]
    }
   ],
   "source": [
    "def subtract_and_increment(a, b):\n",
    "    \"\"\"\"\n",
    "    Return a minus b, plus 1\n",
    "    \"\"\"\n",
    "    c = a - b + 1\n",
    "    return c\n",
    "\n",
    "print(subtract_and_increment(3,4))\n",
    "print(subtract_and_increment(4,3))"
   ]
  },
  {
   "cell_type": "markdown",
   "metadata": {
    "slideshow": {
     "slide_type": "slide"
    }
   },
   "source": [
    "### Named Arguments\n",
    "\n",
    "It can be easy to make a mistake in the input order.  \n",
    "\n",
    "This can lead to a bug.  \n",
    "\n",
    "We can reduce this risk by giving inputs as *named* arguments. \n",
    "\n",
    "Named arguments also enhances program readability. \n",
    "\n",
    "When we use named arguments, the order of input does not matter.  "
   ]
  },
  {
   "cell_type": "code",
   "execution_count": 15,
   "metadata": {
    "collapsed": false,
    "slideshow": {
     "slide_type": "slide"
    }
   },
   "outputs": [
    {
     "name": "stdout",
     "output_type": "stream",
     "text": [
      "0\n",
      "0\n"
     ]
    }
   ],
   "source": [
    "alpha = 3\n",
    "beta = 4\n",
    "\n",
    "print(subtract_and_increment(a=alpha, b=beta))\n",
    "\n",
    "print(subtract_and_increment(b=beta, a=alpha))  "
   ]
  },
  {
   "cell_type": "markdown",
   "metadata": {
    "slideshow": {
     "slide_type": "slide"
    }
   },
   "source": [
    "### What can be passed as a function argument?\n",
    "\n",
    "*Object* types that can be passed as arguments to functions include:\n",
    "- single variables (`int`, `float`...)\n",
    "- data structures (`list`, `tuple`, `dict`...)\n",
    "- other functions \n",
    "\n"
   ]
  },
  {
   "cell_type": "markdown",
   "metadata": {},
   "source": [
    "<a id='FunctionsAsArguments'></a>\n",
    "### Data Structures as Function Arguments. \n",
    "__Indexing__ can be useful when data structures are used as function arguments."
   ]
  },
  {
   "cell_type": "markdown",
   "metadata": {},
   "source": [
    "__Example: Area of a Triangle__ \n",
    "The coordinates of the vertices of a triangle are $(x_0, y_0)$, $(x_1, y_1)$ and $(x_2, y_2)$.\n",
    "\n",
    "<img src=\"img/triangle.jpg\" alt=\"Drawing\" style=\"width: 200px;\"/> \n",
    "\n",
    "The area $A$ of the triangle is given by:\n",
    "\n",
    "$$\n",
    "A = \\left| \\frac{x_0(y_1  - y_2) + x_1(y_2 - y_0) + x_2(y_0 - y_1)}{2} \\right|\n",
    "$$"
   ]
  },
  {
   "cell_type": "markdown",
   "metadata": {},
   "source": [
    "\n",
    "The function `triangle_area` takes three arguments:\n",
    " - a __tuple__ containig the coordinates of vertex 0\n",
    " - a __tuple__ containig the coordinates of vertex 1\n",
    " - a __tuple__ containig the coordinates of vertex 2\n",
    " \n",
    "\n",
    "The individual elements of the tuples are referenced within the function by *indexing*. "
   ]
  },
  {
   "cell_type": "code",
   "execution_count": 16,
   "metadata": {
    "collapsed": false
   },
   "outputs": [
    {
     "name": "stdout",
     "output_type": "stream",
     "text": [
      "6.5\n"
     ]
    }
   ],
   "source": [
    "v0 = (1, 1)   #(x, y) coordinates of vertex 0\n",
    "v1 = (6, 2)   #(x, y) coordinates of vertex 1\n",
    "v2 = (3, 4)   #(x, y) coordinates of vertex 2\n",
    "\n",
    "def triangle_area(v0, v1, v2):\n",
    "    A = abs( (v0[0] * (v1[1] - v2[1]) +\n",
    "              v1[0] * (v2[1] - v0[1]) +\n",
    "              v2[0] * (v0[1] - v1[1])) / 2 )\n",
    "    \n",
    "    return A\n",
    "\n",
    "print(triangle_area(v0, v1, v2))"
   ]
  },
  {
   "cell_type": "markdown",
   "metadata": {},
   "source": [
    "By organising the 6 variables into 3 pairs (tuples), rather than expressing them as individual values we are less likely to make a mistake.\n",
    "<br> e.g. entering variables in the wrong order such as putting x and y the wrong way round.\n",
    "\n",
    "__Readability:__ \n",
    "<br>The equation for A is organised onto 3 lines to make it easier to read. \n",
    "<br>We can make the function easier to understand by using assignment."
   ]
  },
  {
   "cell_type": "code",
   "execution_count": 17,
   "metadata": {
    "collapsed": false
   },
   "outputs": [
    {
     "name": "stdout",
     "output_type": "stream",
     "text": [
      "6.5\n"
     ]
    }
   ],
   "source": [
    "v0 = (1, 1)   #(x, y) coordinates of vertex 0\n",
    "v1 = (6, 2)   #(x, y) coordinates of vertex 1\n",
    "v2 = (3, 4)   #(x, y) coordinates of vertex 2\n",
    "\n",
    "def triangle_area(v0, v1, v2):\n",
    "    x = 0\n",
    "    y = 1\n",
    "    \n",
    "    A = abs( (v0[x] * (v1[y] - v2[y]) +\n",
    "              v1[x] * (v2[y] - v0[y]) +\n",
    "              v2[x] * (v0[y] - v1[y])) / 2 )\n",
    "    \n",
    "    return A\n",
    "\n",
    "print(triangle_area(v0, v1, v2))"
   ]
  },
  {
   "cell_type": "markdown",
   "metadata": {},
   "source": [
    "__Readability:__ \n",
    "<br>Local variables are used to limit the scope, allowing `x` and `y` to be asued as names for variable outside of the function. "
   ]
  },
  {
   "cell_type": "markdown",
   "metadata": {
    "slideshow": {
     "slide_type": "slide"
    }
   },
   "source": [
    "<a id='FunctionsAsArguments'></a>\n",
    "### Functions as Function Arguments. \n",
    "__Example:__ The function `is_positive` checks if the value of a function $f$, evaluated at $x$, is positive:"
   ]
  },
  {
   "cell_type": "code",
   "execution_count": 18,
   "metadata": {
    "collapsed": false
   },
   "outputs": [
    {
     "name": "stdout",
     "output_type": "stream",
     "text": [
      "True\n",
      "False\n"
     ]
    }
   ],
   "source": [
    "def is_positive(f, x):\n",
    "    \"\"\"\n",
    "    Check if the function value f(x) is positive\n",
    "    \"\"\"\n",
    "    return f(x) > 0\n",
    "    \n",
    "def f0(x):\n",
    "    \"\"\"\n",
    "    Computes x^2 - 1\n",
    "    \"\"\"\n",
    "    return x*x - 1\n",
    "\n",
    "\n",
    "def f1(x):\n",
    "    \"\"\"\n",
    "    Computes -x^2 + 2x + 1\n",
    "    \"\"\"\n",
    "    return -x*x + 2*x + 1\n",
    "\n",
    "    \n",
    "# Value of x to test\n",
    "x = 4.5\n",
    "\n",
    "# Test function f0\n",
    "print(is_positive(f0, x))\n",
    "\n",
    "# Test function f1\n",
    "print(is_positive(f1, x))"
   ]
  },
  {
   "cell_type": "markdown",
   "metadata": {},
   "source": [
    "__Note:__ The order that we *define* the functions does not effect the output. "
   ]
  },
  {
   "cell_type": "markdown",
   "metadata": {
    "slideshow": {
     "slide_type": "slide"
    }
   },
   "source": [
    "<a id='DefaultArguments'></a>\n",
    "### Default arguments\n",
    "\n",
    "'Default' arguments have a default initial value.\n",
    "\n",
    "The default value can be overridden when the function is called. \n",
    "\n",
    "In some cases it just saves the programmer effort - they can write less code. \n",
    "\n",
    "\n",
    "\n"
   ]
  },
  {
   "cell_type": "markdown",
   "metadata": {
    "slideshow": {
     "slide_type": "slide"
    }
   },
   "source": [
    "In other cases default arguments a function to be applied to a wider range of problems. "
   ]
  },
  {
   "cell_type": "markdown",
   "metadata": {
    "slideshow": {
     "slide_type": "slide"
    }
   },
   "source": [
    "<a id='DefaultArguments2D3DVector'></a>\n",
    "__Example: A function that takes either two OR three input arguments.__\n",
    "\n",
    "This simple function expresses x, y (and z) coordinates as a 3D vector list. \n",
    "\n",
    "We can use the same function for 2D vectors (with x and y coordinates) and 3D vectors (with x, y and z coordinates). \n",
    "\n",
    "The default value for the z component is zero.\n",
    "\n",
    "z = 0.0 is overridden if a z coordinate is included whent the function is called. \n",
    "\n",
    "__Important Note: Non-default arguments must always appear before default arguments in the function definition).__ "
   ]
  },
  {
   "cell_type": "code",
   "execution_count": 19,
   "metadata": {
    "collapsed": true
   },
   "outputs": [],
   "source": [
    "def vector_3D(x, y, z=0.0):\n",
    "    \"\"\"\n",
    "    Expresses 2D or 3D vector in 3D space, as a list.\n",
    "    \"\"\"\n",
    "    return[x, y, z]"
   ]
  },
  {
   "cell_type": "code",
   "execution_count": 20,
   "metadata": {
    "collapsed": false,
    "slideshow": {
     "slide_type": "-"
    }
   },
   "outputs": [
    {
     "name": "stdout",
     "output_type": "stream",
     "text": [
      "[2.0, 1.5, 6.0]\n",
      "[2.0, 1.5, 0.0]\n"
     ]
    }
   ],
   "source": [
    "print(vector_3D(2.0, 1.5, 6.0))  \n",
    "print(vector_3D(2.0, 1.5))\n"
   ]
  },
  {
   "cell_type": "markdown",
   "metadata": {
    "slideshow": {
     "slide_type": "slide"
    }
   },
   "source": [
    "<a id='DefaultArguments1D2D3DVector'></a>\n",
    "__Example: A function that takes either one OR two OR three input arguments.__\n",
    "\n",
    "We can use the same function for 2D vectors (with x and y coordinates) and 3D vectors (with x, y and z coordinates). \n",
    "\n",
    "<br>The default value for the z component is zero.\n",
    "The default value for the z component is zero.\n",
    "\n",
    "The default values for the y and z components are both zero."
   ]
  },
  {
   "cell_type": "code",
   "execution_count": 21,
   "metadata": {
    "collapsed": true
   },
   "outputs": [],
   "source": [
    "def vector_3D(x, y=0.0, z=0.0):\n",
    "    \"\"\"\n",
    "    Expresses 1D, 2D or 3D vector in 3D space, as a list.\n",
    "    \"\"\"\n",
    "    return [x, y, z]"
   ]
  },
  {
   "cell_type": "code",
   "execution_count": 22,
   "metadata": {
    "collapsed": false
   },
   "outputs": [
    {
     "name": "stdout",
     "output_type": "stream",
     "text": [
      "[2.0, 1.5, 6.0]\n",
      "[2.0, 1.5, 0.0]\n",
      "[2.0, 0.0, 0.0]\n",
      "[2.0, 0.0, 3.0]\n"
     ]
    }
   ],
   "source": [
    "print(vector_3D(2.0, 1.5, 6.0))\n",
    "print(vector_3D(2.0, 1.5))\n",
    "print(vector_3D(2.0))\n",
    "print(vector_3D(2.0, z=3.0))"
   ]
  },
  {
   "cell_type": "markdown",
   "metadata": {
    "slideshow": {
     "slide_type": "slide"
    }
   },
   "source": [
    "__Example: A particle moving with constant acceleration.__\n",
    "<br>\n",
    "Find the position $r$ of a particle with:\n",
    " - initial position $r_{0}$ \n",
    " - initial velocity $v_{0}$\n",
    " - constant acceleration $a$. \n",
    "\n",
    "From the equations of motion, the position $r(t)$ is given by:  \n",
    "\n",
    "$$\n",
    "r(t) = r(0) + v(0) t + \\frac{1}{2} a t^{2}\n",
    "$$\n",
    "\n"
   ]
  },
  {
   "cell_type": "markdown",
   "metadata": {
    "slideshow": {
     "slide_type": "slide"
    }
   },
   "source": [
    "An object falling from rest, due to gravity. \n",
    "<br>(neglecting air resistance)\n",
    "\n",
    " - `a`=$g = 9.81$ m s$^{-1}$ is sufficiently accurate *in most cases*. \n",
    " - `v0`, is always zero. \n",
    " - `r0`, is the height from which the object falls. \n",
    " \n",
    "We can use default arguments for the velocity `v0` and the acceleration `a`:"
   ]
  },
  {
   "cell_type": "code",
   "execution_count": 23,
   "metadata": {
    "collapsed": true
   },
   "outputs": [],
   "source": [
    "def position(t, r0, v0=0.0, a= -9.81):\n",
    "    \"\"\"\n",
    "    Computes position of an accelerating particle.\n",
    "    \"\"\"\n",
    "    return r0 + (v0 * t) + (0.5 * a * t**2)"
   ]
  },
  {
   "cell_type": "markdown",
   "metadata": {
    "slideshow": {
     "slide_type": "slide"
    }
   },
   "source": [
    "__Note__ that we __do not__ need to include the default variables in the brackets when calling the function. \n",
    "\n"
   ]
  },
  {
   "cell_type": "code",
   "execution_count": 24,
   "metadata": {
    "collapsed": false
   },
   "outputs": [
    {
     "name": "stdout",
     "output_type": "stream",
     "text": [
      "height = 0.8038 m\n"
     ]
    }
   ],
   "source": [
    "def position(t, r0, v0=0.0, a= -9.81):\n",
    "    \"\"\"\n",
    "    Computes position of an accelerating particle.\n",
    "    \"\"\"\n",
    "    return r0 + (v0 * t) + (0.5 * a * t**2)\n",
    "\n",
    "# Position at t = 0.2s, when dropped from r0 = 1m\n",
    "p = position(0.2, 1.0)\n",
    "\n",
    "print(\"height =\", p, \"m\")"
   ]
  },
  {
   "cell_type": "markdown",
   "metadata": {
    "slideshow": {
     "slide_type": "slide"
    }
   },
   "source": [
    "At the equator, the acceleration due to gravity is lower, `a` = $g = 9.78$ m s$^{-1}$\n",
    "\n",
    "For some calculations, this makes a significnat difference. \n",
    "\n",
    "In this case, we simply override the default value for acceleration:  "
   ]
  },
  {
   "cell_type": "code",
   "execution_count": 25,
   "metadata": {
    "collapsed": false,
    "slideshow": {
     "slide_type": "slide"
    }
   },
   "outputs": [
    {
     "name": "stdout",
     "output_type": "stream",
     "text": [
      "height = 0.8038 m\n",
      "height = 0.8044 m\n"
     ]
    }
   ],
   "source": [
    "# Position at t = 0.2s, when dropped from r0 = 1m\n",
    "p = position(0.2, 1.0)\n",
    "\n",
    "print(\"height =\", p, \"m\")\n",
    "\n",
    "\n",
    "\n",
    "# Position at t = 0.2s, when dropped from r0 = 1m at the equator\n",
    "p = position(0.2, 1, 0.0, -9.78)\n",
    "\n",
    "print(\"height =\", p, \"m\")"
   ]
  },
  {
   "cell_type": "markdown",
   "metadata": {},
   "source": [
    "__Note__ that we have *also* passed the initial velocity, `v`.\n",
    "\n",
    "As the value to overide is the 4th argument, the 3rd argument must also be input. \n",
    "\n",
    "The function interprets:\n",
    "\n",
    "    p = position(0.2, 1, -9.78)\n",
    "    \n",
    "as\n",
    "\n",
    "    p = position(0.2, 1, -9.78 -9.81)\n",
    "    \n",
    "\n"
   ]
  },
  {
   "cell_type": "markdown",
   "metadata": {
    "slideshow": {
     "slide_type": "slide"
    }
   },
   "source": [
    "Manually inputting an argument, `v0` when we want to use its default is risky.  \n",
    "\n",
    "We may accidentally input the default value of `v0` incorrectly, causing a bug. \n",
    "\n",
    "A more robust solution is to specify the acceleration by using a named argument. "
   ]
  },
  {
   "cell_type": "code",
   "execution_count": 26,
   "metadata": {
    "collapsed": false,
    "slideshow": {
     "slide_type": "slide"
    }
   },
   "outputs": [
    {
     "name": "stdout",
     "output_type": "stream",
     "text": [
      "height = 0.8044 m\n",
      "height = 0.8044 m\n"
     ]
    }
   ],
   "source": [
    "# Position at t = 0.2s, when dropped from r0 = 1m at the equator\n",
    "p = position(0.2, 1, 0.0, -9.78)\n",
    "\n",
    "print(\"height =\", p, \"m\")\n",
    "\n",
    "\n",
    "# Position at t = 0.2s, when dropped from r0 = 1m at the equator\n",
    "p = position(0.2, 1, a = -9.78)\n",
    "\n",
    "print(\"height =\", p, \"m\")"
   ]
  },
  {
   "cell_type": "markdown",
   "metadata": {
    "collapsed": true
   },
   "source": [
    "The program overwrites the correct default value.\n",
    "\n",
    "We do not have to specify `v`. "
   ]
  },
  {
   "cell_type": "markdown",
   "metadata": {
    "slideshow": {
     "slide_type": "slide"
    }
   },
   "source": [
    "__Try it yourself__\n",
    "\n",
    "__Hydrostatic Pressure__\n",
    "\n",
    "The hydrostatic pressure (Pa = Nm$^{-2}$ = kg m$^{-1}$m$^{-2}$) is the pressure on a submerged object due to the overlying fluid):\n",
    "\n",
    "$$\n",
    "P = \\rho g h\n",
    "$$\n",
    "\n",
    "$g$ = acceleration due to gravity, m s$^{-2}$\n",
    "<br> $\\rho $ = fluid density, kg m$^3$\n",
    "<br> $h$ = height of the fluid above the object, m. \n",
    "\n",
    "<img src=\"img/HydrostaticPressure.png\" alt=\"Drawing\" style=\"width: 350px;\"/>\n",
    "\n"
   ]
  },
  {
   "cell_type": "markdown",
   "metadata": {
    "slideshow": {
     "slide_type": "slide"
    }
   },
   "source": [
    "In the cell below, write a function that:\n",
    " - takes $g$, $\\rho$ and $h$ as __inputs__\n",
    " - returns (__outputs__) the hydrostatic pressure $P$\n",
    " \n",
    "\n",
    "Assume the fucntion will mostly to be used for calculating the hydrostatic pressure on objects submerged in __water__.\n",
    "<br> The acceleration due to gravity, $g = 9.81$ m s$^{-2}$ is sufficiently accurate *in most cases*.\n",
    "<br> The density of water, $\\rho_w$ = 1000 kg m$^3$ is sufficiently accurate *in most cases*.\n",
    "\n",
    "Therefore use default arguments for `g` and `rho` in your function.\n",
    "\n",
    "Remember, default arguments should appear *after* non-default arguments.\n",
    "\n",
    "Include a doc-string to say what your function does."
   ]
  },
  {
   "cell_type": "code",
   "execution_count": 27,
   "metadata": {
    "collapsed": false
   },
   "outputs": [],
   "source": [
    "# Function to compute hydrostatic pressure.\n",
    "\n",
    "def hydro_pressure(h, *, g=9.81, ρ=1000):\n",
    "    '''\n",
    "    hydrp pressure function\n",
    "    '''\n",
    "    return ρ*g*h"
   ]
  },
  {
   "cell_type": "markdown",
   "metadata": {
    "slideshow": {
     "slide_type": "slide"
    }
   },
   "source": [
    "__Call__ your function to find the hydrostatic pressure on an object, submerged in water, at a depth of 10m.\n",
    "\n"
   ]
  },
  {
   "cell_type": "code",
   "execution_count": 28,
   "metadata": {
    "collapsed": false
   },
   "outputs": [
    {
     "name": "stdout",
     "output_type": "stream",
     "text": [
      "98100.0\n"
     ]
    }
   ],
   "source": [
    "# The hydrostatic pressure (Pa) on an object at a depth of 10m in WATER\n",
    "print(hydro_pressure(10))"
   ]
  },
  {
   "cell_type": "markdown",
   "metadata": {},
   "source": [
    "Then use a suitable value for `g` to find the hydrostatic pressure on an object submerged in water:\n",
    "- at a depth of 10m\n",
    "- at the equator\n",
    "\n"
   ]
  },
  {
   "cell_type": "code",
   "execution_count": 29,
   "metadata": {
    "collapsed": false
   },
   "outputs": [
    {
     "name": "stdout",
     "output_type": "stream",
     "text": [
      "97800.0\n"
     ]
    }
   ],
   "source": [
    "# The hydrostatic pressure (Pa) on an object:\n",
    "# at a depth of 10m \n",
    "# at the equator \n",
    "\n",
    "print(hydro_pressure(10, g=9.78))"
   ]
  },
  {
   "cell_type": "markdown",
   "metadata": {},
   "source": [
    "Due to it's salt content, seawater has a higher density, $\\rho_{sw}$ = 1022 kg m$^3$.<br>\n",
    "Finally, find the hydrostatic pressure on an object:\n",
    "- submerged in __sea water__\n",
    "- at a depth of 10m\n",
    "- at the equator"
   ]
  },
  {
   "cell_type": "code",
   "execution_count": 30,
   "metadata": {
    "collapsed": false
   },
   "outputs": [
    {
     "name": "stdout",
     "output_type": "stream",
     "text": [
      "99951.6\n"
     ]
    }
   ],
   "source": [
    "# The hydrostatic pressure (Pa) on an object:\n",
    "# at a depth of 10m \n",
    "# in SEA WATER \n",
    "# at the EQUATOR.\n",
    "print(hydro_pressure(10, g=9.78, ρ=1022))"
   ]
  },
  {
   "cell_type": "markdown",
   "metadata": {
    "slideshow": {
     "slide_type": "slide"
    }
   },
   "source": [
    "__Note__ \n",
    "<br> In the last seminar we looked at how to store mulitple variables (e.g. vectors) as lists. \n",
    "<br> The functions above could be implemented more efficiently using lists or tuples. \n",
    "<br>  We will look at how to optimise functions later in the course."
   ]
  },
  {
   "cell_type": "markdown",
   "metadata": {
    "slideshow": {
     "slide_type": "slide"
    }
   },
   "source": [
    "## Introduction to Scope\n",
    "\n",
    "__Global variables:__ Variable that are *declared* __outside__ of a function *can* be used __inside__ on the function. <br>\n",
    "They have *global scope*. \n",
    "\n",
    "__Local variables:__ Variables that are *declared* __inside__ of a function *can not* be used __outside__ of the function. \n",
    "<br>\n",
    "They have *local scope*. "
   ]
  },
  {
   "cell_type": "code",
   "execution_count": 31,
   "metadata": {
    "collapsed": false,
    "slideshow": {
     "slide_type": "slide"
    }
   },
   "outputs": [
    {
     "name": "stdout",
     "output_type": "stream",
     "text": [
      "Global variable\n",
      "Local variable\n",
      "Global variable\n"
     ]
    }
   ],
   "source": [
    "# global variable\n",
    "global_var = \"Global variable\"\n",
    "\n",
    "\n",
    "def my_func():\n",
    "    # the function can access the global variable\n",
    "    print(global_var)    \n",
    "    \n",
    "    # local variable of the same name\n",
    "    local_var = \"Local variable\"\n",
    "    print(local_var)\n",
    "    \n",
    "\n",
    "# Calling the function prints the local and global variable\n",
    "my_func()\n",
    "\n",
    "\n",
    "# Global variable are accessible outside the function\n",
    "print(global_var)\n",
    "\n",
    "# Local variables are not accessible outside of the function\n",
    "# print(local_var)"
   ]
  },
  {
   "cell_type": "markdown",
   "metadata": {
    "slideshow": {
     "slide_type": "slide"
    }
   },
   "source": [
    "Due to local scope, variables with the same name can appear globally and in different functions without conflict. \n",
    "\n",
    "This prevents variables declared inside a function from unexpectedly affecting other parts of a program. \n",
    "\n",
    "Where a local and global variable have the same name, the program will use the __local__ version.\n",
    "\n",
    "Let's modify our function `my_func` so now both the local and global varibale have the same name..."
   ]
  },
  {
   "cell_type": "code",
   "execution_count": 32,
   "metadata": {
    "collapsed": false,
    "slideshow": {
     "slide_type": "slide"
    }
   },
   "outputs": [],
   "source": [
    "# global variable\n",
    "var = \"Global variable\"\n",
    "\n",
    "\n",
    "def my_func():\n",
    "    # notice what happens this time if we try to access the global variable within the function\n",
    "    print(var)    \n",
    "     \n",
    "    # local variable of the same name\n",
    "    var = \"Local variable\"\n",
    "    print(var)"
   ]
  },
  {
   "cell_type": "markdown",
   "metadata": {
    "slideshow": {
     "slide_type": "slide"
    }
   },
   "source": [
    "The global variable `var` is unaffected by the local variable `var`."
   ]
  },
  {
   "cell_type": "code",
   "execution_count": 33,
   "metadata": {
    "collapsed": false
   },
   "outputs": [
    {
     "name": "stdout",
     "output_type": "stream",
     "text": [
      "Local variable\n",
      "Global variable\n",
      "Local variable\n"
     ]
    }
   ],
   "source": [
    "# global variable\n",
    "var = \"Global variable\"\n",
    "\n",
    "\n",
    "def my_func():\n",
    "     \n",
    "    # local variable of the same name\n",
    "    var = \"Local variable\"\n",
    "    return var\n",
    "\n",
    "# Call the function.\n",
    "print(my_func())\n",
    "\n",
    "# The function declaration of 'var' has not affected the global variable 'var'\n",
    "print(var)\n",
    "\n",
    "# We can overwrite the global varibale with the returned value\n",
    "var = my_func()\n",
    "print(var)"
   ]
  },
  {
   "cell_type": "markdown",
   "metadata": {
    "slideshow": {
     "slide_type": "slide"
    }
   },
   "source": [
    "If we *really* want to use a global variable and a local variable with the same name __within__ a function, we can use the global variable as an __input__ to the function.\n",
    "\n",
    "By inputting it as an argument we can rename the global variable for use within the function...."
   ]
  },
  {
   "cell_type": "code",
   "execution_count": 34,
   "metadata": {
    "collapsed": false,
    "slideshow": {
     "slide_type": "slide"
    }
   },
   "outputs": [
    {
     "name": "stdout",
     "output_type": "stream",
     "text": [
      "Global variable\n",
      "Local variable\n",
      "Global variable Local variable\n"
     ]
    }
   ],
   "source": [
    "# Global \n",
    "var = \"Global variable\"\n",
    "\n",
    "def my_func(input_var):\n",
    "    # The argument is given the name input_variable within the function \n",
    "    print(input_var)    \n",
    "     \n",
    "    # Local\n",
    "    var = \"Local variable\"\n",
    "    print(var)\n",
    "    \n",
    "    return (input_var + \" \" + var)\n",
    "\n",
    "\n",
    "# Run the function, giving the global variable as an argument\n",
    "print(my_func(var))"
   ]
  },
  {
   "cell_type": "markdown",
   "metadata": {},
   "source": [
    "The global variable is unaffected by the function"
   ]
  },
  {
   "cell_type": "code",
   "execution_count": 35,
   "metadata": {
    "collapsed": false
   },
   "outputs": [
    {
     "name": "stdout",
     "output_type": "stream",
     "text": [
      "Global variable\n"
     ]
    }
   ],
   "source": [
    "print(var)"
   ]
  },
  {
   "cell_type": "markdown",
   "metadata": {
    "slideshow": {
     "slide_type": "slide"
    }
   },
   "source": [
    "...unless we overwrite the value of the global variable."
   ]
  },
  {
   "cell_type": "code",
   "execution_count": 36,
   "metadata": {
    "collapsed": false
   },
   "outputs": [
    {
     "name": "stdout",
     "output_type": "stream",
     "text": [
      "Global variable\n",
      "Global variable\n",
      "Local variable\n",
      "Global variable Local variable\n"
     ]
    }
   ],
   "source": [
    "print(var)\n",
    "\n",
    "var = my_func(var)\n",
    "print(var)"
   ]
  },
  {
   "cell_type": "markdown",
   "metadata": {
    "slideshow": {
     "slide_type": "slide"
    }
   },
   "source": [
    "__Try it yourself__\n",
    "In the cell below:\n",
    "1. Create a global variable called `my_var`, with a numeric value\n",
    "1. Create a function, called `my_func`, that:\n",
    "    - takes a single argument, called `input_var`, as an input \n",
    "    - creates a local variable called `my_var` (the same name as the global variable).\n",
    "    - returns the sum of the function argument and the local variable: `input_var + my_var`.\n",
    "1. Print the output when the function `my_func` is called, giving the global varable `my_var` as the input agument.\n",
    "1. print the global variable `my_var`.\n",
    "1. Add a doc-string to say what your function does"
   ]
  },
  {
   "cell_type": "code",
   "execution_count": 37,
   "metadata": {
    "collapsed": false
   },
   "outputs": [
    {
     "name": "stdout",
     "output_type": "stream",
     "text": [
      "12\n",
      "5\n"
     ]
    }
   ],
   "source": [
    "# Global and local scope\n",
    "my_var = 5\n",
    "\n",
    "def my_func(input_var):\n",
    "    \"\"\"\n",
    "    Returns sum of input_var and my_var\n",
    "    \"\"\"\n",
    "    my_var = 7\n",
    "    return input_var + my_var\n",
    "print(my_func(my_var))\n",
    "print(my_var)\n"
   ]
  },
  {
   "cell_type": "markdown",
   "metadata": {
    "slideshow": {
     "slide_type": "slide"
    }
   },
   "source": [
    "A local variable  can be accessed from outside the function by making it a global variable.\n",
    "1. Use Python `global` keyword. Give the variable a name.\n",
    "```python\n",
    "global var\n",
    "```\n",
    "1. Assign the variable a value.\n",
    "```python\n",
    "var = 10\n",
    "```\n",
    "If a global variable already exists with the same name it's value will be overwritten:"
   ]
  },
  {
   "cell_type": "code",
   "execution_count": 38,
   "metadata": {
    "collapsed": false,
    "slideshow": {
     "slide_type": "slide"
    }
   },
   "outputs": [
    {
     "name": "stdout",
     "output_type": "stream",
     "text": [
      "Before calling the function var = Global variable\n",
      "After calling the function var = Locally assigned global variable\n"
     ]
    }
   ],
   "source": [
    "# global variable\n",
    "var = \"Global variable\"\n",
    "\n",
    "\n",
    "def my_func():\n",
    "     \n",
    "    # Locally assigned global variable\n",
    "    global var\n",
    "    var = \"Locally assigned global variable\"\n",
    "    \n",
    "    \n",
    "print(\"Before calling the function var =\", var)\n",
    "\n",
    "# Call the function.\n",
    "my_func()\n",
    "\n",
    "print(\"After calling the function var =\", var)"
   ]
  },
  {
   "cell_type": "markdown",
   "metadata": {
    "slideshow": {
     "slide_type": "slide"
    }
   },
   "source": [
    "__Try it yourself__\n",
    "\n",
    "In the cell below:\n",
    "1. Copy and paste your code from the previous exercise.\n",
    "1. Edit your code:\n",
    " - The function `my_func` takes no input arguments. \n",
    " - The global variable `my_var` is overwritten within the function using the prefix `global`.  \n",
    " - The function return the new value.  \n",
    "1. Print the output when the function `my_func` is called.\n",
    "1. Print the global variable."
   ]
  },
  {
   "cell_type": "code",
   "execution_count": 39,
   "metadata": {
    "collapsed": false
   },
   "outputs": [
    {
     "name": "stdout",
     "output_type": "stream",
     "text": [
      "7\n",
      "7\n"
     ]
    }
   ],
   "source": [
    "my_var = 5\n",
    "\n",
    "def my_func():\n",
    "    \"\"\"\n",
    "    Returns sum of input_var and my_var\n",
    "    \"\"\"\n",
    "    global my_var\n",
    "    my_var = 7\n",
    "    return my_var\n",
    "\n",
    "print(my_func())\n",
    "print(my_var)\n"
   ]
  },
  {
   "cell_type": "markdown",
   "metadata": {
    "slideshow": {
     "slide_type": "slide"
    }
   },
   "source": [
    "### Return arguments\n",
    "\n",
    "Most functions (though not all) return data. \n",
    "\n",
    "A __single__ Python function can return:\n",
    "- no values\n",
    "- a single value \n",
    "- multiple return values"
   ]
  },
  {
   "cell_type": "markdown",
   "metadata": {
    "slideshow": {
     "slide_type": "slide"
    }
   },
   "source": [
    "For example, we could have a function that:\n",
    " - takes three values (`x0, x1, x2`)\n",
    " - returns the maximum, the minimum and the mean"
   ]
  },
  {
   "cell_type": "code",
   "execution_count": 40,
   "metadata": {
    "collapsed": false
   },
   "outputs": [
    {
     "name": "stdout",
     "output_type": "stream",
     "text": [
      "-20 0.5 -6.466666666666666\n"
     ]
    }
   ],
   "source": [
    "def compute_max_min_mean(x0, x1, x2):\n",
    "    \"Return maximum, minimum and mean values\"\n",
    "    \n",
    "    x_min = x0\n",
    "    if x1 < x_min:\n",
    "        x_min = x1\n",
    "    if x2 < x_min:\n",
    "        x_min = x2\n",
    "\n",
    "    x_max = x0\n",
    "    if x1 > x_max:\n",
    "        x_max = x1\n",
    "    if x2 > x_max:\n",
    "        x_max = x2\n",
    "\n",
    "    x_mean = (x0 + x1 + x2)/3    \n",
    "        \n",
    "    return x_min, x_max, x_mean\n",
    "\n",
    "\n",
    "xmin, xmax, xmean = compute_max_min_mean(0.5, 0.1, -20)\n",
    "print(xmin, xmax, xmean)"
   ]
  },
  {
   "cell_type": "code",
   "execution_count": 41,
   "metadata": {
    "collapsed": false
   },
   "outputs": [
    {
     "name": "stdout",
     "output_type": "stream",
     "text": [
      "-20 0.5 -6.466666666666666\n"
     ]
    }
   ],
   "source": [
    "def compute_max_min_mean(x0, x1, x2):\n",
    "    \"Return maximum, minimum and mean values\"\n",
    "    \n",
    "    x_min = min(x0, x1, x2)\n",
    "\n",
    "    x_max = max(x0, x1, x2)\n",
    "\n",
    "    x_mean = (x0 + x1 + x2)/3    \n",
    "        \n",
    "    return x_min, x_max, x_mean\n",
    "\n",
    "\n",
    "xmin, xmax, xmean = compute_max_min_mean(0.5, 0.1, -20)\n",
    "print(xmin, xmax, xmean)"
   ]
  },
  {
   "cell_type": "markdown",
   "metadata": {
    "slideshow": {
     "slide_type": "slide"
    }
   },
   "source": [
    "The __`return`__ keyword works a bit like the __`break`__ statement does in a loop.\n",
    "\n",
    "It returns the value and then exits the function before running the rest of the code.\n",
    "\n",
    "This can be an efficient way to structure the code.\n",
    "<br>"
   ]
  },
  {
   "cell_type": "markdown",
   "metadata": {
    "slideshow": {
     "slide_type": "slide"
    }
   },
   "source": [
    "But what if we want the prgram to do something else before exiting the function.\n",
    "\n",
    "In the following example, we want the function to :\n",
    "- return the input value of global varibale `x` as a string, with some information.\n",
    "- increase the value of `x` by 1\n",
    "\n",
    "If we call the function repeatedly, we should see the printed value of global variable `x` increasing. "
   ]
  },
  {
   "cell_type": "markdown",
   "metadata": {
    "slideshow": {
     "slide_type": "slide"
    }
   },
   "source": [
    "If we increase x by one last after `return`,  the value of `x` does not increase. \n",
    "<br> The program exits the function before `\"Increment global x by +1 \".\n"
   ]
  },
  {
   "cell_type": "code",
   "execution_count": 42,
   "metadata": {
    "collapsed": false
   },
   "outputs": [
    {
     "name": "stdout",
     "output_type": "stream",
     "text": [
      "1 > 0\n",
      "1 > 0\n",
      "1 > 0\n",
      "1 > 0\n",
      "1 > 0\n",
      "1 > 0\n",
      "1 > 0\n",
      "1 > 0\n",
      "1 > 0\n"
     ]
    }
   ],
   "source": [
    "x = 1\n",
    "\n",
    "def process_value(X):\n",
    "    \"Return a value that depends on the input value x \"\n",
    "    if X > 10:\n",
    "        return str(X) + \" > 10\"\n",
    "    elif X > 5:\n",
    "        return str(X) + \" > 5\"\n",
    "    elif X > 0:\n",
    "        return str(X) + \" > 0\"\n",
    "    else:\n",
    "        return str(X)\n",
    "    \n",
    "    \"Increment global x by +1 \"\n",
    "    global x\n",
    "    x = X + 1 \n",
    "    \n",
    "print(process_value(x))\n",
    "print(process_value(x))\n",
    "print(process_value(x))\n",
    "print(process_value(x))\n",
    "print(process_value(x))\n",
    "print(process_value(x))\n",
    "print(process_value(x))\n",
    "print(process_value(x))\n",
    "print(process_value(x))"
   ]
  },
  {
   "cell_type": "markdown",
   "metadata": {
    "slideshow": {
     "slide_type": "slide"
    }
   },
   "source": [
    "If we place the code to increase x by one first, the new value (not the input value) is printed."
   ]
  },
  {
   "cell_type": "code",
   "execution_count": 43,
   "metadata": {
    "collapsed": false
   },
   "outputs": [
    {
     "name": "stdout",
     "output_type": "stream",
     "text": [
      "1 > 0\n",
      "2 > 0\n",
      "3 > 0\n"
     ]
    }
   ],
   "source": [
    "x = 1\n",
    "\n",
    "def process_value(X):\n",
    "    \"Increment global x by +1 \"\n",
    "    global x\n",
    "    x = X + 1 \n",
    "    \n",
    "    \"Return a value that depends on the input value x \"\n",
    "    if x > 10:\n",
    "        return str(X) + \" > 10\"\n",
    "    elif x > 5:\n",
    "        return str(X) + \" > 5\"\n",
    "    elif x > 0:\n",
    "        return str(X) + \" > 0\"\n",
    "    else:\n",
    "        return str(X)\n",
    "\n",
    "    \n",
    "    \n",
    "print(process_value(x))\n",
    "print(process_value(x))\n",
    "print(process_value(x))"
   ]
  },
  {
   "cell_type": "markdown",
   "metadata": {
    "slideshow": {
     "slide_type": "slide"
    }
   },
   "source": [
    "We need to place the return keyword at the end of the function. \n",
    "<br> "
   ]
  },
  {
   "cell_type": "code",
   "execution_count": 44,
   "metadata": {
    "collapsed": false
   },
   "outputs": [
    {
     "name": "stdout",
     "output_type": "stream",
     "text": [
      "1 > 0\n",
      "2 > 0\n",
      "3 > 0\n"
     ]
    }
   ],
   "source": [
    "x = 1\n",
    "\n",
    "def process_value(X):\n",
    "    \n",
    "    \"Return a value that depends on the input value x \"\n",
    "    if X > 10:\n",
    "        i = (str(X) + \" > 10\")\n",
    "    elif X > 5:\n",
    "        i = (str(X) + \" > 5\")\n",
    "    elif X > 0:\n",
    "        i = (str(X) + \" > 0\")\n",
    "    else:\n",
    "        i = str(X)\n",
    "    \n",
    "    \"Increment global x by +1 \"\n",
    "    global x\n",
    "    x = X + 1 \n",
    "    \n",
    "    return i    \n",
    "    \n",
    "print(process_value(x))\n",
    "print(process_value(x))\n",
    "print(process_value(x))"
   ]
  },
  {
   "cell_type": "markdown",
   "metadata": {
    "slideshow": {
     "slide_type": "slide"
    }
   },
   "source": [
    "<a id='RecursiveFunctions'></a>\n",
    "## Recursive Functions\n",
    "\n",
    "A recursive function is a function that makes calls to itself.\n",
    "\n",
    "Let's consider a well-known example, the Fibonacci series of numbers."
   ]
  },
  {
   "cell_type": "markdown",
   "metadata": {
    "slideshow": {
     "slide_type": "slide"
    }
   },
   "source": [
    "### The Fibonacci Sequence\n",
    "\n",
    "An integer sequence characterised by the fact that every number (after the first two) is the sum of the two preceding numbers. \n",
    "\n",
    "i.e. the $n$th term $f_{n}$ is computed from the preceding terms $f_{n-1}$ and $f_{n-2}$. \n",
    "\n",
    "$$\n",
    "f_n = f_{n-1} + f_{n-2}\n",
    "$$\n",
    "\n",
    "for $n > 1$, and with $f_0 = 0$ and $f_1 = 1$. \n",
    "\n",
    "Due to this dependency on previous terms, we say the series is defined __recursively__.\n",
    "\n",
    "\n",
    "\n",
    "\n",
    "\n",
    "\n",
    "\n"
   ]
  },
  {
   "cell_type": "markdown",
   "metadata": {
    "slideshow": {
     "slide_type": "slide"
    }
   },
   "source": [
    "The number sequence appears in many natural geometric arrangements: \n",
    "\n",
    "<img src=\"img/FibonacciSpiral.png\" alt=\"Drawing\" style=\"width: 200px;\"/> \n",
    "<img src=\"img/fibonacci-whelk.jpg\" alt=\"Drawing\" style=\"width: 200px;\"/>"
   ]
  },
  {
   "cell_type": "markdown",
   "metadata": {
    "slideshow": {
     "slide_type": "slide"
    }
   },
   "source": [
    "Below is a function that computes the $n$th number in the Fibonacci sequence using a `for` loop inside the function."
   ]
  },
  {
   "cell_type": "code",
   "execution_count": 45,
   "metadata": {
    "collapsed": false
   },
   "outputs": [
    {
     "name": "stdout",
     "output_type": "stream",
     "text": [
      "55\n"
     ]
    }
   ],
   "source": [
    "def fib(n):\n",
    "    \"Compute the nth Fibonacci number\"\n",
    "    # Starting values for f0 and f1\n",
    "    f0, f1 = 0, 1\n",
    "\n",
    "    # Handle cases n==0 and n==1\n",
    "    if n == 0:\n",
    "        return 0\n",
    "    elif n == 1:\n",
    "        return 1\n",
    "    \n",
    "    # Start loop (from n = 2)    \n",
    "    for i in range(2, n + 1):\n",
    "        \n",
    "        # Compute next term in sequence\n",
    "        f = f1 + f0\n",
    "\n",
    "        # Update f0 and f1    \n",
    "        f0 = f1\n",
    "        f1 = f\n",
    "\n",
    "    # Return Fibonacci number\n",
    "    return f\n",
    "\n",
    "print(fib(10))"
   ]
  },
  {
   "cell_type": "markdown",
   "metadata": {
    "slideshow": {
     "slide_type": "slide"
    }
   },
   "source": [
    "The __recursive function__ below return the same result.\n",
    "\n",
    "It is simpler and has a more \"mathematical\" structure."
   ]
  },
  {
   "cell_type": "code",
   "execution_count": 46,
   "metadata": {
    "collapsed": false
   },
   "outputs": [
    {
     "name": "stdout",
     "output_type": "stream",
     "text": [
      "55\n"
     ]
    }
   ],
   "source": [
    "def f(n): \n",
    "    \"Compute the nth Fibonacci number using recursion\"\n",
    "    if n == 0:\n",
    "        return 0  # This doesn't call f, so it breaks out of the recursion loop\n",
    "    elif n == 1:\n",
    "        return 1  # This doesn't call f, so it breaks out of the recursion loop\n",
    "    else:\n",
    "        return f(n - 1) + f(n - 2)  # This calls f for n-1 and n-2 (recursion), and returns the sum \n",
    "\n",
    "print(f(10))"
   ]
  },
  {
   "cell_type": "markdown",
   "metadata": {
    "slideshow": {
     "slide_type": "slide"
    }
   },
   "source": [
    "Care needs to be taken when using recursion that a program does not enter an infinite recursion loop. \n",
    "\n",
    "There must be a mechanism to 'break out' of the recursion cycle. "
   ]
  },
  {
   "cell_type": "markdown",
   "metadata": {
    "slideshow": {
     "slide_type": "slide"
    }
   },
   "source": [
    "<a id='Generators'></a>\n",
    "## Extension: Generators \n",
    "\n",
    "When a Python function is called:\n",
    "1. It excutes the code within the function\n",
    "1. It returns any values \n",
    "The state of the variables within the function are not retained.\n",
    "\n",
    "i.e. the next time the function is called it will process the code within the function exactly as before.\n",
    "\n"
   ]
  },
  {
   "cell_type": "markdown",
   "metadata": {
    "slideshow": {
     "slide_type": "slide"
    }
   },
   "source": [
    "A generator is a special type of function.\n",
    " - They contain the keyword `yield`.\n",
    " - When called, any variables within the function retain their value at the end of the function call. \n",
    " - Values following the keyword `yield` are \"returned\" by the generator function.\n",
    "\n"
   ]
  },
  {
   "cell_type": "markdown",
   "metadata": {
    "slideshow": {
     "slide_type": "slide"
    }
   },
   "source": [
    "Intuitively, generators can be used to increment a value. \n",
    "\n",
    "Let's consider our examlpe from earlier, which incremented a value every time called. "
   ]
  },
  {
   "cell_type": "code",
   "execution_count": 47,
   "metadata": {
    "collapsed": false,
    "slideshow": {
     "slide_type": "slide"
    }
   },
   "outputs": [
    {
     "name": "stdout",
     "output_type": "stream",
     "text": [
      "1 > 0\n",
      "2 > 0\n",
      "3 > 0\n"
     ]
    }
   ],
   "source": [
    "x = 1\n",
    "\n",
    "def process_value(X):\n",
    "    \n",
    "    \"Return a value that depends on the input value x \"\n",
    "    if X > 10:\n",
    "        i = (str(X) + \" > 10\")\n",
    "    elif X > 5:\n",
    "        i = (str(X) + \" > 5\")\n",
    "    elif X > 0:\n",
    "        i = (str(X) + \" > 0\")\n",
    "    else:\n",
    "        i = str(X)\n",
    "    \n",
    "    \"Increment global x by +1 \"\n",
    "    global x\n",
    "    x = X + 1 \n",
    "    \n",
    "    return i    \n",
    "    \n",
    "print(process_value(x))\n",
    "print(process_value(x))\n",
    "print(process_value(x))"
   ]
  },
  {
   "cell_type": "markdown",
   "metadata": {
    "slideshow": {
     "slide_type": "slide"
    }
   },
   "source": [
    "A more concise way to express this is as a generator.\n",
    "1. Use the function definition line as normal\n",
    "1. Initialise the variable(s) you are going to increment.\n",
    "1. Start a while loop. `while True` creates an infinite while loop. <br> The program won't get stuck as it will only execute 1 loop every time the function is called.\n",
    "1. The value to yield each loop.\n",
    "1. The operation to perform each loop\n"
   ]
  },
  {
   "cell_type": "code",
   "execution_count": 48,
   "metadata": {
    "collapsed": true,
    "slideshow": {
     "slide_type": "-"
    }
   },
   "outputs": [],
   "source": [
    "# `def` is used as normal\n",
    "def incr():\n",
    "    \n",
    "    # create an initial value, i\n",
    "    i = 1\n",
    "    \n",
    "    # while loop\n",
    "    while True:\n",
    "        \n",
    "        # the value to return at each call\n",
    "        yield i \n",
    "        \n",
    "        # the operation to perform on i at each call\n",
    "        i += 1  \n"
   ]
  },
  {
   "cell_type": "markdown",
   "metadata": {
    "slideshow": {
     "slide_type": "slide"
    }
   },
   "source": [
    "We create a *generator object* by assigning the generator to a name:"
   ]
  },
  {
   "cell_type": "code",
   "execution_count": 49,
   "metadata": {
    "collapsed": true
   },
   "outputs": [],
   "source": [
    "inc = incr()"
   ]
  },
  {
   "cell_type": "markdown",
   "metadata": {
    "slideshow": {
     "slide_type": "-"
    }
   },
   "source": [
    "The next value can be called using the `next` keyword:"
   ]
  },
  {
   "cell_type": "code",
   "execution_count": 50,
   "metadata": {
    "collapsed": false
   },
   "outputs": [
    {
     "name": "stdout",
     "output_type": "stream",
     "text": [
      "1\n",
      "2\n",
      "3\n"
     ]
    }
   ],
   "source": [
    "print(next(inc))\n",
    "print(next(inc))\n",
    "print(next(inc))\n",
    "\n"
   ]
  },
  {
   "cell_type": "markdown",
   "metadata": {
    "slideshow": {
     "slide_type": "slide"
    }
   },
   "source": [
    "It is not very efficient to print next mulitple times.\n",
    "\n",
    "We can call the generator multiple times using a for loop.\n",
    "\n"
   ]
  },
  {
   "cell_type": "markdown",
   "metadata": {
    "collapsed": true,
    "slideshow": {
     "slide_type": "slide"
    }
   },
   "source": [
    "As the generator contains an infinite while loop, we must specify where the code should stop running to avoid getting trapped in an infinite loop. \n",
    "\n",
    "There is more than one way to do this.\n",
    "\n",
    "Here are two examples..."
   ]
  },
  {
   "cell_type": "code",
   "execution_count": 51,
   "metadata": {
    "collapsed": false,
    "slideshow": {
     "slide_type": "slide"
    }
   },
   "outputs": [
    {
     "name": "stdout",
     "output_type": "stream",
     "text": [
      "4\n",
      "5\n",
      "6\n",
      "7\n",
      "8\n",
      "9\n",
      "10\n",
      "11\n",
      "12\n",
      "13\n"
     ]
    }
   ],
   "source": [
    "# to print the result of the next 10 loops\n",
    "for j in range(10):\n",
    "    print(next(inc))"
   ]
  },
  {
   "cell_type": "code",
   "execution_count": 52,
   "metadata": {
    "collapsed": false,
    "slideshow": {
     "slide_type": "slide"
    }
   },
   "outputs": [
    {
     "name": "stdout",
     "output_type": "stream",
     "text": [
      "14\n",
      "15\n",
      "16\n",
      "17\n",
      "18\n",
      "19\n",
      "20\n"
     ]
    }
   ],
   "source": [
    "# to keep looping until the incremented value exceeds a specified threshold \n",
    "for i in inc: \n",
    "    if i > 20:\n",
    "        break\n",
    "    else:\n",
    "        print(i)"
   ]
  },
  {
   "cell_type": "markdown",
   "metadata": {
    "slideshow": {
     "slide_type": "slide"
    }
   },
   "source": [
    "### The Fibonacci Sequence (Continued)\n",
    "\n",
    "The followig example shows how a generator can be used to produce the Finonacci number sequence. "
   ]
  },
  {
   "cell_type": "code",
   "execution_count": 53,
   "metadata": {
    "collapsed": false,
    "slideshow": {
     "slide_type": "slide"
    }
   },
   "outputs": [
    {
     "name": "stdout",
     "output_type": "stream",
     "text": [
      "22\n",
      "23\n",
      "24\n",
      "0\n",
      "1\n",
      "2\n",
      "4\n",
      "8\n",
      "16\n",
      "32\n",
      "64\n"
     ]
    }
   ],
   "source": [
    "def fibonacci():\n",
    "    # first two values in the sequence\n",
    "    a = 0\n",
    "    b = 1\n",
    "    \n",
    "    # infinite while loop\n",
    "    while True:\n",
    "        \n",
    "        # value to return\n",
    "        yield a \n",
    "        \n",
    "        # new a = old b\n",
    "        a = b\n",
    "        # new b = old a + old b\n",
    "        b = a + b \n",
    "        \n",
    "\n",
    "        \n",
    "# Create a generator object called fib        \n",
    "fib = fibonacci()\n",
    "\n",
    "\n",
    "# Call single loops of the function\n",
    "print(next(inc))\n",
    "print(next(inc))\n",
    "print(next(inc))\n",
    "\n",
    "\n",
    "# Repeatedly call the function until the sequence exceeds 100.\n",
    "for i in fib: \n",
    "    if i > 100:\n",
    "        break\n",
    "    else:\n",
    "        print(i)"
   ]
  },
  {
   "cell_type": "markdown",
   "metadata": {
    "slideshow": {
     "slide_type": "slide"
    }
   },
   "source": [
    "## Extension: Callbacks\n",
    "\n",
    "When we create a function using the `def` keyword we assign it to a function name. \n",
    "<br> e.g. in the function above we assign the name fibonacci:\n",
    "```python\n",
    "def fibonacci():\n",
    "```\n",
    "\n"
   ]
  },
  {
   "cell_type": "markdown",
   "metadata": {
    "slideshow": {
     "slide_type": "slide"
    }
   },
   "source": [
    "We can also create un-named functions using the `lamda` keyword.\n",
    "\n",
    "An un-named function: \n",
    " - may contain a single expression, only\n",
    " - must always return a value\n",
    " \n"
   ]
  },
  {
   "cell_type": "markdown",
   "metadata": {
    "slideshow": {
     "slide_type": "slide"
    }
   },
   "source": [
    "The next example shows the definition of a function and a lamda function.\n",
    "<br> Both perform exactly the same task; computing the value of `x`$^2$.\n",
    "\n",
    "Both can be called using:\n",
    "```python\n",
    "square(5)\n",
    "```\n",
    "with the number in brackets being the value that you want to square. "
   ]
  },
  {
   "cell_type": "code",
   "execution_count": 54,
   "metadata": {
    "collapsed": false
   },
   "outputs": [
    {
     "name": "stdout",
     "output_type": "stream",
     "text": [
      "25\n",
      "25\n"
     ]
    }
   ],
   "source": [
    "# function definition expressed on two lines\n",
    "def square(x):\n",
    "    return x ** 2\n",
    "\n",
    "#function definition expressed on one line\n",
    "def square(x) :  return x ** 2\n",
    "\n",
    "print(square(5))\n",
    "\n",
    "\n",
    "\n",
    "# un-named function\n",
    "square = lambda x : x ** 2\n",
    "    \n",
    "print(square(5))"
   ]
  },
  {
   "cell_type": "markdown",
   "metadata": {
    "collapsed": true,
    "slideshow": {
     "slide_type": "slide"
    }
   },
   "source": [
    "So what is the point of the un-named function? "
   ]
  },
  {
   "cell_type": "markdown",
   "metadata": {
    "slideshow": {
     "slide_type": "slide"
    }
   },
   "source": [
    "\n",
    "- Short functions can be written more concisely.\n",
    "- Funtions can be embedded within main body of the code, for example within a list.\n",
    "- This is not possible with a regular function...\n"
   ]
  },
  {
   "cell_type": "code",
   "execution_count": 55,
   "metadata": {
    "collapsed": false,
    "slideshow": {
     "slide_type": "slide"
    }
   },
   "outputs": [
    {
     "name": "stdout",
     "output_type": "stream",
     "text": [
      "25\n",
      "125\n",
      "625\n"
     ]
    }
   ],
   "source": [
    "# 1. Define functions\n",
    "def function1(x): return x ** 2\n",
    "def function2(x): return x ** 3\n",
    "def function3(x): return x ** 4\n",
    "\n",
    "# 2. Compile list\n",
    "callbacks = [function1, function2, function3]\n",
    "\n",
    "# 3. Call each function\n",
    "for function in callbacks:\n",
    "    print(function(5))"
   ]
  },
  {
   "cell_type": "code",
   "execution_count": 56,
   "metadata": {
    "collapsed": false,
    "slideshow": {
     "slide_type": "slide"
    }
   },
   "outputs": [
    {
     "name": "stdout",
     "output_type": "stream",
     "text": [
      "25\n",
      "125\n",
      "625\n"
     ]
    }
   ],
   "source": [
    "# 1. Define lamda functions within list\n",
    "callbacks = [lambda x : x ** 2, lambda x : x ** 3, lambda x : x ** 4]\n",
    "\n",
    "# 3. Call each function\n",
    "for function in callbacks:\n",
    "    print(function(5))"
   ]
  },
  {
   "cell_type": "markdown",
   "metadata": {
    "collapsed": true,
    "slideshow": {
     "slide_type": "slide"
    }
   },
   "source": [
    "## Review Exercises\n",
    "The following review problems are designed to:\n",
    " - test your understanding of the different techniques for building functions that we have learnt today.\n",
    " - test your ability to use user-defined Pyhton functions to solve the type of engineering problems you will encounter in your studies. "
   ]
  },
  {
   "cell_type": "markdown",
   "metadata": {
    "slideshow": {
     "slide_type": "slide"
    }
   },
   "source": [
    "## Review Exercise: Simple function\n",
    "\n",
    "In the cell below, write a function called `is_odd` that determines if a number is odd by running:\n",
    "\n",
    "```python\n",
    "is_even(n)\n",
    "```\n",
    "\n",
    "__Input:__ `n` (an integer). \n",
    "\n",
    "__Output:__ The function should return:\n",
    " - `True` if the argument is even\n",
    " - `False` if otherwise (i.e. if argument is odd). \n",
    " \n",
    "Include a __documentation string (doc-string)__ to say what your function does.\n",
    "\n",
    "<a href='#DocString'>Jump to Documentation Strings'</a>\n",
    " \n",
    "Print the output of your function for several input values."
   ]
  },
  {
   "cell_type": "code",
   "execution_count": 60,
   "metadata": {
    "collapsed": false
   },
   "outputs": [
    {
     "name": "stdout",
     "output_type": "stream",
     "text": [
      "True\n"
     ]
    }
   ],
   "source": [
    "# A simple function\n",
    "def is_even(n):\n",
    "    return n % 2 == 0\n",
    "\n",
    "def is_odd(n):\n",
    "    \"\"\"\n",
    "    See if n is odd or even.\n",
    "    \"\"\"\n",
    "    return not is_even(n)\n",
    "print(is_odd(5))"
   ]
  },
  {
   "cell_type": "markdown",
   "metadata": {},
   "source": [
    "### Review Excercise: Expressing Calculations as Functions\n",
    "\n",
    "Copy and paste your answer to __Seminar 2, \"Review Exercise: `for` loops and `if`, `else` and `continue` statements\"__ in the cell below.\n",
    "\n",
    "__(A)__ Edit your code to write a function called `square_root` that prints the square root of an input argument by running:\n",
    "\n",
    "```python\n",
    "square_root(n)\n",
    "```\n",
    "\n",
    "__Input:__ `n` (a numeric variable). \n",
    "\n",
    "__Output:__ The function should return the sqaure root of `n`\n",
    "\n",
    "Include a doc-string to say what your function does. \n",
    "\n",
    "<a href='#DocString'>Jump to Documentation Strings'</a> \n",
    "\n",
    "__(B)__ Using your answer to __Seminar 2, \"Review Exercise: `for` loops and `if`, `else` and `continue` statements\"__,  execute the function for the first 25 odd positive integers."
   ]
  },
  {
   "cell_type": "code",
   "execution_count": 61,
   "metadata": {
    "collapsed": true
   },
   "outputs": [],
   "source": [
    "def square_root(n):\n",
    "    return n**0.5"
   ]
  },
  {
   "cell_type": "code",
   "execution_count": 62,
   "metadata": {
    "collapsed": false
   },
   "outputs": [
    {
     "name": "stdout",
     "output_type": "stream",
     "text": [
      "1.0\n",
      "1.7320508075688772\n",
      "2.23606797749979\n",
      "2.6457513110645907\n",
      "3.0\n",
      "3.3166247903554\n",
      "3.605551275463989\n",
      "3.872983346207417\n",
      "4.123105625617661\n",
      "4.358898943540674\n",
      "4.58257569495584\n",
      "4.795831523312719\n",
      "5.0\n",
      "5.196152422706632\n",
      "5.385164807134504\n",
      "5.5677643628300215\n",
      "5.744562646538029\n",
      "5.916079783099616\n",
      "6.082762530298219\n",
      "6.244997998398398\n",
      "6.4031242374328485\n",
      "6.557438524302\n",
      "6.708203932499369\n",
      "6.855654600401044\n",
      "7.0\n"
     ]
    }
   ],
   "source": [
    "# A function to find the square root of an input\n",
    "n_odd = 0\n",
    "for x in range(50):\n",
    "    if x%2 != 0:\n",
    "        n_odd += 1\n",
    "        if n_odd > 25:\n",
    "            break\n",
    "        print(square_root(x))"
   ]
  },
  {
   "cell_type": "code",
   "execution_count": 63,
   "metadata": {
    "collapsed": false
   },
   "outputs": [
    {
     "name": "stdout",
     "output_type": "stream",
     "text": [
      "1.0\n",
      "1.7320508075688772\n",
      "2.23606797749979\n",
      "2.6457513110645907\n",
      "3.0\n",
      "3.3166247903554\n",
      "3.605551275463989\n",
      "3.872983346207417\n",
      "4.123105625617661\n",
      "4.358898943540674\n",
      "4.58257569495584\n",
      "4.795831523312719\n",
      "5.0\n",
      "5.196152422706632\n",
      "5.385164807134504\n",
      "5.5677643628300215\n",
      "5.744562646538029\n",
      "5.916079783099616\n",
      "6.082762530298219\n",
      "6.244997998398398\n",
      "6.4031242374328485\n",
      "6.557438524302\n",
      "6.708203932499369\n",
      "6.855654600401044\n",
      "7.0\n"
     ]
    }
   ],
   "source": [
    "# A function to find the square root of an input\n",
    "n_odd = 0\n",
    "for x in range(50):\n",
    "    if not is_odd(x):\n",
    "        continue\n",
    "    n_odd += 1\n",
    "    if n_odd > 25:\n",
    "        break\n",
    "    print(square_root(x))"
   ]
  },
  {
   "cell_type": "markdown",
   "metadata": {
    "slideshow": {
     "slide_type": "slide"
    }
   },
   "source": [
    "### Review Exercise: Default Arguments\n",
    "\n",
    "The magnitude of a 2D vector (e.g. $x = [x_1, x_2]$):\n",
    "\n",
    "$$\n",
    "|\\mathbf{x}|= \\sqrt{x_1^2 + x_2^2}\n",
    "$$\n",
    "<br>\n",
    "\n",
    "The magnitude of a 3D vector (e.g. $x = [x_1, x_2, x_3]$):\n",
    "\n",
    "$$\n",
    "|\\mathbf{x}|= \\sqrt{x_1^2 + x_2^2 + x_3^2}\n",
    "$$\n",
    "<br>\n",
    "\n",
    "Therefore magnitude of an $n$ dimensional vector can be written\n",
    "\n",
    "$$\n",
    "|\\mathbf{x}|= \\sqrt{x_1^2 + x_2^2 + ... x_n^2} = \\sqrt{\\sum_{i = 1}^{n} (x_{n})^2 }\n",
    "$$\n",
    "\n",
    "\n",
    "__(A)__ In the cell below, write a function called `magnitude` that computes the magnitude of a 2D __or__ a 3D vector.\n",
    "\n",
    "<br>__Input:__ x and y coordinates if vector is 2D. \n",
    "<br> &nbsp; &nbsp; &nbsp; &nbsp;  &nbsp; x, y and z coordinates if vector is 3D. \n",
    "<br>__Output:__ Return the magnitude of the vector.\n",
    "\n",
    "Hint: Refer to the examples of functions that accept different number of arguments, shown in <a href='#DefaultArguments'>Default Arguments.</a> \n",
    "\n",
    "Include a doc-string to say what your function does. \n",
    "\n",
    "__(B)__ Check your function, for example using hand calculations. \n",
    "\n",
    "__(C)__ Print the output of your function to show that it works for both 2D adn 3D input vectors. \n"
   ]
  },
  {
   "cell_type": "code",
   "execution_count": 64,
   "metadata": {
    "collapsed": false
   },
   "outputs": [
    {
     "name": "stdout",
     "output_type": "stream",
     "text": [
      "10.295630140987\n"
     ]
    }
   ],
   "source": [
    "# A function that computes the magnitude of a 2D or 3D vector\n",
    "def magnitude(x, y, z=0):\n",
    "    return square_root(x**2 + y**2 + z**2)\n",
    "print(magnitude(3, 4, 9))"
   ]
  },
  {
   "cell_type": "code",
   "execution_count": 65,
   "metadata": {
    "collapsed": true
   },
   "outputs": [],
   "source": [
    "def magnitude_masa(x, y, z=0):\n",
    "    vector = [x, y, z]\n",
    "    return sum(i**2 for i in vector)**0.5"
   ]
  },
  {
   "cell_type": "markdown",
   "metadata": {},
   "source": [
    "### Review Excercise: Using Functions as Function Arguments. \n",
    "\n",
    "Refer to your answer to __Seminar 3, Review Exercise: `while` loops (bisection)__\n",
    "\n",
    "<img src=\"img/bisection_method_simple.png\" alt=\"Drawing\" style=\"width: 300px;\"/>\n",
    "\n",
    "__(A)__ Express you answer to __Seminar 3, Review Exercise: `while` loops (bisection)__, as a function called `bisection`.<br>\n",
    "The function should compute approximate the root of a function, `F`, by running:\n",
    "\n",
    "`bisection(f, a, b , tol=1e-6, nmax=30)`\n",
    "\n",
    "\n",
    "  - `f` : The function F(x) you wish to find the root of (`F` should first be defined (using `def`)).\n",
    "  - `a` : The minimum of the interval within which the root lies.  \n",
    "  - `b` : The maximum of the interval within which the root lies.  \n",
    "  - `tol` : User defined tolerance. <br> The program determines a root has been found when |F(x$_{mid}$)| < `tol`.\n",
    "  - `nmax` : The maximum number of iterations before the program breaks out of the loop.\n",
    " <br>\n",
    " \n",
    "<a href='#FunctionsAsArguments'>Jump to Functions as Function Arguments. </a>\n",
    "\n",
    " \n",
    "\n",
    "<br>\n",
    "\n",
    "__(A)__ Define F(x) = 4x$^3$ - 3x$^2$ - 25x - 6 using `def`.\n",
    "\n",
    "__(B)__ Use you `bisection` function to find the root of F(x) that lies between a = -0.6  and  b = 0.\n",
    "<br> Use default arguments `tol=1e-6` and `nmax=25`:\n",
    "\n",
    "<br>`f` = `F`\n",
    "<br>`a` = -0.6\n",
    "<br>`b` = 0\n",
    "<br>`tol` = 1 $\\times$10$^{-6}$\n",
    "<br> `nmax` = 25\n",
    "\n",
    "`bisection(f, -0.6, 0 , tol=1e-6, nmax=30)`\n",
    "\n",
    "Compare your answer to your answer to __Seminar 3, Review Exercise: `while` loops (bisection)__.\n",
    "\n",
    "Include a doc-string to say what your function does.\n"
   ]
  },
  {
   "cell_type": "code",
   "execution_count": 106,
   "metadata": {
    "collapsed": false
   },
   "outputs": [
    {
     "name": "stdout",
     "output_type": "stream",
     "text": [
      "-0.25\n"
     ]
    }
   ],
   "source": [
    "# Bisection Function\n",
    "x_a = -0.6\n",
    "x_b = 0\n",
    "\n",
    "\n",
    "def F(x):\n",
    "    return 4*x**3 - 3*x**2 - 25*x - 6\n",
    "    \n",
    "    \n",
    "def bisection(f, x_a, x_b, tol=1e-6, nmax=30):\n",
    "    x_mid = (x_a + x_b)/2\n",
    "\n",
    "    y_a = f(x_a)\n",
    "    y_b = f(x_b)\n",
    "    y_mid = f(x_mid)\n",
    "\n",
    "    if y_a * y_b > 0:\n",
    "        return\n",
    "    elif y_a == 0:\n",
    "        return x_a\n",
    "    elif y_b == 0:\n",
    "        return x_b\n",
    "    \n",
    "    for _ in range(nmax):\n",
    "        if abs(y_mid) <= tol:\n",
    "            break\n",
    "        y_a = f(x_a)\n",
    "        y_b = f(x_b)\n",
    "        y_mid = f(x_mid)\n",
    "\n",
    "        if y_a*y_mid > 0:  # if the product is positive then they have the same sign\n",
    "            x_a = x_mid\n",
    "        elif y_b*y_mid > 0:\n",
    "            x_b = x_mid\n",
    "        # no need for else if the product is equal to zero because zero is less than 1e-6 so the loop ends.\n",
    "        x_mid = (x_a + x_b)/2\n",
    "    return x_mid\n",
    "\n",
    "\n",
    "print(bisection(F, -0.25, -1, nmax=25))"
   ]
  },
  {
   "cell_type": "code",
   "execution_count": 107,
   "metadata": {
    "collapsed": true
   },
   "outputs": [],
   "source": [
    "import numpy as np\n",
    "import matplotlib.pyplot as plt\n",
    "%matplotlib inline"
   ]
  },
  {
   "cell_type": "code",
   "execution_count": 129,
   "metadata": {
    "collapsed": false
   },
   "outputs": [
    {
     "data": {
      "image/png": "[encoded data removed]",
      "text/plain": [
       "<matplotlib.figure.Figure at 0xb48e132da0>"
      ]
     },
     "metadata": {},
     "output_type": "display_data"
    }
   ],
   "source": [
    "# x = np.linspace(-3, 4)\n",
    "y = F(x)\n",
    "\n",
    "fig, ax = plt.subplots()\n",
    "ax.plot(x, y)\n",
    "ax.axhline(0, color='black')\n",
    "ax.axvline(0, color='black')\n",
    "ax.set(\n",
    "    title='F(x)',\n",
    "    xlim=(-2.5, 3.5),\n",
    "    ylim=(-40, 15),\n",
    ")\n",
    "\n",
    "x_root = bisection(F, x_a, x_b)\n",
    "y_root = F(x_root)\n",
    "ax.plot(x_root, y_root, color='C1', marker='o', markersize=10)\n",
    "\n",
    "for root in np.roots((4, -3, -25, -6)):\n",
    "    ax.plot(root, 0, color='C2', marker='s', markersize=7)"
   ]
  },
  {
   "cell_type": "markdown",
   "metadata": {
    "collapsed": true,
    "slideshow": {
     "slide_type": "slide"
    }
   },
   "source": [
    "### Review Excercise:  Recursive Functions\n",
    "\n",
    "The factorial of a positive integer $n$ is:\n",
    "\n",
    "\\begin{align}\n",
    "n! = \\prod_{i=1}^{n} i =1 \\cdot 2 \\cdot 3 \\cdot ... (n - 2) \\cdot (n - 1) \\cdot n\n",
    "\\end{align}\n",
    "\n",
    "We can write this *recursively*.\n",
    "<br>This means we use the value of $(n-1)!$ to compute the value of $n!$:\n",
    "\n",
    "$$\n",
    "n! = (n-1)! n \n",
    "$$\n",
    "\n",
    "Note: $0! = 1$\n",
    " \n",
    "e.g. \n",
    "<br> $1! = 1 \\cdot 0! = 1 $\n",
    "<br> $2! = 2 \\cdot 1! = 2 \\cdot 1 = 2$\n",
    "<br> $3! = 3 \\cdot 2! = 3 \\cdot 2 \\cdot 1 = 6$\n",
    "<br> $4! = 4 \\cdot 3! = 4 \\cdot 3 \\cdot 2 \\cdot 1 = 24$\n",
    "\n",
    "A recursive function is a function that calls itself. \n",
    "<br><a href='#RecursiveFunctions'>Jump to Recursive Functions</a>\n",
    "\n",
    "__(A)__ In the cell below, write a __recursive function__ called `factorial` to compute $n!$ of an input argument `n`:\n",
    "\n",
    "__Input:__ Numerical variable `n`\n",
    "\n",
    "__Output:__ `factorial(n) = factorial(n-1)!*n` \n",
    "<br>\n",
    "<br>\n",
    "\n",
    "Include a doc-string to say what your function does. \n",
    "\n",
    "Test your function for correctness using hand calculations. \n",
    "\n",
    "__(B)__ The formula above only applies to __positive integers__. \n",
    "<br>Include a check to make sure the input value is a positive integer. \n",
    "\n",
    "Show the output of your function for several input values.\n",
    "\n"
   ]
  },
  {
   "cell_type": "code",
   "execution_count": 133,
   "metadata": {
    "collapsed": false
   },
   "outputs": [
    {
     "name": "stdout",
     "output_type": "stream",
     "text": [
      "120\n"
     ]
    }
   ],
   "source": [
    "# A function to compute n! for input n\n",
    "def factorial(n):\n",
    "    if n == 1:\n",
    "        return 1\n",
    "    return factorial(n-1) * n\n",
    "print(factorial(5))"
   ]
  },
  {
   "cell_type": "markdown",
   "metadata": {},
   "source": [
    "# Updating your git repository\n",
    "\n",
    "You have made several changes to your interactive textbook.\n",
    "\n",
    "The final thing we are going to do is add these changes to your online repository so that:\n",
    " - I can check your progress\n",
    " - You can access the changes from outside of the university server. \n",
    " \n",
    " > Save your work.\n",
    " > <br> `git add -A`\n",
    " > <br>`git commit -m \"A short message describing changes\"`\n",
    " > <br>`git push origin master`\n",
    " \n",
    " <br>Refer to supplementary material: __S1_Introduction_to_Version_Control.ipynb__.  "
   ]
  },
  {
   "cell_type": "markdown",
   "metadata": {
    "collapsed": true,
    "slideshow": {
     "slide_type": "slide"
    }
   },
   "source": [
    "# Summary\n",
    " - Functions are defined using the .... keyword.\n",
    " - Functions contain indented statements to execute when the function is called.\n",
    " - Global variables can be used ....(where?)\n",
    " - Local variables can be used ....(where?)\n",
    " - Function arguments (inputs) are declared as a list, between () parentheses, seperated by commas.\n",
    " - Function arguments muct be specified each time a function is called. \n",
    " - Default arguments do not need to be specified when a function is called unless .... \n",
    " - The keyword used to determine what the function outputs is ....\n",
    "\n"
   ]
  },
  {
   "cell_type": "markdown",
   "metadata": {
    "collapsed": true
   },
   "source": [
    " - [An un-named function can be created using the `lamda` keyword.\n",
    " - [A generator function is created when the keyword .... is included in the function block.]\n",
    " - [Varibales in a generator function their state from when the function was last called.]\n",
    " - [The python built in `next()` function can be used to continue execution of a generator function by one iteration.]\n",
    " "
   ]
  },
  {
   "cell_type": "markdown",
   "metadata": {
    "collapsed": true
   },
   "source": [
    "# Homework \n",
    "\n",
    "1. __PULL__ the changes you made in-class today to your personal computer.\n",
    "1. __COMPLETE__ any unfinished Review Exercises.\n",
    "1. __PUSH__ the changes you make at home to your online repository. \n",
    "\n",
    "<br>Refer to supplementary material: __S1_Introduction_to_Version_Control.ipynb__.  \n",
    "\n",
    "In particular, please complete: __Review Excercise: Using Functions as Function Arguments.__. \n",
    "<br>You will need to refer to your answer in next week's Seminar. "
   ]
  }
 ],
 "metadata": {
  "kernelspec": {
   "display_name": "Python 3",
   "language": "python",
   "name": "python3"
  },
  "language_info": {
   "codemirror_mode": {
    "name": "ipython",
    "version": 3
   },
   "file_extension": ".py",
   "mimetype": "text/x-python",
   "name": "python",
   "nbconvert_exporter": "python",
   "pygments_lexer": "ipython3",
   "version": "3.6.0"
  }
 },
 "nbformat": 4,
 "nbformat_minor": 2
}
